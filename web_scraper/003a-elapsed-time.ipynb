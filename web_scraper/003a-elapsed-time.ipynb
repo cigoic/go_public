{
 "cells": [
  {
   "cell_type": "markdown",
   "metadata": {},
   "source": [
    "## Throttle our scraper\n",
    "\n",
    "遵守前述爬蟲禮節，可以減輕伺服器端的負擔。使用爬蟲程式時，如果 robots.txt 中有記載 `Crawl-Delay` 秒數，應優先遵守此規則。如果否，則考慮使用「每一網頁，每隔一秒才送出請求」的規則。\n",
    "\n",
    "* 限速方法：\n",
    "    追蹤每個 HTTP request 的 timestamps, 並確保相隔時間(elapsed time)大於等於我們想要的速率。"
   ]
  },
  {
   "cell_type": "code",
   "execution_count": 1,
   "metadata": {},
   "outputs": [],
   "source": [
    "import (\n",
    "    \"fmt\"\n",
    "    \"log\"\n",
    "    \"net/http\"\n",
    "    \"time\"\n",
    ")"
   ]
  },
  {
   "cell_type": "code",
   "execution_count": 2,
   "metadata": {},
   "outputs": [
    {
     "name": "stdout",
     "output_type": "stream",
     "text": [
      "GET example.com/index.html\n",
      "Spleeping for 5.00(sec)\n",
      "GET example.com/index.html\n",
      "Spleeping for 5.00(sec)\n",
      "GET example.com/index.html\n",
      "Spleeping for 5.00(sec)\n",
      "GET example.com/index.html\n",
      "Spleeping for 5.00(sec)\n",
      "GET example.com/index.html\n",
      "Done! lastReqTime is 2019-08-16 02:13:11.8712837 +0000 UTC m=+34.778607701\n"
     ]
    }
   ],
   "source": [
    "{\n",
    "    var lastReqTime time.Time\n",
    "    maxNumbOfReq := 5\n",
    "    pageDelay := 5 * time.Second\n",
    "    \n",
    "    for i := 0; i < maxNumbOfReq; i++ {\n",
    "        elapsedTime := time.Now().Sub(lastReqTime)\n",
    "        \n",
    "        if elapsedTime < pageDelay {\n",
    "            var timeDiff = pageDelay - elapsedTime\n",
    "            \n",
    "            fmt.Printf(\"Spleeping for %.2f(sec)\\n\", timeDiff.Seconds())\n",
    "            \n",
    "            time.Sleep(timeDiff)\n",
    "        }\n",
    "        \n",
    "        fmt.Println(\"GET example.com/index.html\")\n",
    "        _, err := http.Get(\"http://www.example.com/index.html\")\n",
    "        if err != nil {\n",
    "            log.Fatalln(err)\n",
    "            return\n",
    "        }\n",
    "        \n",
    "        // Update the last request time\n",
    "        lastReqTime = time.Now()\n",
    "    }\n",
    "    fmt.Println(\"Done!\\n lastReqTime is\", lastReqTime)\n",
    "}"
   ]
  },
  {
   "cell_type": "markdown",
   "metadata": {},
   "source": [
    "# [Note] 抓取多個網站\n",
    "\n",
    "如果抓取多個網站，可利用 lastReqTime 搭配 `map` (key-value structure) 來記錄爬取每個網站的時間點。\n",
    "\n",
    "* key: 網站 URL\n",
    "* value: timestamp for the last request"
   ]
  },
  {
   "cell_type": "markdown",
   "metadata": {},
   "source": [
    "```go\n",
    "var lastReqTime = map[string]time.Time{\n",
    "    \"example.com\": time.Time{},\n",
    "    \"packtpub.com\": time.Time{},\n",
    "}\n",
    "```"
   ]
  },
  {
   "cell_type": "markdown",
   "metadata": {},
   "source": [
    "同時， for loop 內容也需調整：\n",
    "\n",
    "```go\n",
    "if i % 2 == 0 {\n",
    "    webpage = pktPage\n",
    "    elapsedTime = time.Now().Sub(lastReqTime[\"packtpub.com\"])\n",
    "} else {\n",
    "    elapsedTime = time.Now().Sub(lastReqTime[\"example.com\"])\n",
    "}\n",
    "```"
   ]
  },
  {
   "cell_type": "code",
   "execution_count": 18,
   "metadata": {},
   "outputs": [
    {
     "name": "stdout",
     "output_type": "stream",
     "text": [
      "GET https://www.packtpub.com\n",
      "GET http://www.example.com/index.html\n",
      "Spleeping for 4.24(sec)\n",
      "GET https://www.packtpub.com\n",
      "GET http://www.example.com/index.html\n",
      "Spleeping for 2.54(sec)\n",
      "GET https://www.packtpub.com\n",
      "Done!\n",
      " lastReqTime from packtpub.com is 2019-08-16 02:57:31.5496663 +0000 UTC m=+1272.084318401\n"
     ]
    }
   ],
   "source": [
    "{\n",
    "    var lastReqTime map[string]time.Time = map[string]time.Time{\n",
    "        \"example.com\": time.Time{},\n",
    "        \"packtpub.com\": time.Time{},\n",
    "    }\n",
    "    maxNumbOfReq := 5\n",
    "    pageDelay := 5 * time.Second\n",
    "    exPage := \"http://www.example.com/index.html\"\n",
    "    pktPage := \"https://www.packtpub.com\"\n",
    "    \n",
    "    for i := 0; i < maxNumbOfReq; i++ {\n",
    "        var elapsedTime time.Duration\n",
    "        webpage := exPage\n",
    "        \n",
    "        if i % 2 == 0 {\n",
    "            webpage = pktPage\n",
    "            elapsedTime = time.Now().Sub(lastReqTime[\"packtpub.com\"])\n",
    "        } else {\n",
    "            elapsedTime = time.Now().Sub(lastReqTime[\"example.com\"])\n",
    "        }\n",
    "        \n",
    "        if elapsedTime < pageDelay {\n",
    "            var timeDiff = pageDelay - elapsedTime\n",
    "            \n",
    "            fmt.Printf(\"Spleeping for %.2f(sec)\\n\", timeDiff.Seconds())\n",
    "            \n",
    "            time.Sleep(timeDiff)\n",
    "        }       \n",
    "        \n",
    "        \n",
    "        fmt.Println(\"GET\", webpage)\n",
    "        _, err := http.Get(webpage)\n",
    "        if err != nil {\n",
    "            log.Fatalln(err)\n",
    "            return\n",
    "        }\n",
    "        \n",
    "        // Update the last request time\n",
    "        if i % 2 == 0 {\n",
    "            lastReqTime[\"packtpub.com\"] = time.Now()\n",
    "        } else {\n",
    "            lastReqTime[\"example.com\"] = time.Now()\n",
    "        }\n",
    "\n",
    "        if i >= maxNumbOfReq-1 {\n",
    "            if i % 2 == 0 {\n",
    "                fmt.Println(\"Done!\\n lastReqTime from packtpub.com is\", lastReqTime[\"packtpub.com\"])\n",
    "            } else {\n",
    "                fmt.Println(\"Done!\\n lastReqTime from example.com is\", lastReqTime[\"example.com\"])\n",
    "            }\n",
    "        }\n",
    "    }\n",
    "}"
   ]
  },
  {
   "cell_type": "code",
   "execution_count": null,
   "metadata": {},
   "outputs": [],
   "source": []
  }
 ],
 "metadata": {
  "kernelspec": {
   "display_name": "Go (lgo)",
   "language": "go",
   "name": "lgo"
  },
  "language_info": {
   "file_extension": "",
   "mimetype": "",
   "name": "go",
   "version": ""
  }
 },
 "nbformat": 4,
 "nbformat_minor": 2
}
