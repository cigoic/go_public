{
 "cells": [
  {
   "cell_type": "markdown",
   "metadata": {},
   "source": [
    "# Parsing HTML\n",
    "\n",
    "## HTML format\n",
    "\n",
    "```html\n",
    "<html>\n",
    "    <head>...</head>\n",
    "    <body>\n",
    "        <div>...</div>\n",
    "    </body>\n",
    "    <umsdataelement id=\"UMSSendDataEventElement\"></umsdataelement>\n",
    "</html>\n",
    "```\n",
    "\n",
    "* Syntax\n",
    "* Structure\n",
    "\n",
    "Find more at https://www.w3schools.com/html/\n",
    "\n",
    "## Searching using the strings package\n",
    "\n",
    "* The `strings` package in Go\n",
    "* 允許我們針對字串物件進行操作，如：\n",
    "\n",
    "    * searching for matches\n",
    "    * counting occurrences\n",
    "    * splitting strings into arrays\n"
   ]
  },
  {
   "cell_type": "markdown",
   "metadata": {},
   "source": [
    "### Example – Counting links\n",
    "\n",
    "`strings.Count(...)` method:\n",
    "\n",
    "⇒ Count counts the number of non-overlapping instances of substr in s. \n",
    "\n",
    "⇒ If substr is an empty string, Count returns 1 + the number of Unicode code points in s.\n",
    "\n",
    "```go\n",
    "fmt.Println(strings.Count(\"cheese\", \"e\"))\n",
    "fmt.Println(strings.Count(\"five\", \"\")) // before & after each rune\n",
    "\n",
    "// Output:\n",
    "3\n",
    "5\n",
    "```"
   ]
  },
  {
   "cell_type": "code",
   "execution_count": 1,
   "metadata": {},
   "outputs": [],
   "source": [
    "import(\n",
    "    \"fmt\"\n",
    "    \"log\"\n",
    "    \"io/ioutil\"\n",
    "    \"net/http\"\n",
    "    \"strings\" \n",
    ")"
   ]
  },
  {
   "cell_type": "code",
   "execution_count": 2,
   "metadata": {},
   "outputs": [
    {
     "name": "stdout",
     "output_type": "stream",
     "text": [
      "Coursera homepage has 128 links!\n"
     ]
    }
   ],
   "source": [
    "{\n",
    "    r, err := http.Get(\"https://www.coursera.org\")\n",
    "    if err != nil {\n",
    "        log.Fatalln(err)\n",
    "    }\n",
    "    \n",
    "    data, err := ioutil.ReadAll(r.Body)\n",
    "    if err != nil {\n",
    "        log.Fatalln(err)\n",
    "    }\n",
    "    \n",
    "    strBody := string(data)\n",
    "    numLinks := strings.Count(strBody, \"<a\")\n",
    "    fmt.Printf(\"Coursera homepage has %d links!\\n\", numLinks) \n",
    "}"
   ]
  },
  {
   "cell_type": "markdown",
   "metadata": {},
   "source": [
    "### Example – Doctype check\n",
    "\n",
    "`strings.Contains()` method:\n",
    "\n",
    "⇒ Contains reports whether substr is within s.\n",
    "\n",
    "```go\n",
    "fmt.Println(strings.Contains(\"seafood\", \"foo\"))\n",
    "fmt.Println(strings.Contains(\"seafood\", \"bar\"))\n",
    "fmt.Println(strings.Contains(\"seafood\", \"\"))\n",
    "fmt.Println(strings.Contains(\"\", \"\"))\n",
    "\n",
    "// Output:\n",
    "true\n",
    "false\n",
    "true\n",
    "true\n",
    "```"
   ]
  },
  {
   "cell_type": "code",
   "execution_count": 7,
   "metadata": {},
   "outputs": [
    {
     "name": "stdout",
     "output_type": "stream",
     "text": [
      "網頁為 HTML5\n"
     ]
    }
   ],
   "source": [
    "{\n",
    "//     r, err := http.Get(\"https://www.coursera.org/robots.txt\")\n",
    "    r, err := http.Get(\"https://www.coursera.org\")\n",
    "    if err != nil {\n",
    "        log.Fatalln(err)\n",
    "    }\n",
    "    \n",
    "    data, err := ioutil.ReadAll(r.Body)\n",
    "    if err != nil {\n",
    "        log.Fatalln(err)\n",
    "    }\n",
    "    \n",
    "    strBody := strings.ToLower(string(data))\n",
    "    \n",
    "    if strings.Contains(strBody, \"<!doctype html>\") {\n",
    "        \n",
    "        fmt.Println(\"網頁為 HTML5\")\n",
    "        \n",
    "    } else if strings.Contains(strBody, \"html/strict.dtd\") {\n",
    "        \n",
    "        fmt.Println(\"網頁為 HTML4 (Strict)\")\n",
    "\n",
    "    } else if strings.Contains(strBody, \"html/loose.dtd\") {\n",
    "        \n",
    "        fmt.Println(\"網頁為 HTML4 (Tranistional)\")\n",
    "        \n",
    "    } else if strings.Contains(strBody, \"html/frameset.dtd\") {\n",
    "        \n",
    "        fmt.Println(\"網頁為 HTML4 (Frameset)\")\n",
    "        \n",
    "    } else {\n",
    "        \n",
    "        fmt.Println(\"無法偵測 doctype!\")\n",
    "        \n",
    "    }\n",
    "}"
   ]
  },
  {
   "cell_type": "markdown",
   "metadata": {},
   "source": [
    "## Searching using the regexp package\n",
    "\n",
    "使用正規表達式來進行搜尋。\n",
    "\n",
    "### Example – Finding links\n",
    "\n",
    "利用下述表達式來獲取真實連結：\n",
    "\n",
    "    <a.*href\\s*=\\s*[\"'](http[s]{0,1}:\\/\\/.[^\\s]*)[\"'].*> \n",
    "\n",
    "我們預期能找出在所有 `<a>` 標籤中，看起來像 URL 的字串。"
   ]
  },
  {
   "cell_type": "code",
   "execution_count": 2,
   "metadata": {},
   "outputs": [],
   "source": [
    "import(\n",
    "    \"regexp\" \n",
    ")"
   ]
  },
  {
   "cell_type": "code",
   "execution_count": 9,
   "metadata": {},
   "outputs": [
    {
     "name": "stdout",
     "output_type": "stream",
     "text": [
      "找到 3 個連結:\n",
      "https://www.coursera.org/specializations/machine-learning-algorithms-real-world?utm_source=banners&amp;utm_medium=coursera&amp;utm_content=logged-out&amp;utm_campaign=2019aug-mlalgorithms-amii\n",
      "https://www.coursera.org/business/?utm_campaign=website&amp;utm_content=banner-from-b2c-home&amp;utm_medium=coursera&amp;utm_source=enterprise\n",
      "https://www.coursera.org/degrees/mcit-penn\n"
     ]
    }
   ],
   "source": [
    "{\n",
    "    r, err := http.Get(\"https://www.coursera.org\")\n",
    "    if err != nil {\n",
    "        log.Fatalln(err)\n",
    "    }\n",
    "    \n",
    "    data, err := ioutil.ReadAll(r.Body)\n",
    "    if err != nil {\n",
    "        log.Fatalln(err)\n",
    "    }\n",
    "    \n",
    "    strBody := strings.ToLower(string(data))\n",
    "    \n",
    "    re := regexp.MustCompile(`<a.*href\\s*=\\s*[\"'](http[s]{0,1}:\\/\\/.[^\\s]*)[\"'].*>`)\n",
    "    linkMatches := re.FindAllStringSubmatch(strBody, -1)\n",
    "    \n",
    "    fmt.Printf(\"找到 %d 個連結:\\n\", len(linkMatches))\n",
    "    \n",
    "    for _, linkGroup := range linkMatches {\n",
    "        fmt.Println(linkGroup[1])\n",
    "    }\n",
    "}"
   ]
  },
  {
   "cell_type": "markdown",
   "metadata": {},
   "source": [
    "### Example – Finding prices\n",
    "\n",
    "使用正規表示式搜尋價格"
   ]
  },
  {
   "cell_type": "code",
   "execution_count": 57,
   "metadata": {},
   "outputs": [
    {
     "name": "stdout",
     "output_type": "stream",
     "text": [
      "售價: $12.00\n"
     ]
    }
   ],
   "source": [
    "{\n",
    "    r, err := http.Get(\"https://www.packtpub.com/application-development/hands-go-programming\")\n",
    "    if err != nil {\n",
    "        log.Fatalln(err)\n",
    "    }\n",
    "    \n",
    "    data, err := ioutil.ReadAll(r.Body)\n",
    "    if err != nil {\n",
    "        log.Fatalln(err)\n",
    "    }\n",
    "    \n",
    "    strBody := strings.ToLower(string(data))\n",
    "\n",
    "    re := regexp.MustCompile(`<span class=\"price\">*(\\$[0-9]*\\.[0-9]{0,2})`)\n",
    "    priceMatches := re.FindStringSubmatch(strBody)\n",
    "    \n",
    "    // Try: 列印 priceMatches[0] 看看有何不同？\n",
    "    fmt.Printf(\"售價: %s\\n\", priceMatches[1])\n",
    "}"
   ]
  },
  {
   "cell_type": "markdown",
   "metadata": {},
   "source": [
    "## Searching using XPath queries\n",
    "\n",
    "XPath 全名為 XML Path Language, 即 XML 路徑語言，用於查詢 XML 文件中資訊的語言。\n",
    "\n",
    "HTML 雖然不全然與 XML 相容，亦是相似結構的文檔，因此可用 XPath 來進行搜尋。\n",
    "\n",
    "使用 XPath queries 如：`//a/@href` 瀏覽 HTML 文件結構，找到 `<a>` 標籤節點，取得其屬性。\n",
    "\n",
    "參考：https://www.w3.org/TR/xpath/\n",
    "\n",
    "### Example – Daily deals\n",
    "\n",
    "使用套件：\n",
    "\n",
    "    go get github.com/antchfx/htmlquery\n",
    "    [推薦使用] go get -u github.com/storyicon/graphquery\n",
    "    go get github.com/PuerkitoBio/goquery"
   ]
  },
  {
   "cell_type": "code",
   "execution_count": 59,
   "metadata": {},
   "outputs": [
    {
     "name": "stderr",
     "output_type": "stream",
     "text": [
      "found packages not installed in LGOPATH: [github.com/antchfx/htmlquery]\n",
      "(1/22) installed \"github.com/antchfx/xpath\"\n",
      "(2/22) installed \"golang.org/x/net/html/atom\"\n",
      "(3/22) installed \"golang.org/x/net/html\"\n",
      "(4/22) installed \"golang.org/x/text/encoding/internal/identifier\"\n",
      "(5/22) installed \"golang.org/x/text/transform\"\n",
      "(6/22) installed \"golang.org/x/text/encoding\"\n",
      "(7/22) installed \"golang.org/x/text/encoding/internal\"\n",
      "(8/22) installed \"golang.org/x/text/encoding/charmap\"\n",
      "(9/22) installed \"golang.org/x/text/encoding/japanese\"\n",
      "(10/22) installed \"golang.org/x/text/encoding/korean\"\n",
      "(11/22) installed \"golang.org/x/text/encoding/simplifiedchinese\"\n",
      "(12/22) installed \"golang.org/x/text/encoding/traditionalchinese\"\n",
      "(13/22) installed \"golang.org/x/text/internal/utf8internal\"\n",
      "(14/22) installed \"golang.org/x/text/runes\"\n",
      "(15/22) installed \"golang.org/x/text/encoding/unicode\"\n",
      "(16/22) installed \"golang.org/x/text/internal/tag\"\n",
      "(17/22) installed \"golang.org/x/text/internal/language\"\n",
      "(18/22) installed \"golang.org/x/text/internal/language/compact\"\n",
      "(19/22) installed \"golang.org/x/text/language\"\n",
      "(20/22) installed \"golang.org/x/text/encoding/htmlindex\"\n",
      "(21/22) installed \"golang.org/x/net/html/charset\"\n",
      "(22/22) installed \"github.com/antchfx/htmlquery\"\n"
     ]
    }
   ],
   "source": [
    "import (\n",
    "    \"strings\"\n",
    "    \"github.com/antchfx/htmlquery\"\n",
    ")"
   ]
  },
  {
   "cell_type": "code",
   "execution_count": 106,
   "metadata": {},
   "outputs": [
    {
     "name": "stdout",
     "output_type": "stream",
     "text": [
      "今日免費書\n",
      "==============================================\n"
     ]
    }
   ],
   "source": [
    "// TODO::\n",
    "{\n",
    "    doc, err := htmlquery.LoadURL(\"https://www.packtpub.com/free-learning\")\n",
    "    if err != nil {\n",
    "        log.Fatalln(err)\n",
    "    }\n",
    "\n",
    "    dealTextNodes := htmlquery.Find(doc, `//*[@id=\"free-learning-dropin\"]/div[1]/div/div[1]/div/div/div[2]//text()`)\n",
    "    \n",
    "    fmt.Println(\"今日免費書\")\n",
    "    fmt.Println(\"==============================================\")\n",
    "    \n",
    "    for _, node := range dealTextNodes {\n",
    "        \n",
    "        text := strings.TrimSpace(node.Data)\n",
    "        \n",
    "        matchTagNames, _ := regexp.Compile(\"^(div|span|h2|br|ul|li)$\")\n",
    "        text = matchTagNames.ReplaceAllString(text,\"\")\n",
    "        if text != \"\" {\n",
    "            fmt.Println(text)\n",
    "        } else {\n",
    "            fmt.Println(\"No Free Books available!\")\n",
    "        }\n",
    "    }\n",
    "}"
   ]
  },
  {
   "cell_type": "markdown",
   "metadata": {},
   "source": [
    "### Example – Collecting products\n",
    "\n",
    "use an XPath query to retrieve the latest releases from the Packt Publishing website. On this web page, there are a series of `<div>` tags that contain more `<div>` tags, which will eventually lead to our information. Each of these `<div>` tags hold an attribute called class, which describes what the purpose of the node is. In particular, we are concerned with the landing-page-row class. The book-related `<div>` tags within the landing-page-row class have an attribute called itemtype, which tells us that the div is for a book and should contain other attributes holding the names and prices. It would not be possible to achieve this with the strings package, and a regular expression would be very laborious to design.\n",
    "\n"
   ]
  },
  {
   "cell_type": "code",
   "execution_count": 108,
   "metadata": {},
   "outputs": [],
   "source": [
    "import \"strconv\""
   ]
  },
  {
   "cell_type": "code",
   "execution_count": 144,
   "metadata": {},
   "outputs": [
    {
     "name": "stdout",
     "output_type": "stream",
     "text": [
      "最新書籍\n",
      "==============================================\n"
     ]
    }
   ],
   "source": [
    "// TODO :: Fail. DEBUG\n",
    "{\n",
    "    //doc, err := htmlquery.LoadURL(\"https://www.packtpub.com/latest-releases\")\n",
    "    doc, err := htmlquery.LoadURL(\"https://www.amazon.com/s/browse?_encoding=UTF8&node=283155&ref_=nav_shopall-export_nav_mw_sbd_intl_books\")\n",
    "    if err != nil {\n",
    "        log.Fatalln(err)\n",
    "    }\n",
    "    \n",
    "    //nodes := htmlquery.Find(doc, `//div[@class=\"landing-page-rowcf\"]/div[@itemtype=\"http://schema.org/Product\"]`)\n",
    "    nodes := htmlquery.Find(doc, `//*[@id=\"maincontent\"]/div[4]/div/div[3]/text()`)\n",
    "    fmt.Println(\"最新書籍\")\n",
    "    fmt.Println(\"==============================================\")\n",
    "    \n",
    "    for _, node := range nodes {\n",
    "        var title string\n",
    "        var price float64\n",
    "        \n",
    "        for _, attribute := range node.Attr {\n",
    "            fmt.Println(attribute.Key)\n",
    "            /*\n",
    "            switch attribute.Key {\n",
    "            case \"data-product-title\":\n",
    "                title = attribute.Val\n",
    "            case \"data-product-price\":\n",
    "                price, err = strconv.ParseFloat(attribute.Val, 64)\n",
    "                if err != nil {\n",
    "                    fmt.Println(\"Failed to parse price\")\n",
    "                }\n",
    "            }\n",
    "            */\n",
    "        }\n",
    "        fmt.Printf(\"%s ($%0.2f)\\n\", title, price)\n",
    "    }\n",
    "}"
   ]
  },
  {
   "cell_type": "markdown",
   "metadata": {},
   "source": [
    "## Searching using Cascading Style Sheets selectors"
   ]
  },
  {
   "cell_type": "code",
   "execution_count": null,
   "metadata": {},
   "outputs": [],
   "source": []
  }
 ],
 "metadata": {
  "kernelspec": {
   "display_name": "Go (lgo)",
   "language": "go",
   "name": "lgo"
  },
  "language_info": {
   "file_extension": "",
   "mimetype": "",
   "name": "go",
   "version": ""
  }
 },
 "nbformat": 4,
 "nbformat_minor": 2
}
