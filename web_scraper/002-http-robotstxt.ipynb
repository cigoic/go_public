{
 "cells": [
  {
   "cell_type": "markdown",
   "metadata": {},
   "source": [
    "# Web Scraping 禮節\n",
    "\n",
    "## robots.txt\n",
    "\n",
    "文字檔，裡頭紀錄著一行一行的存取權限規則，用來告知搜尋引擎、或爬蟲程式，可抓取哪些檔案(夾)。\n",
    "\n",
    "通常置於網站根目錄底下，如：https://www.coursera.org/robots.txt\n",
    "\n",
    "內容長得像這樣：\n",
    "\n",
    "```\n",
    "User-agent: *\n",
    "Allow: /api/utilities/v1/imageproxy\n",
    "Disallow: /maestro/api/\n",
    "Disallow: /api/\n",
    "Disallow: /maestro/\n",
    "Disallow: /ui/\n",
    "Disallow: /signature/voucher/\n",
    "Disallow: /account/email_verify/\n",
    "Disallow: /acclaimbadge/\n",
    "Disallow: /voucher/\n",
    "Sitemap: https://www.coursera.org/sitemap.xml\n",
    "```\n",
    "\n",
    "### directives\n",
    "\n",
    "* `User-agent: *` 表示「任何瀏覽器」需遵守以下規則。\n",
    "* `Allow: ...` 允許存取的路徑\n",
    "* `Disallow: ...` 不允許存取的路徑\n",
    "* `Crawl-delay: 2` 表示爬蟲程式必須遵守「每隔兩秒以上」才能請求再次抓取同一網頁的規則。\n",
    "\n",
    "## User-Agent string\n",
    "\n",
    "    * Mozilla/5.0 (X11; Linux x86_64; rv:57.0) Gecko/20100101 Firefox/57.0\n",
    "    * cURL: curl/7.47.0\n",
    "    * Go: Go-http-client/1.1\n",
    "    * Java: Apache-HttpClient/4.5.2\n",
    "    * Googlebot(for images): Googlebot-Image/1.0\n",
    "\n",
    "當我們發送 HTTP Request 的時候，會夾帶此字串，告知伺服端我們使用的瀏覽器版本：\n",
    "\n",
    "    GET /index.html HTTP/1.1\n",
    "    Host: example.com\n",
    "    User-Agent: Mozilla/5.0 (X11; Linux x86_64; rv:57.0) Gecko/20100101 Firefox/57.0\n",
    "\n",
    "## 套件\n",
    "\n",
    "    go get github.com/temoto/robotstxt\n"
   ]
  },
  {
   "cell_type": "code",
   "execution_count": 2,
   "metadata": {},
   "outputs": [
    {
     "name": "stderr",
     "output_type": "stream",
     "text": [
      "found packages not installed in LGOPATH: [github.com/temoto/robotstxt]\n",
      "(1/1) installed \"github.com/temoto/robotstxt\"\n"
     ]
    }
   ],
   "source": [
    "import (\n",
    "    \"fmt\"\n",
    "    \"log\"\n",
    "    \"net/http\"\n",
    "    \"github.com/temoto/robotstxt\"\n",
    ")"
   ]
  },
  {
   "cell_type": "code",
   "execution_count": 3,
   "metadata": {},
   "outputs": [
    {
     "name": "stdout",
     "output_type": "stream",
     "text": [
      "checking /learn...\n",
      "OK\n",
      "checking /courses...\n",
      "OK\n",
      "checking /api/utilities/v1/imageproxy...\n",
      "OK\n",
      "checking /ui/...\n",
      "X\n",
      "checking /api/...\n",
      "X\n",
      "checking /maestro/api/...\n",
      "X\n"
     ]
    }
   ],
   "source": [
    "{\n",
    "    rsp, err := http.Get(\"https://www.coursera.org/robots.txt\")\n",
    "    if err != nil {\n",
    "        log.Fatalln(err)\n",
    "        return\n",
    "    }\n",
    "    \n",
    "    data, err := robotstxt.FromResponse(rsp)\n",
    "    if err != nil {\n",
    "        log.Fatalln(err)\n",
    "        return\n",
    "    }\n",
    "    \n",
    "    grp := data.FindGroup(\"Go-http-client/1.1\")\n",
    "    if grp != nil {\n",
    "        testUrls := []string{\n",
    "            \"/learn\",\n",
    "            \"/courses\",\n",
    "            \"/api/utilities/v1/imageproxy\",\n",
    "            \n",
    "            // These paths are not accessable\n",
    "            \"/ui/\",\n",
    "            \"/api/\",\n",
    "            \"/maestro/api/\",\n",
    "        }\n",
    "        \n",
    "        for _, url := range testUrls {\n",
    "            fmt.Println(\"checking \" + url + \"...\")\n",
    "            \n",
    "            if grp.Test(url) == true {\n",
    "                fmt.Println(\"OK\")\n",
    "            } else {\n",
    "                fmt.Println(\"X\")\n",
    "            }\n",
    "        }\n",
    "    }\n",
    "}"
   ]
  }
 ],
 "metadata": {
  "kernelspec": {
   "display_name": "Go (lgo)",
   "language": "go",
   "name": "lgo"
  },
  "language_info": {
   "file_extension": "",
   "mimetype": "",
   "name": "go",
   "version": ""
  }
 },
 "nbformat": 4,
 "nbformat_minor": 2
}
