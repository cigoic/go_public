{
 "cells": [
  {
   "cell_type": "markdown",
   "metadata": {},
   "source": [
    "# Machine Learning in Go\n",
    "\n",
    "### CSV"
   ]
  },
  {
   "cell_type": "code",
   "execution_count": 11,
   "metadata": {},
   "outputs": [],
   "source": [
    "import (\n",
    "    \"os\"\n",
    "    \"fmt\"\n",
    "    \"encoding/csv\"\n",
    "    \"strconv\"\n",
    ")"
   ]
  },
  {
   "cell_type": "code",
   "execution_count": 12,
   "metadata": {},
   "outputs": [
    {
     "name": "stdout",
     "output_type": "stream",
     "text": [
      "1461\n",
      "strconv.Atoi: parsing \"Id\": invalid syntax\n",
      "1460\n"
     ]
    }
   ],
   "source": [
    "{\n",
    "    f, err := os.Open(\"train.csv\")\n",
    "    if err != nil {\n",
    "        fmt.Println(err)\n",
    "    }\n",
    "    defer f.Close()\n",
    "    \n",
    "    r := csv.NewReader(f)\n",
    "    records, err := r.ReadAll()\n",
    "    if err != nil {\n",
    "        fmt.Println(err)\n",
    "    }\n",
    "    \n",
    "    fmt.Println(len(records))\n",
    "    var intMax int\n",
    "    for _, record := range records {\n",
    "        intVal, err := strconv.Atoi(record[0])\n",
    "        if err != nil {\n",
    "            fmt.Println(err)\n",
    "        }\n",
    "        \n",
    "        if intVal > intMax {\n",
    "            intMax = intVal\n",
    "        }\n",
    "    }\n",
    "    fmt.Println(intMax)\n",
    "}"
   ]
  },
  {
   "cell_type": "code",
   "execution_count": null,
   "metadata": {},
   "outputs": [],
   "source": []
  },
  {
   "cell_type": "markdown",
   "metadata": {},
   "source": [
    "### Vector/Matrix/Plot"
   ]
  },
  {
   "cell_type": "code",
   "execution_count": null,
   "metadata": {},
   "outputs": [],
   "source": []
  }
 ],
 "metadata": {
  "kernelspec": {
   "display_name": "Go (lgo)",
   "language": "go",
   "name": "lgo"
  },
  "language_info": {
   "file_extension": "",
   "mimetype": "",
   "name": "go",
   "version": ""
  }
 },
 "nbformat": 4,
 "nbformat_minor": 2
}
