{
 "cells": [
  {
   "cell_type": "markdown",
   "metadata": {},
   "source": [
    "# Machine Learning in Go\n",
    "\n",
    "### Reading in CSV data"
   ]
  },
  {
   "cell_type": "code",
   "execution_count": 1,
   "metadata": {},
   "outputs": [],
   "source": [
    "import (\n",
    "    \"encoding/csv\"\n",
    "    \"fmt\"\n",
    "    \"os\"\n",
    "    \"io\"\n",
    "    \"strconv\"\n",
    "    \"log\"\n",
    ")"
   ]
  },
  {
   "cell_type": "code",
   "execution_count": 2,
   "metadata": {},
   "outputs": [
    {
     "name": "stdout",
     "output_type": "stream",
     "text": [
      "[[5.1 3.5 1.4 0.2 Iris-setosa] [4.9 3.0 1.4 0.2 Iris-setosa] [4.7 3.2 1.3 0.2 Iris-setosa] [4.6 3.1 1.5 0.2 Iris-setosa] [5.0 3.6 1.4 0.2 Iris-setosa] [5.4 3.9 1.7 0.4 Iris-setosa] [4.6 3.4 1.4 0.3 Iris-setosa] [5.0 3.4 1.5 0.2 Iris-setosa] [4.4 2.9 1.4 0.2 Iris-setosa] [4.9 3.1 1.5 0.1 Iris-setosa] [5.4 3.7 1.5 0.2 Iris-setosa] [4.8 3.4 1.6 0.2 Iris-setosa] [4.8 3.0 1.4 0.1 Iris-setosa] [4.3 3.0 1.1 0.1 Iris-setosa] [5.8 4.0 1.2 0.2 Iris-setosa] [5.7 4.4 1.5 0.4 Iris-setosa] [5.4 3.9 1.3 0.4 Iris-setosa] [5.1 3.5 1.4 0.3 Iris-setosa] [5.7 3.8 1.7 0.3 Iris-setosa] [5.1 3.8 1.5 0.3 Iris-setosa] [5.4 3.4 1.7 0.2 Iris-setosa] [5.1 3.7 1.5 0.4 Iris-setosa] [4.6 3.6 1.0 0.2 Iris-setosa] [5.1 3.3 1.7 0.5 Iris-setosa] [4.8 3.4 1.9 0.2 Iris-setosa] [5.0 3.0 1.6 0.2 Iris-setosa] [5.0 3.4 1.6 0.4 Iris-setosa] [5.2 3.5 1.5 0.2 Iris-setosa] [5.2 3.4 1.4 0.2 Iris-setosa] [4.7 3.2 1.6 0.2 Iris-setosa] [4.8 3.1 1.6 0.2 Iris-setosa] [5.4 3.4 1.5 0.4 Iris-setosa] [5.2 4.1 1.5 0.1 Iris-setosa] [5.5 4.2 1.4 0.2 Iris-setosa] [4.9 3.1 1.5 0.1 Iris-setosa] [5.0 3.2 1.2 0.2 Iris-setosa] [5.5 3.5 1.3 0.2 Iris-setosa] [4.9 3.1 1.5 0.1 Iris-setosa] [4.4 3.0 1.3 0.2 Iris-setosa] [5.1 3.4 1.5 0.2 Iris-setosa] [5.0 3.5 1.3 0.3 Iris-setosa] [4.5 2.3 1.3 0.3 Iris-setosa] [4.4 3.2 1.3 0.2 Iris-setosa] [5.0 3.5 1.6 0.6 Iris-setosa] [5.1 3.8 1.9 0.4 Iris-setosa] [4.8 3.0 1.4 0.3 Iris-setosa] [5.1 3.8 1.6 0.2 Iris-setosa] [4.6 3.2 1.4 0.2 Iris-setosa] [5.3 3.7 1.5 0.2 Iris-setosa] [5.0 3.3 1.4 0.2 Iris-setosa] [7.0 3.2 4.7 1.4 Iris-versicolor] [6.4 3.2 4.5 1.5 Iris-versicolor] [6.9 3.1 4.9 1.5 Iris-versicolor] [5.5 2.3 4.0 1.3 Iris-versicolor] [6.5 2.8 4.6 1.5 Iris-versicolor] [5.7 2.8 4.5 1.3 Iris-versicolor] [6.3 3.3 4.7 1.6 Iris-versicolor] [4.9 2.4 3.3 1.0 Iris-versicolor] [6.6 2.9 4.6 1.3 Iris-versicolor] [5.2 2.7 3.9 1.4 Iris-versicolor] [5.0 2.0 3.5 1.0 Iris-versicolor] [5.9 3.0 4.2 1.5 Iris-versicolor] [6.0 2.2 4.0 1.0 Iris-versicolor] [6.1 2.9 4.7 1.4 Iris-versicolor] [5.6 2.9 3.6 1.3 Iris-versicolor] [6.7 3.1 4.4 1.4 Iris-versicolor] [5.6 3.0 4.5 1.5 Iris-versicolor] [5.8 2.7 4.1 1.0 Iris-versicolor] [6.2 2.2 4.5 1.5 Iris-versicolor] [5.6 2.5 3.9 1.1 Iris-versicolor] [5.9 3.2 4.8 1.8 Iris-versicolor] [6.1 2.8 4.0 1.3 Iris-versicolor] [6.3 2.5 4.9 1.5 Iris-versicolor] [6.1 2.8 4.7 1.2 Iris-versicolor] [6.4 2.9 4.3 1.3 Iris-versicolor] [6.6 3.0 4.4 1.4 Iris-versicolor] [6.8 2.8 4.8 1.4 Iris-versicolor] [6.7 3.0 5.0 1.7 Iris-versicolor] [6.0 2.9 4.5 1.5 Iris-versicolor] [5.7 2.6 3.5 1.0 Iris-versicolor] [5.5 2.4 3.8 1.1 Iris-versicolor] [5.5 2.4 3.7 1.0 Iris-versicolor] [5.8 2.7 3.9 1.2 Iris-versicolor] [6.0 2.7 5.1 1.6 Iris-versicolor] [5.4 3.0 4.5 1.5 Iris-versicolor] [6.0 3.4 4.5 1.6 Iris-versicolor] [6.7 3.1 4.7 1.5 Iris-versicolor] [6.3 2.3 4.4 1.3 Iris-versicolor] [5.6 3.0 4.1 1.3 Iris-versicolor] [5.5 2.5 4.0 1.3 Iris-versicolor] [5.5 2.6 4.4 1.2 Iris-versicolor] [6.1 3.0 4.6 1.4 Iris-versicolor] [5.8 2.6 4.0 1.2 Iris-versicolor] [5.0 2.3 3.3 1.0 Iris-versicolor] [5.6 2.7 4.2 1.3 Iris-versicolor] [5.7 3.0 4.2 1.2 Iris-versicolor] [5.7 2.9 4.2 1.3 Iris-versicolor] [6.2 2.9 4.3 1.3 Iris-versicolor] [5.1 2.5 3.0 1.1 Iris-versicolor] [5.7 2.8 4.1 1.3 Iris-versicolor] [6.3 3.3 6.0 2.5 Iris-virginica] [5.8 2.7 5.1 1.9 Iris-virginica] [7.1 3.0 5.9 2.1 Iris-virginica] [6.3 2.9 5.6 1.8 Iris-virginica] [6.5 3.0 5.8 2.2 Iris-virginica] [7.6 3.0 6.6 2.1 Iris-virginica] [4.9 2.5 4.5 1.7 Iris-virginica] [7.3 2.9 6.3 1.8 Iris-virginica] [6.7 2.5 5.8 1.8 Iris-virginica] [7.2 3.6 6.1 2.5 Iris-virginica] [6.5 3.2 5.1 2.0 Iris-virginica] [6.4 2.7 5.3 1.9 Iris-virginica] [6.8 3.0 5.5 2.1 Iris-virginica] [5.7 2.5 5.0 2.0 Iris-virginica] [5.8 2.8 5.1 2.4 Iris-virginica] [6.4 3.2 5.3 2.3 Iris-virginica] [6.5 3.0 5.5 1.8 Iris-virginica] [7.7 3.8 6.7 2.2 Iris-virginica] [7.7 2.6 6.9 2.3 Iris-virginica] [6.0 2.2 5.0 1.5 Iris-virginica] [6.9 3.2 5.7 2.3 Iris-virginica] [5.6 2.8 4.9 2.0 Iris-virginica] [7.7 2.8 6.7 2.0 Iris-virginica] [6.3 2.7 4.9 1.8 Iris-virginica] [6.7 3.3 5.7 2.1 Iris-virginica] [7.2 3.2 6.0 1.8 Iris-virginica] [6.2 2.8 4.8 1.8 Iris-virginica] [6.1 3.0 4.9 1.8 Iris-virginica] [6.4 2.8 5.6 2.1 Iris-virginica] [7.2 3.0 5.8 1.6 Iris-virginica] [7.4 2.8 6.1 1.9 Iris-virginica] [7.9 3.8 6.4 2.0 Iris-virginica] [6.4 2.8 5.6 2.2 Iris-virginica] [6.3 2.8 5.1 1.5 Iris-virginica] [6.1 2.6 5.6 1.4 Iris-virginica] [7.7 3.0 6.1 2.3 Iris-virginica] [6.3 3.4 5.6 2.4 Iris-virginica] [6.4 3.1 5.5 1.8 Iris-virginica] [6.0 3.0 4.8 1.8 Iris-virginica] [6.9 3.1 5.4 2.1 Iris-virginica] [6.7 3.1 5.6 2.4 Iris-virginica] [6.9 3.1 5.1 2.3 Iris-virginica] [5.8 2.7 5.1 1.9 Iris-virginica] [6.8 3.2 5.9 2.3 Iris-virginica] [6.7 3.3 5.7 2.5 Iris-virginica] [6.7 3.0 5.2 2.3 Iris-virginica] [6.3 2.5 5.0 1.9 Iris-virginica] [6.5 3.0 5.2 2.0 Iris-virginica] [6.2 3.4 5.4 2.3 Iris-virginica] [5.9 3.0 5.1 1.8 Iris-virginica]]\n"
     ]
    }
   ],
   "source": [
    "{\n",
    "    f, err := os.Open(\"iris.csv\")\n",
    "    if err != nil {\n",
    "        fmt.Println(err)\n",
    "    }\n",
    "    defer f.Close()\n",
    "\n",
    "    // read\n",
    "    r := csv.NewReader(f)\n",
    "    r.FieldsPerRecord = -1\n",
    "\n",
    "    // [I] hold successfully parsed rows\n",
    "    /*\n",
    "    var rawCSV [][]string\n",
    "\n",
    "    for {\n",
    "        record, err := r.Read()\n",
    "        if err == io.EOF {\n",
    "            break\n",
    "        }\n",
    "        rawCSV = append(rawCSV, record)\n",
    "    }\n",
    "    */\n",
    "    \n",
    "    // [II] read in all\n",
    "    rawCSV, err := r.ReadAll()\n",
    "    if err != nil {\n",
    "        fmt.Println(err)\n",
    "    }\n",
    "    \n",
    "    fmt.Println(rawCSV)\n",
    "}"
   ]
  },
  {
   "cell_type": "markdown",
   "metadata": {},
   "source": [
    "### Handling Unexpected Fields"
   ]
  },
  {
   "cell_type": "code",
   "execution_count": 3,
   "metadata": {},
   "outputs": [
    {
     "name": "stdout",
     "output_type": "stream",
     "text": [
      "#### line 8, column 0: wrong number of fields in line\n",
      "[[5.1 3.5 1.4 0.2 Iris-setosa] [4.9 3.0 1.4 0.2 Iris-setosa] [4.7 3.2 1.3 0.2 Iris-setosa] [4.6 3.1 1.5 0.2 Iris-setosa] [5.0 3.6 1.4 0.2 Iris-setosa] [5.4 3.9 1.7 0.4 Iris-setosa] [4.6 3.4 1.4 0.3 Iris-setosa] [4.4 2.9 1.4 0.2 Iris-setosa] [4.9 3.1 1.5 0.1 Iris-setosa] [5.4 3.7 1.5 0.2 Iris-setosa] [4.8 3.4 1.6 0.2 Iris-setosa] [blah 3.0 blah2 0.1 ] [4.3 3.0 1.1 0.1 Iris-setosa] [5.8 4.0 1.2 0.2 Iris-setosa] [5.7 4.4 1.5 0.4 Iris-setosa] [5.4 3.9 1.3 0.4 Iris-setosa] [5.1 3.5 1.4 0.3 Iris-setosa] [5.7 3.8 1.7 0.3 Iris-setosa] [5.1 3.8 1.5 0.3 Iris-setosa] [5.4 3.4 1.7 0.2 Iris-setosa] [5.1 3.7 1.5 0.4 Iris-setosa] [4.6 3.6 1.0 0.2 Iris-setosa] [5.1 3.3 1.7 0.5 Iris-setosa] [4.8 3.4 1.9 0.2 Iris-setosa] [5.0 3.0 1.6 0.2 Iris-setosa] [5.0 3.4 1.6 0.4 Iris-setosa] [5.2 3.5 1.5 0.2 Iris-setosa] [5.2 3.4 1.4 0.2 Iris-setosa] [4.7 3.2 1.6 0.2 Iris-setosa] [4.8 3.1 1.6 0.2 Iris-setosa] [5.4 3.4 1.5 0.4 Iris-setosa] [5.2 4.1 1.5 0.1 Iris-setosa] [5.5 4.2 1.4 0.2 Iris-setosa] [4.9 3.1 1.5 0.1 Iris-setosa] [5.0 3.2 1.2 0.2 Iris-setosa] [5.5 3.5 1.3 0.2 Iris-setosa] [4.9 3.1 1.5 0.1 Iris-setosa] [4.4 3.0 1.3 0.2 Iris-setosa] [5.1 3.4 1.5 0.2 Iris-setosa] [5.0 3.5 1.3 0.3 Iris-setosa] [4.5 2.3 1.3 0.3 Iris-setosa] [4.4 3.2 1.3 0.2 Iris-setosa] [5.0 3.5 1.6 0.6 Iris-setosa] [5.1 3.8 1.9 0.4 Iris-setosa] [4.8 3.0 1.4 0.3 Iris-setosa] [5.1 3.8 1.6 0.2 Iris-setosa] [4.6 3.2 1.4 0.2 Iris-setosa] [5.3 3.7 1.5 0.2 Iris-setosa] [5.0 3.3 1.4 0.2 Iris-setosa] [7.0 3.2 4.7 1.4 Iris-versicolor] [6.4 3.2 4.5 1.5 Iris-versicolor] [6.9 3.1 4.9 1.5 Iris-versicolor] [5.5 2.3 4.0 1.3 Iris-versicolor] [6.5 2.8 4.6 1.5 Iris-versicolor] [5.7 2.8 4.5 1.3 Iris-versicolor] [6.3 3.3 4.7 1.6 Iris-versicolor] [4.9 2.4 3.3 1.0 Iris-versicolor] [6.6 2.9 4.6 1.3 Iris-versicolor] [5.2 2.7 3.9 1.4 Iris-versicolor] [5.0 2.0 3.5 1.0 Iris-versicolor] [5.9 3.0 4.2 1.5 Iris-versicolor] [6.0 2.2 4.0 1.0 Iris-versicolor] [6.1 2.9 4.7 1.4 Iris-versicolor] [5.6 2.9 3.6 1.3 Iris-versicolor] [6.7 3.1 4.4 1.4 Iris-versicolor] [5.6 3.0 4.5 1.5 Iris-versicolor] [5.8 2.7 4.1 1.0 Iris-versicolor] [6.2 2.2 4.5 1.5 Iris-versicolor] [5.6 2.5 3.9 1.1 Iris-versicolor] [5.9 3.2 4.8 1.8 Iris-versicolor] [6.1 2.8 4.0 1.3 Iris-versicolor] [6.3 2.5 4.9 1.5 Iris-versicolor] [6.1 2.8 4.7 1.2 Iris-versicolor] [6.4 2.9 4.3 1.3 Iris-versicolor] [6.6 3.0 4.4 1.4 Iris-versicolor] [6.8 2.8 4.8 1.4 Iris-versicolor] [6.7 3.0 5.0 1.7 Iris-versicolor] [6.0 2.9 4.5 1.5 Iris-versicolor] [5.7 2.6 3.5 1.0 Iris-versicolor] [5.5 2.4 3.8 1.1 Iris-versicolor] [5.5 2.4 3.7 1.0 Iris-versicolor] [5.8 2.7 3.9 1.2 Iris-versicolor] [6.0 2.7 5.1 1.6 Iris-versicolor] [5.4 3.0 4.5 1.5 Iris-versicolor] [6.0 3.4 4.5 1.6 Iris-versicolor] [6.7 3.1 4.7 1.5 Iris-versicolor] [6.3 2.3 4.4 1.3 Iris-versicolor] [5.6 3.0 4.1 1.3 Iris-versicolor] [5.5 2.5 4.0 1.3 Iris-versicolor] [5.5 2.6 4.4 1.2 Iris-versicolor] [6.1 3.0 4.6 1.4 Iris-versicolor] [5.8 2.6 4.0 1.2 Iris-versicolor] [5.0 2.3 3.3 1.0 Iris-versicolor] [5.6 2.7 4.2 1.3 Iris-versicolor] [5.7 3.0 4.2 1.2 Iris-versicolor] [5.7 2.9 4.2 1.3 Iris-versicolor] [6.2 2.9 4.3 1.3 Iris-versicolor] [5.1 2.5 3.0 1.1 Iris-versicolor] [5.7 2.8 4.1 1.3 Iris-versicolor] [6.3 3.3 6.0 2.5 Iris-virginica] [5.8 2.7 5.1 1.9 Iris-virginica] [7.1 3.0 5.9 2.1 Iris-virginica] [6.3 2.9 5.6 1.8 Iris-virginica] [6.5 3.0 5.8 2.2 Iris-virginica] [7.6 3.0 6.6 2.1 Iris-virginica] [4.9 2.5 4.5 1.7 Iris-virginica] [7.3 2.9 6.3 1.8 Iris-virginica] [6.7 2.5 5.8 1.8 Iris-virginica] [7.2 3.6 6.1 2.5 Iris-virginica] [6.5 3.2 5.1 2.0 Iris-virginica] [6.4 2.7 5.3 1.9 Iris-virginica] [6.8 3.0 5.5 2.1 Iris-virginica] [5.7 2.5 5.0 2.0 Iris-virginica] [5.8 2.8 5.1 2.4 Iris-virginica] [6.4 3.2 5.3 2.3 Iris-virginica] [6.5 3.0 5.5 1.8 Iris-virginica] [7.7 3.8 6.7 2.2 Iris-virginica] [7.7 2.6 6.9 2.3 Iris-virginica] [6.0 2.2 5.0 1.5 Iris-virginica] [6.9 3.2 5.7 2.3 Iris-virginica] [5.6 2.8 4.9 2.0 Iris-virginica] [7.7 2.8 6.7 2.0 Iris-virginica] [6.3 2.7 4.9 1.8 Iris-virginica] [6.7 3.3 5.7 2.1 Iris-virginica] [7.2 3.2 6.0 1.8 Iris-virginica] [6.2 2.8 4.8 1.8 Iris-virginica] [6.1 3.0 4.9 1.8 Iris-virginica] [6.4 2.8 5.6 2.1 Iris-virginica] [7.2 3.0 5.8 1.6 Iris-virginica] [7.4 2.8 6.1 1.9 Iris-virginica] [7.9 3.8 6.4 2.0 Iris-virginica] [6.4 2.8 5.6 2.2 Iris-virginica] [6.3 2.8 5.1 1.5 Iris-virginica] [6.1 2.6 5.6 1.4 Iris-virginica] [7.7 3.0 6.1 2.3 Iris-virginica] [6.3 3.4 5.6 2.4 Iris-virginica] [6.4 3.1 5.5 1.8 Iris-virginica] [6.0 3.0 4.8 1.8 Iris-virginica] [6.9 3.1 5.4 2.1 Iris-virginica] [6.7 3.1 5.6 2.4 Iris-virginica] [6.9 3.1 5.1 2.3 Iris-virginica] [5.8 2.7 5.1 1.9 Iris-virginica] [6.8 3.2 5.9 2.3 Iris-virginica] [6.7 3.3 5.7 2.5 Iris-virginica] [6.7 3.0 5.2 2.3 Iris-virginica] [6.3 2.5 5.0 1.9 Iris-virginica] [6.5 3.0 5.2 2.0 Iris-virginica] [6.2 3.4 5.4 2.3 Iris-virginica] [5.9 3.0 5.1 1.8 Iris-virginica]]\n"
     ]
    }
   ],
   "source": [
    "{\n",
    "    f, err := os.Open(\"iris_unexpected.csv\")\n",
    "    if err != nil {\n",
    "        fmt.Println(err)\n",
    "    }\n",
    "    defer f.Close()\n",
    "\n",
    "    // read\n",
    "    r := csv.NewReader(f)\n",
    "    // Each record should have 5 fields\n",
    "    r.FieldsPerRecord = 5\n",
    "\n",
    "    var rawCSV [][]string\n",
    "\n",
    "    for {\n",
    "        record, err := r.Read()\n",
    "        if err == io.EOF {\n",
    "            break\n",
    "        }\n",
    "        \n",
    "        // if we had a parsing error:\n",
    "        if err != nil {\n",
    "            fmt.Println(\"####\", err)\n",
    "            continue\n",
    "        }\n",
    "        \n",
    "        // if data has the expected # of fields\n",
    "        rawCSV = append(rawCSV, record)\n",
    "    }\n",
    "    \n",
    "    \n",
    "    fmt.Println(rawCSV)\n",
    "}"
   ]
  },
  {
   "cell_type": "markdown",
   "metadata": {},
   "source": [
    "### Handling unexpected types"
   ]
  },
  {
   "cell_type": "code",
   "execution_count": 4,
   "metadata": {},
   "outputs": [
    {
     "name": "stdout",
     "output_type": "stream",
     "text": [
      "#### line 8, column 0: wrong number of fields in line\n",
      "### Unexpected type in column 0\n"
     ]
    }
   ],
   "source": [
    "type CSVRec struct {\n",
    "    SepalLength float64\n",
    "    SepalWidth float64\n",
    "    PetalLength float64\n",
    "    PetalWidth float64\n",
    "    Species string\n",
    "    ParseError error\n",
    "}\n",
    "\n",
    "{\n",
    "    f, err := os.Open(\"iris_unexpected.csv\")\n",
    "    if err != nil {\n",
    "        fmt.Println(err)\n",
    "    }\n",
    "    defer f.Close()\n",
    "\n",
    "    // read\n",
    "    r := csv.NewReader(f)\n",
    "    // Each record should have 5 fields\n",
    "    r.FieldsPerRecord = 5\n",
    "    \n",
    "    var csvData []CSVRec\n",
    "\n",
    "    for {\n",
    "        record, err := r.Read()\n",
    "        if err == io.EOF {\n",
    "            break\n",
    "        }\n",
    "        \n",
    "        // if we had a parsing error:\n",
    "        if err != nil {\n",
    "            fmt.Println(\"####\", err)\n",
    "            continue\n",
    "        }\n",
    "        \n",
    "        // for the row\n",
    "        var csvRec CSVRec\n",
    "        \n",
    "        for idx, val := range record {\n",
    "            if idx == 4 { // for the string column\n",
    "                if val == \"\" {\n",
    "                    fmt.Printf(\"### Unexpected type in column %d\", idx)\n",
    "                    csvRec.ParseError = fmt.Errorf(\"Empty string value\")\n",
    "                    break\n",
    "                }\n",
    "                \n",
    "                // otherwise\n",
    "                csvRec.Species = val\n",
    "                continue\n",
    "            }\n",
    "            \n",
    "            var floatVal float64\n",
    "            if floatVal, err = strconv.ParseFloat(val, 64); err != nil {\n",
    "                fmt.Printf(\"### Unexpected type in column %d\\n\", idx)\n",
    "                csvRec.ParseError = fmt.Errorf(\"Could not parse float\")\n",
    "                break\n",
    "            }\n",
    "            \n",
    "            switch idx {\n",
    "                case 0:\n",
    "                    csvRec.SepalLength = floatVal\n",
    "                case 1:\n",
    "                    csvRec.SepalWidth = floatVal\n",
    "                case 2:\n",
    "                    csvRec.PetalLength = floatVal\n",
    "                case 3:\n",
    "                    csvRec.PetalWidth = floatVal\n",
    "            }\n",
    "        }\n",
    "        \n",
    "        if csvRec.ParseError == nil {\n",
    "            csvData = append(csvData, csvRec)\n",
    "        }\n",
    "    }    \n",
    "}"
   ]
  },
  {
   "cell_type": "markdown",
   "metadata": {},
   "source": [
    "### CSV w/ data frames\n",
    "\n",
    "import \"github.com/kniren/gota/dataframe\""
   ]
  },
  {
   "cell_type": "code",
   "execution_count": 5,
   "metadata": {},
   "outputs": [],
   "source": [
    "import \"github.com/kniren/gota/dataframe\""
   ]
  },
  {
   "cell_type": "code",
   "execution_count": 8,
   "metadata": {},
   "outputs": [
    {
     "name": "stdout",
     "output_type": "stream",
     "text": [
      "[149x5] DataFrame\n",
      "\n",
      "    5.1      3.5      1.4      0.2      Iris-setosa\n",
      " 0: 4.900000 3.000000 1.400000 0.200000 Iris-setosa\n",
      " 1: 4.700000 3.200000 1.300000 0.200000 Iris-setosa\n",
      " 2: 4.600000 3.100000 1.500000 0.200000 Iris-setosa\n",
      " 3: 5.000000 3.600000 1.400000 0.200000 Iris-setosa\n",
      " 4: 5.400000 3.900000 1.700000 0.400000 Iris-setosa\n",
      " 5: 4.600000 3.400000 1.400000 0.300000 Iris-setosa\n",
      " 6: 5.000000 3.400000 1.500000 0.200000 Iris-setosa\n",
      " 7: 4.400000 2.900000 1.400000 0.200000 Iris-setosa\n",
      " 8: 4.900000 3.100000 1.500000 0.100000 Iris-setosa\n",
      " 9: 5.400000 3.700000 1.500000 0.200000 Iris-setosa\n",
      "    ...      ...      ...      ...      ...        \n",
      "    <float>  <float>  <float>  <float>  <string>   \n",
      "\n"
     ]
    }
   ],
   "source": [
    "{\n",
    "    irisFile, err := os.Open(\"iris.csv\")\n",
    "    if err != nil {\n",
    "        fmt.Println(err)\n",
    "    }\n",
    "    defer irisFile.Close()\n",
    "    \n",
    "    irisDF := dataframe.ReadCSV(irisFile)\n",
    "    fmt.Println(irisDF)\n",
    "}"
   ]
  },
  {
   "cell_type": "code",
   "execution_count": null,
   "metadata": {},
   "outputs": [],
   "source": []
  }
 ],
 "metadata": {
  "kernelspec": {
   "display_name": "Go (lgo)",
   "language": "go",
   "name": "lgo"
  },
  "language_info": {
   "file_extension": "",
   "mimetype": "",
   "name": "go",
   "version": ""
  }
 },
 "nbformat": 4,
 "nbformat_minor": 2
}
