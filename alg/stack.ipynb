{
 "cells": [
  {
   "cell_type": "markdown",
   "metadata": {},
   "source": [
    "Stack 的兩大操作：\n",
    "\n",
    "* Push()\n",
    "\n",
    "* Pop()"
   ]
  },
  {
   "cell_type": "code",
   "execution_count": 1,
   "metadata": {},
   "outputs": [],
   "source": [
    "import (\n",
    "    \"fmt\"\n",
    ")"
   ]
  },
  {
   "cell_type": "code",
   "execution_count": 3,
   "metadata": {},
   "outputs": [],
   "source": [
    "type Stack struct{\n",
    "    items []int //也可用 []string, []float...\n",
    "}\n",
    "\n",
    "func (s *Stack) Push(item int) {\n",
    "    //empty\n",
    "}\n",
    "\n",
    "func (s *Stack) Pop() int {\n",
    "    return 0\n",
    "}"
   ]
  },
  {
   "cell_type": "code",
   "execution_count": 7,
   "metadata": {},
   "outputs": [
    {
     "name": "stdout",
     "output_type": "stream",
     "text": [
      "0\n",
      "0\n",
      "0\n",
      "0\n"
     ]
    }
   ],
   "source": [
    "{\n",
    "    s := Stack{}\n",
    "\n",
    "    s.Push(1)\n",
    "    s.Push(2)\n",
    "    s.Push(3)\n",
    "    s.Push(4)\n",
    "\n",
    "    fmt.Println(s.Pop())\n",
    "    fmt.Println(s.Pop())\n",
    "    fmt.Println(s.Pop())\n",
    "    fmt.Println(s.Pop())\n",
    "}"
   ]
  },
  {
   "cell_type": "code",
   "execution_count": 8,
   "metadata": {},
   "outputs": [],
   "source": [
    "// 修正\n",
    "type Stack struct{\n",
    "    items []int //也可用 []string, []float...\n",
    "}\n",
    "\n",
    "func (s *Stack) Push(item int) {\n",
    "    s.items = append(s.items, item)\n",
    "}\n",
    "\n",
    "func (s *Stack) Pop() int {\n",
    "    return 0\n",
    "}"
   ]
  },
  {
   "cell_type": "code",
   "execution_count": 10,
   "metadata": {},
   "outputs": [
    {
     "name": "stdout",
     "output_type": "stream",
     "text": [
      "0\n",
      "0\n",
      "0\n",
      "0\n"
     ]
    }
   ],
   "source": [
    "{\n",
    "    s := Stack{}\n",
    "\n",
    "    s.Push(1)\n",
    "    s.Push(2)\n",
    "    s.Push(3)\n",
    "    s.Push(4)\n",
    "\n",
    "    fmt.Println(s.Pop())\n",
    "    fmt.Println(s.Pop())\n",
    "    fmt.Println(s.Pop())\n",
    "    fmt.Println(s.Pop())\n",
    "}"
   ]
  },
  {
   "cell_type": "code",
   "execution_count": 15,
   "metadata": {},
   "outputs": [],
   "source": [
    "// 修正 2\n",
    "type Stack struct{\n",
    "    items []int //也可用 []string, []float...\n",
    "}\n",
    "\n",
    "func (s *Stack) Push(item int) {\n",
    "    s.items = append(s.items, item)\n",
    "}\n",
    "\n",
    "func (s *Stack) Pop() int {\n",
    "    item, items := s.items[len(s.items)-1], s.items[0:len(s.items)-1]\n",
    "    s.items = items\n",
    "    return item\n",
    "}"
   ]
  },
  {
   "cell_type": "code",
   "execution_count": 16,
   "metadata": {},
   "outputs": [
    {
     "name": "stdout",
     "output_type": "stream",
     "text": [
      "4\n",
      "3\n",
      "2\n",
      "1\n"
     ]
    }
   ],
   "source": [
    "{\n",
    "    s := Stack{}\n",
    "\n",
    "    s.Push(1)\n",
    "    s.Push(2)\n",
    "    s.Push(3)\n",
    "    s.Push(4)\n",
    "\n",
    "    fmt.Println(s.Pop())\n",
    "    fmt.Println(s.Pop())\n",
    "    fmt.Println(s.Pop())\n",
    "    fmt.Println(s.Pop())\n",
    "}"
   ]
  },
  {
   "cell_type": "code",
   "execution_count": 17,
   "metadata": {},
   "outputs": [
    {
     "name": "stdout",
     "output_type": "stream",
     "text": [
      "4\n",
      "3\n",
      "2\n",
      "1\n"
     ]
    },
    {
     "name": "stderr",
     "output_type": "stream",
     "text": [
      "panic: runtime error: slice bounds out of range\n",
      "\n",
      "goroutine 114 [running]:\n",
      "runtime/debug.Stack(0xc400000008, 0x7f7c2afff3f8, 0xc4203f49e0)\n",
      "\t/usr/local/go/src/runtime/debug/stack.go:24 +0xa9\n",
      "github.com/yunabe/lgo/core.(*resultCounter).recordResult(0xc4203f49c8, 0x7f7c2af11100, 0x7f7c2b3214b0)\n",
      "\t/home/gopher/go/src/github.com/yunabe/lgo/core/core.go:94 +0xce\n",
      "github.com/yunabe/lgo/core.(*resultCounter).recordResultInDefer(0xc4203f49c8)\n",
      "\t/home/gopher/go/src/github.com/yunabe/lgo/core/core.go:99 +0x3b\n",
      "panic(0x7f7c2af11100, 0x7f7c2b3214b0)\n",
      "\t/usr/local/go/src/runtime/panic.go:491 +0x294\n",
      "github.com/yunabe/lgo/sess7b2274696d65223a313532383532363938303930313032323330307d/exec15.(*Stack).Pop(0xc420361f70, 0x1)\n",
      "\t/home/gopher/go/src/github.com/yunabe/lgo/sess7b2274696d65223a313532383532363938303930313032323330307d/exec15/src.go:14 +0x63\n",
      "github.com/yunabe/lgo/sess7b2274696d65223a313532383532363938303930313032323330307d/exec17.lgo_init()\n",
      "\t/home/gopher/go/src/github.com/yunabe/lgo/sess7b2274696d65223a313532383532363938303930313032323330307d/exec17/src.go:29 +0x310\n",
      "github.com/yunabe/lgo/cmd/runner.loadShared.func3()\n",
      "\t/home/gopher/go/src/github.com/yunabe/lgo/cmd/runner/runner.go:62 +0x26\n",
      "github.com/yunabe/lgo/core.startExec.func1(0xc4203f4990, 0xc4204ed370)\n",
      "\t/home/gopher/go/src/github.com/yunabe/lgo/core/core.go:250 +0x83\n",
      "created by github.com/yunabe/lgo/core.startExec\n",
      "\t/home/gopher/go/src/github.com/yunabe/lgo/core/core.go:247 +0xcb\n",
      "main routine failed\n"
     ]
    }
   ],
   "source": [
    "{\n",
    "    s := Stack{}\n",
    "\n",
    "    s.Push(1)\n",
    "    s.Push(2)\n",
    "    s.Push(3)\n",
    "    s.Push(4)\n",
    "\n",
    "    fmt.Println(s.Pop())\n",
    "    fmt.Println(s.Pop())\n",
    "    fmt.Println(s.Pop())\n",
    "    fmt.Println(s.Pop())\n",
    "    fmt.Println(s.Pop()) //會發生什麼事？\n",
    "}"
   ]
  },
  {
   "cell_type": "code",
   "execution_count": 18,
   "metadata": {},
   "outputs": [],
   "source": [
    "// 修正 3\n",
    "type Stack struct{\n",
    "    items []int //也可用 []string, []float...\n",
    "}\n",
    "\n",
    "func (s *Stack) Push(item int) {\n",
    "    s.items = append(s.items, item)\n",
    "}\n",
    "\n",
    "func (s *Stack) Pop() int {\n",
    "    if len(s.items) == 0 {\n",
    "        return -1\n",
    "    }\n",
    "    item, items := s.items[len(s.items)-1], s.items[0:len(s.items)-1]\n",
    "    s.items = items\n",
    "    return item\n",
    "}"
   ]
  },
  {
   "cell_type": "code",
   "execution_count": 20,
   "metadata": {},
   "outputs": [
    {
     "name": "stdout",
     "output_type": "stream",
     "text": [
      "4\n",
      "3\n",
      "2\n",
      "1\n",
      "-1\n",
      "-1\n"
     ]
    }
   ],
   "source": [
    "{\n",
    "    s := Stack{}\n",
    "\n",
    "    s.Push(1)\n",
    "    s.Push(2)\n",
    "    s.Push(3)\n",
    "    s.Push(4)\n",
    "\n",
    "    fmt.Println(s.Pop())\n",
    "    fmt.Println(s.Pop())\n",
    "    fmt.Println(s.Pop())\n",
    "    fmt.Println(s.Pop())\n",
    "    fmt.Println(s.Pop()) //會發生什麼事？\n",
    "    fmt.Println(s.Pop()) //會發生什麼事？\n",
    "}"
   ]
  },
  {
   "cell_type": "code",
   "execution_count": null,
   "metadata": {},
   "outputs": [],
   "source": []
  }
 ],
 "metadata": {
  "kernelspec": {
   "display_name": "Go (lgo)",
   "language": "go",
   "name": "lgo"
  },
  "language_info": {
   "file_extension": "",
   "mimetype": "",
   "name": "go",
   "version": ""
  }
 },
 "nbformat": 4,
 "nbformat_minor": 2
}
