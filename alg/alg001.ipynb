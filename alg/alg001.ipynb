{
 "cells": [
  {
   "cell_type": "code",
   "execution_count": null,
   "metadata": {},
   "outputs": [],
   "source": [
    "// Basic Go Syntax"
   ]
  },
  {
   "cell_type": "code",
   "execution_count": 5,
   "metadata": {},
   "outputs": [
    {
     "name": "stdout",
     "output_type": "stream",
     "text": [
      "Go: go1.9.5 (linux_amd64)\n",
      "User: gopher\n",
      "Working dir: /go/src/github.com/yunabe/lgo/examples\n",
      "NumCPU: 32\n"
     ]
    }
   ],
   "source": [
    "import (\n",
    "    \"fmt\"\n",
    "    \"os\"\n",
    "    \"os/user\"\n",
    "    \"runtime\"\n",
    ")\n",
    "\n",
    "{\n",
    "    user, _ := user.Current()\n",
    "    fmt.Printf(\"Go: %s (%s_%s)\\n\", runtime.Version(), runtime.GOOS, runtime.GOARCH)\n",
    "    fmt.Printf(\"User: %s\\n\", user.Username)\n",
    "    wd, _ := os.Getwd()\n",
    "    fmt.Printf(\"Working dir: %s\\n\", wd)\n",
    "    fmt.Printf(\"NumCPU: %d\\n\", runtime.NumCPU())\n",
    "}"
   ]
  },
  {
   "cell_type": "markdown",
   "metadata": {},
   "source": [
    "### Variables and Constants"
   ]
  },
  {
   "cell_type": "code",
   "execution_count": 2,
   "metadata": {},
   "outputs": [],
   "source": [
    "// package main\n",
    "\n",
    "import \"fmt\""
   ]
  },
  {
   "cell_type": "code",
   "execution_count": 6,
   "metadata": {},
   "outputs": [
    {
     "name": "stdout",
     "output_type": "stream",
     "text": [
      "Val stored in v1:: 100\n",
      "Val stored in v2:: 0\n"
     ]
    }
   ],
   "source": [
    "// func main() \n",
    "{\n",
    "    var v1 int\n",
    "    var v2 int\n",
    "    v1 = 100\n",
    "    \n",
    "    fmt.Println(\"Val stored in v1::\", v1)\n",
    "    fmt.Println(\"Val stored in v2::\", v2)\n",
    "}"
   ]
  },
  {
   "cell_type": "code",
   "execution_count": 8,
   "metadata": {},
   "outputs": [
    {
     "name": "stdout",
     "output_type": "stream",
     "text": [
      "Val stored in v3:: 100\n"
     ]
    }
   ],
   "source": [
    "// Another way to declare a variable\n",
    "{\n",
    "    v3 := 100\n",
    "    fmt.Println(\"Val stored in v3::\", v3)\n",
    "}"
   ]
  },
  {
   "cell_type": "markdown",
   "metadata": {},
   "source": [
    "### Basic Data Types\n",
    "\n",
    "###### 1. Boolean\n",
    "    ex. var B bool = true\n",
    "\n",
    "###### 2. Integer 整數\n",
    "    ex. var i int = -100\n",
    "\n",
    "###### 3. Unsigned Integer 非負的整數, uint8,uint16, uint32, uint64\n",
    "    ex. var j uint = 1000\n",
    "\n",
    "###### 4. Float\n",
    "    ex. var f float32 = 1.2345\n",
    "\n",
    "###### 5. Strings are sequences of Unicode characters. String is immutable.\n",
    "    ex. var s string = \"Hello, 大家好!\"\n",
    "\n",
    "###### 6. Byte 是 uint8 的別名\n",
    "\n",
    "###### 7. Rune 是 int32 的別名，用來儲存 Unicode 字元.\n",
    "\n",
    "###### 8. Complex 儲存複數"
   ]
  },
  {
   "cell_type": "code",
   "execution_count": 9,
   "metadata": {},
   "outputs": [],
   "source": [
    "import \"math\""
   ]
  },
  {
   "cell_type": "code",
   "execution_count": 10,
   "metadata": {},
   "outputs": [
    {
     "name": "stderr",
     "output_type": "stream",
     "text": [
      "13:18: math.MaxUint64 (untyped int constant 18446744073709551615) overflows int\n"
     ]
    }
   ],
   "source": [
    "{\n",
    "    maxInt8 := math.MaxInt8\n",
    "    minInt8 := math.MinInt8\n",
    "    maxInt16 := math.MaxInt16\n",
    "    minInt16 := math.MinInt16\n",
    "    maxInt32 := math.MaxInt32\n",
    "    minInt32 := math.MinInt32\n",
    "    maxInt64 := math.MaxInt64\n",
    "    minInt64 := math.MinInt64\n",
    "    maxUint8 := math.MaxUint8\n",
    "    maxUint16 := math.MaxUint16\n",
    "    maxUint32 := math.MaxUint32\n",
    "    maxUint64 := math.MaxUint64\n",
    "    maxFloat32 := math.MaxFloat32\n",
    "    maxFloat64 := math.MaxFloat64\n",
    "    \n",
    "    fmt.Println(\"Range of Int8 :: \", minInt8, \" to \", maxInt8) \n",
    "    fmt.Println(\"Range of Int16 :: \", minInt16, \" to \", maxInt16) \n",
    "    fmt.Println(\"Range of Int32 :: \", minInt32, \" to \", maxInt32) \n",
    "    fmt.Println(\"Range of Int64 :: \", minInt64, \" to \", maxInt64) \n",
    "    fmt.Println(\"Max Uint8 :: \", maxUint8)\n",
    "    fmt.Println(\"Max Uint16 :: \", maxUint16) \n",
    "    fmt.Println(\"Max Uint32 :: \", maxUint32) \n",
    "    fmt.Println(\"Max Uint64 :: \", maxUint64) \n",
    "    fmt.Println(\"Max Float32 :: \", maxFloat32) \n",
    "    fmt.Println(\"Max Float64 :: \", maxFloat64)\n",
    "}"
   ]
  },
  {
   "cell_type": "markdown",
   "metadata": {},
   "source": [
    "### String"
   ]
  },
  {
   "cell_type": "code",
   "execution_count": 11,
   "metadata": {},
   "outputs": [
    {
     "name": "stdout",
     "output_type": "stream",
     "text": [
      "Hello, 大家好\n"
     ]
    }
   ],
   "source": [
    "\n",
    "{\n",
    "    s := \"hello, 大家好\"\n",
    "    r := []rune(s)\n",
    "    r[0] = 'H'\n",
    "    s2 := string(r)\n",
    "    fmt.Println(s2)\n",
    "}"
   ]
  },
  {
   "cell_type": "code",
   "execution_count": 34,
   "metadata": {},
   "outputs": [
    {
     "name": "stdout",
     "output_type": "stream",
     "text": [
      "16\n",
      "helloworld\n",
      "false\n",
      "true\n",
      "true\n",
      "false\n",
      "2\n",
      "1234\n"
     ]
    }
   ],
   "source": [
    "// Operations on string\n",
    "{\n",
    "    s2 := \"12345, 大家好\"\n",
    "    fmt.Println(len(s2))\n",
    "    fmt.Println(\"hello\"+\"world\")\n",
    "    fmt.Println(\"world\" == \"hello\")\n",
    "    fmt.Println(\"world\" == \"world\")\n",
    "    fmt.Println(\"a\" < \"b\")\n",
    "    fmt.Println(\"b\" < \"a\") // Unicode value comparsion\n",
    "    fmt.Printf(\"%c\\n\", s2[1]) // Indexing as array\n",
    "    fmt.Println(s2[0:4]) // Slicing\n",
    "}"
   ]
  },
  {
   "cell_type": "markdown",
   "metadata": {},
   "source": [
    "### Conditions and Loops"
   ]
  },
  {
   "cell_type": "code",
   "execution_count": 38,
   "metadata": {},
   "outputs": [
    {
     "name": "stdout",
     "output_type": "stream",
     "text": [
      "false\n",
      "true\n"
     ]
    }
   ],
   "source": [
    "// 基本的 if 用法\n",
    "func more(x, y int) bool{\n",
    "    if x > y {\n",
    "        return true\n",
    "    }\n",
    "    return false\n",
    "}\n",
    "{\n",
    "    fmt.Println( more(1, 2))\n",
    "    fmt.Println( more(5, 2))\n",
    "}"
   ]
  },
  {
   "cell_type": "code",
   "execution_count": 40,
   "metadata": {},
   "outputs": [
    {
     "name": "stdout",
     "output_type": "stream",
     "text": [
      "4\n",
      "2\n"
     ]
    }
   ],
   "source": [
    "// if-else\n",
    "func max(x, y int) int {\n",
    "    var max int\n",
    "    if x > y {\n",
    "        max = x\n",
    "    } else {\n",
    "        max = y\n",
    "    }\n",
    "    return max\n",
    "}\n",
    "{\n",
    "    fmt.Println(max(2,4))\n",
    "    fmt.Println(max(-2,2))\n",
    "}"
   ]
  },
  {
   "cell_type": "code",
   "execution_count": 49,
   "metadata": {},
   "outputs": [
    {
     "name": "stdout",
     "output_type": "stream",
     "text": [
      "false\n",
      "false\n",
      "true\n"
     ]
    }
   ],
   "source": [
    "// if with precondition\n",
    "func maxAreaCheck(length, width, limit int) bool {\n",
    "    if area := length * width; area < limit {\n",
    "        return true\n",
    "    } else {\n",
    "        return false\n",
    "    }\n",
    "}\n",
    "{\n",
    "    fmt.Println(maxAreaCheck(10,20,10))\n",
    "    fmt.Println(maxAreaCheck(10,20,200))\n",
    "    fmt.Println(maxAreaCheck(10,20,201))\n",
    "}"
   ]
  },
  {
   "cell_type": "markdown",
   "metadata": {},
   "source": [
    "### Switch\n",
    "\n",
    "```\n",
    "//switch {\n",
    "//switch var.(type){\n",
    "switch <Initialization>; <condition> {\n",
    "    case <value1>:    //或是 <type>\n",
    "        <statements>\n",
    "    case<value2>:\n",
    "        <statements>\n",
    "    /* We can have any number of case statements */\n",
    "    default: /* Optional */\n",
    "        <statements>\n",
    "}\n",
    "```"
   ]
  },
  {
   "cell_type": "code",
   "execution_count": 51,
   "metadata": {},
   "outputs": [
    {
     "name": "stdout",
     "output_type": "stream",
     "text": [
      "even\n"
     ]
    }
   ],
   "source": [
    "{\n",
    "    i := 2\n",
    "    switch i {\n",
    "        case 1,3,5:\n",
    "        fmt.Println(\"odd\")\n",
    "        case 2,4,6:\n",
    "        fmt.Println(\"even\")\n",
    "        default:\n",
    "        fmt.Println(\"sth else\")\n",
    "    }\n",
    "}"
   ]
  },
  {
   "cell_type": "markdown",
   "metadata": {},
   "source": [
    "### For Loop\n",
    "\n",
    "有四種形式：\n",
    "\n",
    "1. for [initialization]; [condition]; [increment/decrement] { } \n",
    "2. for [condition] { } - like a while loop\n",
    "3. for { } - an infinite while loop.\n",
    "4. for with range."
   ]
  },
  {
   "cell_type": "code",
   "execution_count": 54,
   "metadata": {},
   "outputs": [
    {
     "name": "stdout",
     "output_type": "stream",
     "text": [
      "Sum is 55\n"
     ]
    }
   ],
   "source": [
    "{\n",
    "    num := []int{1,2,3,4,5,6,7,8,9,10}\n",
    "    sum := 0\n",
    "    for i := 0; i < len(num); i++ {\n",
    "        sum += num[i]\n",
    "    }\n",
    "    fmt.Println(\"Sum is\", sum)\n",
    "}"
   ]
  },
  {
   "cell_type": "code",
   "execution_count": 56,
   "metadata": {},
   "outputs": [
    {
     "name": "stdout",
     "output_type": "stream",
     "text": [
      "Sum is 55\n"
     ]
    }
   ],
   "source": [
    "{\n",
    "    num := []int{1,2,3,4,5,6,7,8,9,10}\n",
    "    sum := 0\n",
    "    i := 0\n",
    "    n := len(num)\n",
    "    for i < n {\n",
    "        sum += num[i]\n",
    "        i++\n",
    "    }\n",
    "    fmt.Println(\"Sum is\", sum)\n",
    "}"
   ]
  },
  {
   "cell_type": "code",
   "execution_count": 57,
   "metadata": {},
   "outputs": [
    {
     "name": "stdout",
     "output_type": "stream",
     "text": [
      "Sum is 55\n"
     ]
    }
   ],
   "source": [
    "{\n",
    "    num := []int{1,2,3,4,5,6,7,8,9,10}\n",
    "    sum := 0\n",
    "    i := 0\n",
    "    n := len(num)\n",
    "    for {\n",
    "        sum += num[i]\n",
    "        i++\n",
    "        \n",
    "        if i >= n {\n",
    "            break\n",
    "        }\n",
    "    }\n",
    "    fmt.Println(\"Sum is\", sum)\n",
    "}"
   ]
  },
  {
   "cell_type": "markdown",
   "metadata": {},
   "source": [
    "#### for + range\n",
    "\n",
    "用於走過 array, slice 內元素"
   ]
  },
  {
   "cell_type": "code",
   "execution_count": 59,
   "metadata": {},
   "outputs": [
    {
     "name": "stdout",
     "output_type": "stream",
     "text": [
      "Sum is 55\n"
     ]
    }
   ],
   "source": [
    "{\n",
    "    num := [...]int{1,2,3,4,5,6,7,8,9,10}\n",
    "    sum := 0\n",
    "    for _, val := range num {\n",
    "        sum += val\n",
    "    }\n",
    "    fmt.Println(\"Sum is\", sum)\n",
    "}"
   ]
  },
  {
   "cell_type": "markdown",
   "metadata": {},
   "source": [
    "### Range\n",
    "\n",
    "用於 array, slice, string, map 等資料結構。\n",
    "\n",
    "* array, slice:  range 提供 index 與 value\n",
    "* map: range 提供 index of each Unicode characters\n",
    "* 可使用底線(_) 來略過回傳的 index/value"
   ]
  },
  {
   "cell_type": "code",
   "execution_count": 64,
   "metadata": {},
   "outputs": [
    {
     "name": "stdout",
     "output_type": "stream",
     "text": [
      "[0,1][1,2][2,3][3,4][4,5][5,6][6,7][7,8][8,9][9,10]\n",
      "Sum is 55\n",
      "2 -> banana\n",
      "1 -> apple\n",
      "[0,H][1,i][2,,][3, ][4,大][7,家][10,好][13,!]"
     ]
    }
   ],
   "source": [
    "{\n",
    "    num := []int{1,2,3,4,5,6,7,8,9,10}\n",
    "    sum := 0\n",
    "    for idx, val := range num {\n",
    "        sum += val\n",
    "        fmt.Print(\"[\", idx, \",\", val, \"]\")\n",
    "    }\n",
    "    fmt.Println(\"\\nSum is\", sum)\n",
    "    \n",
    "    num2 := map[int]string{1:\"apple\", 2:\"banana\"}\n",
    "    for key, val := range num2 {\n",
    "        fmt.Println(key, \"->\", val)\n",
    "    }\n",
    "    \n",
    "    ss := \"Hi, 大家好!\"\n",
    "    for idx, c := range ss {\n",
    "        fmt.Print(\"[\", idx, \",\", string(c), \"]\")\n",
    "    }\n",
    "}"
   ]
  },
  {
   "cell_type": "markdown",
   "metadata": {},
   "source": [
    "### Function"
   ]
  },
  {
   "cell_type": "code",
   "execution_count": 71,
   "metadata": {},
   "outputs": [
    {
     "name": "stdout",
     "output_type": "stream",
     "text": [
      "9\n"
     ]
    }
   ],
   "source": [
    "func max(x, y int) int {\n",
    "    if x > y {\n",
    "        return x\n",
    "    }\n",
    "    return y\n",
    "}\n",
    "\n",
    "{\n",
    "    fmt.Println(max(-43,9))\n",
    "}"
   ]
  },
  {
   "cell_type": "markdown",
   "metadata": {},
   "source": [
    "### Pointers\n",
    "在 Go 中，指標是儲存記憶體位置的變數，沒有特殊的指標相加運算"
   ]
  },
  {
   "cell_type": "code",
   "execution_count": 75,
   "metadata": {},
   "outputs": [
    {
     "name": "stdout",
     "output_type": "stream",
     "text": [
      "val stored at variable a is 10\n",
      "val stored at variable a is 10\n",
      "address stored at variable a is 0xc420dc0a48\n",
      "address stored at variable a is 0xc420dc0a48\n"
     ]
    }
   ],
   "source": [
    "{\n",
    "    a := 10\n",
    "    ptr := &a\n",
    "    \n",
    "    fmt.Println(\"val stored at variable a is\", a)\n",
    "    fmt.Println(\"val stored at variable a is\", *ptr)\n",
    "    fmt.Println(\"address stored at variable a is\", &a)\n",
    "    fmt.Println(\"address stored at variable a is\", ptr)\n",
    "}"
   ]
  },
  {
   "cell_type": "code",
   "execution_count": 79,
   "metadata": {},
   "outputs": [
    {
     "name": "stderr",
     "output_type": "stream",
     "text": [
      "4:17: invalid operation: operator + not defined for ptr (variable of type *int)\n"
     ]
    }
   ],
   "source": [
    "{\n",
    "    a := 10\n",
    "    ptr := &a\n",
    "    fmt.Println(ptr+ptr)\n",
    "}"
   ]
  },
  {
   "cell_type": "markdown",
   "metadata": {},
   "source": [
    "### Parameter passing, Call by Pointer / Reference\n",
    "\n",
    "* Call by reference is implemented indirectly by passing the address of a variable to the function"
   ]
  },
  {
   "cell_type": "code",
   "execution_count": 81,
   "metadata": {},
   "outputs": [
    {
     "name": "stdout",
     "output_type": "stream",
     "text": [
      "10\n",
      "11\n"
     ]
    }
   ],
   "source": [
    "func incPassByPointer(ptr *int) {\n",
    "    (*ptr)++\n",
    "}\n",
    "{\n",
    "    i := 10\n",
    "    fmt.Println(i)\n",
    "    incPassByPointer(&i)\n",
    "    fmt.Println(i)\n",
    "}"
   ]
  },
  {
   "cell_type": "markdown",
   "metadata": {},
   "source": [
    "### Structure\n",
    "* a collection of multiple data types as a single entity\n",
    "* 使用 (.) 來存取成員"
   ]
  },
  {
   "cell_type": "code",
   "execution_count": 88,
   "metadata": {},
   "outputs": [
    {
     "name": "stdout",
     "output_type": "stream",
     "text": [
      "{1 Johnny}\n",
      "Name:: Johnny\n",
      "Name:: Johnny\n",
      "{2 Mary}\n",
      "{2 Mary}\n",
      "{0 Jim}\n"
     ]
    }
   ],
   "source": [
    "type person struct {\n",
    "    id int\n",
    "    name string\n",
    "}\n",
    "{\n",
    "    john := person{1, \"Johnny\"}\n",
    "    fmt.Println(john)\n",
    "    fmt.Println(\"Name::\", john.name)\n",
    "    ptr := &john\n",
    "    fmt.Println(\"Name::\", ptr.name)\n",
    "    \n",
    "    fmt.Println(person{2, \"Mary\"})\n",
    "    fmt.Println(person{name: \"Mary\", id:2})\n",
    "    fmt.Println(person{name: \"Jim\"})   // default initialization of id\n",
    "}"
   ]
  },
  {
   "cell_type": "markdown",
   "metadata": {},
   "source": [
    "### Methods\n",
    "\n",
    "* Go 沒有 class 關鍵字.\n",
    "* 有 \"receiver\" data type\n",
    "* Once function is associated by a receiver, we can directly call function over structure using dot(.) operator."
   ]
  },
  {
   "cell_type": "code",
   "execution_count": 92,
   "metadata": {},
   "outputs": [
    {
     "name": "stdout",
     "output_type": "stream",
     "text": [
      "面積: 100\n",
      "周長: 40\n",
      "面積: 50\n",
      "周長: 30\n"
     ]
    }
   ],
   "source": [
    "type Rect struct { \n",
    "    width float64 \n",
    "    height float64\n",
    "}\n",
    "func (r Rect) Area() float64 {\n",
    "    return r.width * r.height \n",
    "}\n",
    "func (r Rect) Perimeter() float64 { \n",
    "    return 2 * (r.width + r.height)\n",
    "}\n",
    "\n",
    "{\n",
    "    // created an instance of Rect\n",
    "    r := Rect{10, 10}\n",
    "    fmt.Println(\"面積:\", r.Area())\n",
    "    fmt.Println(\"周長:\", r.Perimeter())\n",
    "    \n",
    "    // calling the associated function over pointer\n",
    "    ptr := &Rect{10, 5}\n",
    "    fmt.Println(\"面積:\", ptr.Area())\n",
    "    fmt.Println(\"周長:\", ptr.Perimeter())\n",
    "}"
   ]
  },
  {
   "cell_type": "markdown",
   "metadata": {},
   "source": [
    "##### 兩種方式定義 accociated function of a data type:\n",
    "\n",
    "1.\n",
    "```\n",
    "func (r <Receiver Data type>) <Function Name>(<Parameter List>) (<Return List>)\n",
    "```\n",
    "\n",
    "2.\n",
    "```\n",
    "func (r *<Receiver Data type>) <Function Name>(<Parameter List>) (<Return List>)\n",
    "```"
   ]
  },
  {
   "cell_type": "code",
   "execution_count": 94,
   "metadata": {},
   "outputs": [
    {
     "name": "stdout",
     "output_type": "stream",
     "text": [
      "value before increment1() call : 1\n",
      "value after increment1() call : 1\n",
      "value after increment2() call : 2\n"
     ]
    }
   ],
   "source": [
    "type MyInt int\n",
    "func (data MyInt) increment1() { \n",
    "    data = data + 1\n",
    "}\n",
    "func (data *MyInt) increment2() { \n",
    "    *data = *data + 1\n",
    "}\n",
    "\n",
    "{\n",
    "    var data MyInt = 1\n",
    "    fmt.Println(\"value before increment1() call :\", data) \n",
    "    data.increment1()\n",
    "    fmt.Println(\"value after increment1() call :\", data) \n",
    "    data.increment2()\n",
    "    fmt.Println(\"value after increment2() call :\", data)\n",
    "}"
   ]
  },
  {
   "cell_type": "markdown",
   "metadata": {},
   "source": [
    "### Interface\n",
    "\n",
    "* a set of methods.\n",
    "\n",
    "語法：\n",
    "\n",
    "```\n",
    "type <Interface name> interface { \n",
    "    <Method name> <Return type>\n",
    "}\n",
    "```"
   ]
  },
  {
   "cell_type": "code",
   "execution_count": 95,
   "metadata": {},
   "outputs": [
    {
     "name": "stdout",
     "output_type": "stream",
     "text": [
      "414.1592653589793\n",
      "102.83185307179586\n"
     ]
    }
   ],
   "source": [
    "type Shape interface {\n",
    "    Area() float64\n",
    "    Perimeter() float64\n",
    "}\n",
    "\n",
    "type Rect struct {\n",
    "    width float64\n",
    "    height float64\n",
    "}\n",
    "\n",
    "type Circle struct {\n",
    "    radius float64\n",
    "}\n",
    "\n",
    "func (r Rect) Area() float64 {\n",
    "    return r.width * r.height\n",
    "}\n",
    "\n",
    "func (r Rect) Perimeter() float64 {\n",
    "    return 2*(r.width + r.height)\n",
    "}\n",
    "\n",
    "func (c Circle) Area() float64 {\n",
    "    return math.Pi * c.radius * c.radius\n",
    "}\n",
    "\n",
    "func (c Circle) Perimeter() float64 {\n",
    "    return 2*math.Pi * c.radius\n",
    "}\n",
    "\n",
    "func TotalArea(shapes ...Shape) float64 {\n",
    "    var area float64\n",
    "    for _, s := range shapes {\n",
    "        area += s.Area()\n",
    "    }\n",
    "    return area\n",
    "}\n",
    "\n",
    "func TotalPerimeter(shapes ...Shape) float64 {\n",
    "    var peri float64\n",
    "    for _, s := range shapes {\n",
    "        peri += s.Perimeter()\n",
    "    }\n",
    "    return peri\n",
    "}\n",
    "\n",
    "{\n",
    "    r := Rect{10, 10}\n",
    "    c := Circle{10}\n",
    "    fmt.Println(TotalArea(r, c))\n",
    "    fmt.Println(TotalPerimeter(r, c))\n",
    "}"
   ]
  },
  {
   "cell_type": "markdown",
   "metadata": {},
   "source": [
    "### Array\n",
    "\n",
    "* a collection of variables of the same data type"
   ]
  },
  {
   "cell_type": "code",
   "execution_count": 101,
   "metadata": {},
   "outputs": [
    {
     "name": "stdout",
     "output_type": "stream",
     "text": [
      "[0 0 0 0 0 0 0 0 0 0]\n",
      "[0 1 2 3 4 5 6 7 8 9]\n",
      "Len of array 10\n"
     ]
    }
   ],
   "source": [
    "{\n",
    "    var arr [10]int\n",
    "    fmt.Println(arr)\n",
    "    \n",
    "    for i := 0; i<10; i++ {\n",
    "        arr[i] = i\n",
    "    }\n",
    "    fmt.Println(arr)\n",
    "    cnt := len(arr)\n",
    "    fmt.Println(\"Len of array\", cnt)\n",
    "}"
   ]
  },
  {
   "cell_type": "markdown",
   "metadata": {},
   "source": [
    "### Slice\n",
    "* an abstraction over Array. Use arrays as an underlying structure.\n",
    "\n",
    "Operations over slice are:\n",
    "* append()\n",
    "* len()\n",
    "* cap()\n",
    "* copy()\n",
    "* re-slicing: Slice_Name[start : end]"
   ]
  },
  {
   "cell_type": "code",
   "execution_count": 102,
   "metadata": {},
   "outputs": [
    {
     "name": "stdout",
     "output_type": "stream",
     "text": [
      "[1] :: len=1 cap=1 \n",
      "[1 2] :: len=2 cap=2 \n",
      "[1 2 3] :: len=3 cap=4 \n",
      "[1 2 3 4] :: len=4 cap=4 \n",
      "[1 2 3 4 5] :: len=5 cap=8 \n",
      "[1 2 3 4 5 6] :: len=6 cap=8 \n",
      "[1 2 3 4 5 6 7] :: len=7 cap=8 \n",
      "[1 2 3 4 5 6 7 8] :: len=8 cap=8 \n",
      "[1 2 3 4 5 6 7 8 9] :: len=9 cap=16 \n",
      "[1 2 3 4 5 6 7 8 9 10] :: len=10 cap=16 \n",
      "[1 2 3 4 5 6 7 8 9 10 11] :: len=11 cap=16 \n",
      "[1 2 3 4 5 6 7 8 9 10 11 12] :: len=12 cap=16 \n",
      "[1 2 3 4 5 6 7 8 9 10 11 12 13] :: len=13 cap=16 \n",
      "[1 2 3 4 5 6 7 8 9 10 11 12 13 14] :: len=14 cap=16 \n",
      "[1 2 3 4 5 6 7 8 9 10 11 12 13 14 15] :: len=15 cap=16 \n",
      "[1 2 3 4 5 6 7 8 9 10 11 12 13 14 15 16] :: len=16 cap=16 \n",
      "[1 2 3 4 5 6 7 8 9 10 11 12 13 14 15 16 17] :: len=17 cap=32 \n"
     ]
    }
   ],
   "source": [
    "{ \n",
    "    var s []int\n",
    "    for i := 1; i <= 17; i++ { \n",
    "        s = append(s, i) \n",
    "        PrintSlice(s)\n",
    "    }\n",
    "}\n",
    "\n",
    "func PrintSlice(data []int) {\n",
    "    fmt.Printf(\"%v :: len=%d cap=%d \\n\", data, len(data), cap(data)) \n",
    "}"
   ]
  },
  {
   "cell_type": "code",
   "execution_count": 104,
   "metadata": {},
   "outputs": [
    {
     "name": "stdout",
     "output_type": "stream",
     "text": [
      "[1 2 3 4 5 6 7 8 9 10] :: len=10 cap=10 \n",
      "[0 0 0 0 0 0 0 0 0 0] :: len=10 cap=10 \n",
      "[] :: len=0 cap=10 \n",
      "[1 2 3 4] :: len=4 cap=10 \n",
      "[3 4 5] :: len=3 cap=8 \n"
     ]
    }
   ],
   "source": [
    "{\n",
    "    s := []int{1,2,3,4,5,6,7,8,9,10}\n",
    "    PrintSlice(s)\n",
    "    a := make([]int, 10)\n",
    "    PrintSlice(a)\n",
    "    b := make([]int, 0, 10) \n",
    "    PrintSlice(b)\n",
    "\n",
    "    c := s[0:4]\n",
    "    PrintSlice(c)\n",
    "    d := c[2:5]\n",
    "    PrintSlice(d)\n",
    "}"
   ]
  },
  {
   "cell_type": "markdown",
   "metadata": {},
   "source": [
    "### Map / Dictionary\n",
    "\n",
    "* A map is a collection of Key-Value pairs. Hash-Table is used to store elements in a Map so it is unordered.\n",
    "* Must be initialized via make()\n",
    "\n",
    "Operations on map:\n",
    "* Assignment: var[key] = value\n",
    "* Delete: delete(var, key)\n",
    "* Access: val, ok = var[key]"
   ]
  },
  {
   "cell_type": "code",
   "execution_count": 108,
   "metadata": {},
   "outputs": [
    {
     "name": "stdout",
     "output_type": "stream",
     "text": [
      "[ Apple -> 40 ][ Banana -> 30 ][ Mango -> 50 ]\n",
      "Apple price: 40\n",
      "Apple price: 0 Present: false\n",
      "Banana price: 30 Present: true\n"
     ]
    }
   ],
   "source": [
    "{\n",
    "    // var m map[string]int\n",
    "    m := make(map[string]int)\n",
    "    \n",
    "    m[\"Apple\"] = 40\n",
    "    m[\"Banana\"] = 30\n",
    "    m[\"Mango\"] = 50\n",
    "    for key, val := range m {\n",
    "        fmt.Print(\"[ \",key,\" -> \", val,\" ]\")\n",
    "    }\n",
    "    \n",
    "    fmt.Println(\"\\nApple price:\", m[\"Apple\"]) \n",
    "    delete(m, \"Apple\")\n",
    "    \n",
    "    value, ok := m[\"Apple\"]\n",
    "    fmt.Println(\"Apple price:\", value, \"Present:\", ok)\n",
    "    \n",
    "    value2, ok2 := m[\"Banana\"]\n",
    "    fmt.Println(\"Banana price:\", value2, \"Present:\", ok2)\n",
    "}"
   ]
  },
  {
   "cell_type": "code",
   "execution_count": null,
   "metadata": {},
   "outputs": [],
   "source": []
  }
 ],
 "metadata": {
  "kernelspec": {
   "display_name": "Go",
   "language": "go",
   "name": "gophernotes"
  },
  "language_info": {
   "codemirror_mode": "",
   "file_extension": ".go",
   "mimetype": "",
   "name": "go",
   "nbconvert_exporter": "",
   "pygments_lexer": "",
   "version": "go1.10.2"
  }
 },
 "nbformat": 4,
 "nbformat_minor": 2
}
