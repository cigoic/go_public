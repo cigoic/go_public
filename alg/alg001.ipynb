{
 "cells": [
  {
   "cell_type": "code",
   "execution_count": 5,
   "metadata": {},
   "outputs": [
    {
     "name": "stdout",
     "output_type": "stream",
     "text": [
      "Go: go1.9.5 (linux_amd64)\n",
      "User: gopher\n",
      "Working dir: /go/src/github.com/yunabe/lgo/examples\n",
      "NumCPU: 32\n"
     ]
    }
   ],
   "source": [
    "import (\n",
    "    \"fmt\"\n",
    "    \"os\"\n",
    "    \"os/user\"\n",
    "    \"runtime\"\n",
    ")\n",
    "\n",
    "{\n",
    "    user, _ := user.Current()\n",
    "    fmt.Printf(\"Go: %s (%s_%s)\\n\", runtime.Version(), runtime.GOOS, runtime.GOARCH)\n",
    "    fmt.Printf(\"User: %s\\n\", user.Username)\n",
    "    wd, _ := os.Getwd()\n",
    "    fmt.Printf(\"Working dir: %s\\n\", wd)\n",
    "    fmt.Printf(\"NumCPU: %d\\n\", runtime.NumCPU())\n",
    "}"
   ]
  },
  {
   "cell_type": "markdown",
   "metadata": {},
   "source": [
    "### Variables and Constants"
   ]
  },
  {
   "cell_type": "code",
   "execution_count": 2,
   "metadata": {},
   "outputs": [],
   "source": [
    "// package main\n",
    "\n",
    "import \"fmt\""
   ]
  },
  {
   "cell_type": "code",
   "execution_count": 6,
   "metadata": {},
   "outputs": [
    {
     "name": "stdout",
     "output_type": "stream",
     "text": [
      "Val stored in v1:: 100\n",
      "Val stored in v2:: 0\n"
     ]
    }
   ],
   "source": [
    "// func main() \n",
    "{\n",
    "    var v1 int\n",
    "    var v2 int\n",
    "    v1 = 100\n",
    "    \n",
    "    fmt.Println(\"Val stored in v1::\", v1)\n",
    "    fmt.Println(\"Val stored in v2::\", v2)\n",
    "}"
   ]
  },
  {
   "cell_type": "code",
   "execution_count": 8,
   "metadata": {},
   "outputs": [
    {
     "name": "stdout",
     "output_type": "stream",
     "text": [
      "Val stored in v3:: 100\n"
     ]
    }
   ],
   "source": [
    "// Another way to declare a variable\n",
    "{\n",
    "    v3 := 100\n",
    "    fmt.Println(\"Val stored in v3::\", v3)\n",
    "}"
   ]
  },
  {
   "cell_type": "markdown",
   "metadata": {},
   "source": [
    "### Basic Data Types"
   ]
  },
  {
   "cell_type": "code",
   "execution_count": 9,
   "metadata": {},
   "outputs": [],
   "source": [
    "import \"math\""
   ]
  },
  {
   "cell_type": "code",
   "execution_count": 10,
   "metadata": {},
   "outputs": [
    {
     "name": "stderr",
     "output_type": "stream",
     "text": [
      "13:18: math.MaxUint64 (untyped int constant 18446744073709551615) overflows int\n"
     ]
    }
   ],
   "source": [
    "{\n",
    "    maxInt8 := math.MaxInt8\n",
    "    minInt8 := math.MinInt8\n",
    "    maxInt16 := math.MaxInt16\n",
    "    minInt16 := math.MinInt16\n",
    "    maxInt32 := math.MaxInt32\n",
    "    minInt32 := math.MinInt32\n",
    "    maxInt64 := math.MaxInt64\n",
    "    minInt64 := math.MinInt64\n",
    "    maxUint8 := math.MaxUint8\n",
    "    maxUint16 := math.MaxUint16\n",
    "    maxUint32 := math.MaxUint32\n",
    "    maxUint64 := math.MaxUint64\n",
    "    maxFloat32 := math.MaxFloat32\n",
    "    maxFloat64 := math.MaxFloat64\n",
    "    \n",
    "    fmt.Println(\"Range of Int8 :: \", minInt8, \" to \", maxInt8) \n",
    "    fmt.Println(\"Range of Int16 :: \", minInt16, \" to \", maxInt16) \n",
    "    fmt.Println(\"Range of Int32 :: \", minInt32, \" to \", maxInt32) \n",
    "    fmt.Println(\"Range of Int64 :: \", minInt64, \" to \", maxInt64) \n",
    "    fmt.Println(\"Max Uint8 :: \", maxUint8)\n",
    "    fmt.Println(\"Max Uint16 :: \", maxUint16) \n",
    "    fmt.Println(\"Max Uint32 :: \", maxUint32) \n",
    "    fmt.Println(\"Max Uint64 :: \", maxUint64) \n",
    "    fmt.Println(\"Max Float32 :: \", maxFloat32) \n",
    "    fmt.Println(\"Max Float64 :: \", maxFloat64)\n",
    "}"
   ]
  },
  {
   "cell_type": "markdown",
   "metadata": {},
   "source": [
    "### String"
   ]
  },
  {
   "cell_type": "code",
   "execution_count": 11,
   "metadata": {},
   "outputs": [
    {
     "name": "stdout",
     "output_type": "stream",
     "text": [
      "Hello, 大家好\n"
     ]
    }
   ],
   "source": [
    "\n",
    "{\n",
    "    s := \"hello, 大家好\"\n",
    "    r := []rune(s)\n",
    "    r[0] = 'H'\n",
    "    s2 := string(r)\n",
    "    fmt.Println(s2)\n",
    "}"
   ]
  },
  {
   "cell_type": "code",
   "execution_count": 34,
   "metadata": {},
   "outputs": [
    {
     "name": "stdout",
     "output_type": "stream",
     "text": [
      "16\n",
      "helloworld\n",
      "false\n",
      "true\n",
      "true\n",
      "false\n",
      "2\n",
      "1234\n"
     ]
    }
   ],
   "source": [
    "// Operations on string\n",
    "{\n",
    "    s2 := \"12345, 大家好\"\n",
    "    fmt.Println(len(s2))\n",
    "    fmt.Println(\"hello\"+\"world\")\n",
    "    fmt.Println(\"world\" == \"hello\")\n",
    "    fmt.Println(\"world\" == \"world\")\n",
    "    fmt.Println(\"a\" < \"b\")\n",
    "    fmt.Println(\"b\" < \"a\") // Unicode value comparsion\n",
    "    fmt.Printf(\"%c\\n\", s2[1]) // Indexing as array\n",
    "    fmt.Println(s2[0:4]) // Slicing\n",
    "}"
   ]
  },
  {
   "cell_type": "markdown",
   "metadata": {},
   "source": [
    "### Conditions and Loops"
   ]
  },
  {
   "cell_type": "code",
   "execution_count": 38,
   "metadata": {},
   "outputs": [
    {
     "name": "stdout",
     "output_type": "stream",
     "text": [
      "false\n",
      "true\n"
     ]
    }
   ],
   "source": [
    "\n",
    "func more(x, y int) bool{\n",
    "    if x > y {\n",
    "        return true\n",
    "    }\n",
    "    return false\n",
    "}\n",
    "{\n",
    "    fmt.Println( more(1, 2))\n",
    "    fmt.Println( more(5, 2))\n",
    "}"
   ]
  },
  {
   "cell_type": "code",
   "execution_count": 40,
   "metadata": {},
   "outputs": [
    {
     "name": "stdout",
     "output_type": "stream",
     "text": [
      "4\n",
      "2\n"
     ]
    }
   ],
   "source": [
    "func max(x, y int) int {\n",
    "    var max int\n",
    "    if x > y {\n",
    "        max = x\n",
    "    } else {\n",
    "        max = y\n",
    "    }\n",
    "    return max\n",
    "}\n",
    "{\n",
    "    fmt.Println(max(2,4))\n",
    "    fmt.Println(max(-2,2))\n",
    "}"
   ]
  },
  {
   "cell_type": "code",
   "execution_count": null,
   "metadata": {},
   "outputs": [],
   "source": []
  }
 ],
 "metadata": {
  "kernelspec": {
   "display_name": "Go (lgo)",
   "language": "go",
   "name": "lgo"
  },
  "language_info": {
   "file_extension": "",
   "mimetype": "",
   "name": "go",
   "version": ""
  }
 },
 "nbformat": 4,
 "nbformat_minor": 2
}
