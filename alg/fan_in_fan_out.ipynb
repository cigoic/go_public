{
 "cells": [
  {
   "cell_type": "markdown",
   "metadata": {},
   "source": [
    "# Fan In\n",
    "\n",
    "{Producer -> Channel A, Producer -> Channel B} -> Fan In -> Chnnel C -> Consumer\n",
    "\n",
    "# Fan Out\n",
    "\n",
    "Producer -> Channel A -> Fan Out -> {Channel B -> Consumer, Channel C -> Consumer}"
   ]
  },
  {
   "cell_type": "code",
   "execution_count": 1,
   "metadata": {},
   "outputs": [],
   "source": [
    "import (\n",
    "    \"fmt\"\n",
    "    \"math/rand\"\n",
    "    \"time\"\n",
    ")"
   ]
  },
  {
   "cell_type": "code",
   "execution_count": 7,
   "metadata": {},
   "outputs": [],
   "source": [
    "func sleep() {\n",
    "    time.Sleep(time.Duration(rand.Intn(3000)) * time.Millisecond)\n",
    "}\n",
    "\n",
    "func producer(ch chan <- int, name string) {\n",
    "    for {\n",
    "        //sleep some random time\n",
    "        sleep()\n",
    "        \n",
    "        n := rand.Intn(100)\n",
    "        \n",
    "        fmt.Printf(\"Channel %s -> %d\\n\", name, n)\n",
    "        ch <- n\n",
    "    }\n",
    "}\n",
    "\n",
    "func consumer(ch <- chan int) {\n",
    "    for n := range ch {\n",
    "        fmt.Printf(\"<- %d\\n\", n)\n",
    "    }\n",
    "}\n",
    "\n",
    "func fanIn(chA, chB <- chan int, chC chan <- int) {\n",
    "    var n int\n",
    "    for {\n",
    "        select {\n",
    "        case n = <- chA:\n",
    "            chC <- n\n",
    "        case n = <- chB:\n",
    "            chC <- n\n",
    "        }\n",
    "    }\n",
    "}"
   ]
  },
  {
   "cell_type": "code",
   "execution_count": 8,
   "metadata": {},
   "outputs": [
    {
     "name": "stdout",
     "output_type": "stream",
     "text": [
      "Channel B -> 23\n",
      "<- 23\n",
      "Channel A -> 2\n",
      "<- 2\n",
      "Channel A -> 24\n",
      "<- 24\n",
      "Channel B -> 78\n",
      "<- 78\n",
      "Channel A -> 86\n",
      "<- 86\n",
      "Channel A -> 6\n",
      "<- 6\n",
      "Channel B -> 74\n",
      "<- 74\n",
      "Channel A -> 99\n",
      "<- 99\n",
      "Channel B -> 90\n",
      "<- 90\n",
      "Channel A -> 18\n",
      "<- 18\n",
      "Channel B -> 90\n",
      "<- 90\n",
      "Channel B -> 78\n",
      "<- 78\n",
      "Channel A -> 51\n",
      "<- 51\n",
      "Channel A -> 53\n",
      "<- 53\n"
     ]
    },
    {
     "name": "stderr",
     "output_type": "stream",
     "text": [
      "main routine canceled, 2 goroutines canceled, 1 goroutine is hanging\n"
     ]
    }
   ],
   "source": [
    "chA := make(chan int)\n",
    "chB := make(chan int)\n",
    "chC := make(chan int)\n",
    "\n",
    "go producer(chA, \"A\")\n",
    "go producer(chB, \"B\")\n",
    "go consumer(chC)\n",
    "\n",
    "fanIn(chA, chB, chC)"
   ]
  },
  {
   "cell_type": "markdown",
   "metadata": {},
   "source": [
    "# Fan Out"
   ]
  },
  {
   "cell_type": "code",
   "execution_count": 10,
   "metadata": {},
   "outputs": [],
   "source": [
    "func sleep() {\n",
    "    time.Sleep(time.Duration(rand.Intn(3000)) * time.Millisecond)\n",
    "}\n",
    "\n",
    "func producer(ch chan <- int) {\n",
    "    for {\n",
    "        //sleep some random time\n",
    "        sleep()\n",
    "        \n",
    "        n := rand.Intn(100)\n",
    "        \n",
    "        fmt.Printf(\" -> %d\\n\", n)\n",
    "        ch <- n\n",
    "    }\n",
    "}\n",
    "\n",
    "func consumer(ch <- chan int, name string) {\n",
    "    for n := range ch {\n",
    "        fmt.Printf(\"Consumer %s <- %d\\n\", name, n)\n",
    "    }\n",
    "}\n",
    "\n",
    "func fanOut(chA <- chan int, chB, chC chan <- int) {\n",
    "    for n := range chA {\n",
    "        if n < 50 {\n",
    "            chB <- n\n",
    "        } else {\n",
    "            chC <- n\n",
    "        }\n",
    "    }\n",
    "}"
   ]
  },
  {
   "cell_type": "code",
   "execution_count": 11,
   "metadata": {},
   "outputs": [
    {
     "name": "stdout",
     "output_type": "stream",
     "text": [
      " -> 37\n",
      "Consumer B <- 37\n",
      " -> 62\n",
      "Consumer C <- 62\n",
      " -> 38\n",
      "Consumer B <- 38\n",
      " -> 30\n",
      "Consumer B <- 30\n",
      " -> 68\n",
      "Consumer C <- 68\n",
      " -> 6\n",
      "Consumer B <- 6\n",
      " -> 18\n",
      "Consumer B <- 18\n",
      " -> 83\n",
      "Consumer C <- 83\n",
      " -> 40\n",
      "Consumer B <- 40\n",
      " -> 27\n",
      "Consumer B <- 27\n",
      " -> 0\n",
      "Consumer B <- 0\n",
      " -> 80\n",
      "Consumer C <- 80\n",
      " -> 70\n",
      "Consumer C <- 70\n"
     ]
    },
    {
     "name": "stderr",
     "output_type": "stream",
     "text": [
      "main routine is hanging, 3 goroutines are hanging\n"
     ]
    }
   ],
   "source": [
    "chA := make(chan int)\n",
    "chB := make(chan int)\n",
    "chC := make(chan int)\n",
    "\n",
    "go producer(chA)\n",
    "go consumer(chB, \"B\")\n",
    "go consumer(chC, \"C\")\n",
    "\n",
    "fanOut(chA, chB, chC)"
   ]
  },
  {
   "cell_type": "code",
   "execution_count": null,
   "metadata": {},
   "outputs": [],
   "source": []
  }
 ],
 "metadata": {
  "kernelspec": {
   "display_name": "Go (lgo)",
   "language": "go",
   "name": "lgo"
  },
  "language_info": {
   "file_extension": "",
   "mimetype": "",
   "name": "go",
   "version": ""
  }
 },
 "nbformat": 4,
 "nbformat_minor": 2
}
