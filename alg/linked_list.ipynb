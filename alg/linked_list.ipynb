{
 "cells": [
  {
   "cell_type": "markdown",
   "metadata": {},
   "source": [
    "# 單向鏈結\n",
    "\n",
    "[]：表示一個節點(node)\n",
    "\n",
    "[A | next] --> [B | next] --> [C | next] --> [D |(空)]"
   ]
  },
  {
   "cell_type": "code",
   "execution_count": 1,
   "metadata": {},
   "outputs": [],
   "source": [
    "import (\n",
    "    \"fmt\"\n",
    ")"
   ]
  },
  {
   "cell_type": "code",
   "execution_count": 2,
   "metadata": {},
   "outputs": [],
   "source": [
    "type Node struct {\n",
    "    value int\n",
    "    next *Node\n",
    "}\n",
    "\n",
    "type List struct {\n",
    "    head *Node\n",
    "    tail *Node\n",
    "}\n",
    "\n",
    "func (l *List) First() *Node {\n",
    "    return l.head\n",
    "}\n",
    "\n",
    "func (l *List) Push(v int) {\n",
    "    node := &Node{value: v}\n",
    "    if l.head == nil { // 第一個節點\n",
    "        l.head = node\n",
    "    }\n",
    "    \n",
    "    l.tail = node\n",
    "}\n",
    "\n",
    "func (n *Node) Next() *Node {\n",
    "    return n.next\n",
    "}"
   ]
  },
  {
   "cell_type": "code",
   "execution_count": 3,
   "metadata": {},
   "outputs": [
    {
     "name": "stdout",
     "output_type": "stream",
     "text": [
      "1\n",
      "2\n",
      "<nil>\n"
     ]
    }
   ],
   "source": [
    "// main()\n",
    "l := &List{}\n",
    "l.Push(1)\n",
    "l.Push(2)\n",
    "l.Push(3)\n",
    "n := l.First()\n",
    "fmt.Println(n.value)"
   ]
  },
  {
   "cell_type": "code",
   "execution_count": 4,
   "metadata": {},
   "outputs": [
    {
     "name": "stderr",
     "output_type": "stream",
     "text": [
      "panic: runtime error: invalid memory address or nil pointer dereference\n",
      "\n",
      "goroutine 44 [running]:\n",
      "runtime/debug.Stack(0xc400000008, 0x7fb0e12713f8, 0xc4203eaef0)\n",
      "\t/usr/local/go/src/runtime/debug/stack.go:24 +0xa9\n",
      "github.com/yunabe/lgo/core.(*resultCounter).recordResult(0xc4203eaed8, 0x7fb0e1183100, 0x7fb0e1593460)\n",
      "\t/home/gopher/go/src/github.com/yunabe/lgo/core/core.go:94 +0xce\n",
      "github.com/yunabe/lgo/core.(*resultCounter).recordResultInDefer(0xc4203eaed8)\n",
      "\t/home/gopher/go/src/github.com/yunabe/lgo/core/core.go:99 +0x3b\n",
      "panic(0x7fb0e1183100, 0x7fb0e1593460)\n",
      "\t/usr/local/go/src/runtime/panic.go:491 +0x294\n",
      "github.com/yunabe/lgo/sess7b2274696d65223a313532383532343536353834353132353530307d/exec4.lgo_init()\n",
      "\t/home/gopher/go/src/github.com/yunabe/lgo/sess7b2274696d65223a313532383532343536353834353132353530307d/exec4/src.go:11 +0x7d\n",
      "github.com/yunabe/lgo/cmd/runner.loadShared.func3()\n",
      "\t/home/gopher/go/src/github.com/yunabe/lgo/cmd/runner/runner.go:62 +0x26\n",
      "github.com/yunabe/lgo/core.startExec.func1(0xc4203eaea0, 0xc4201f00f0)\n",
      "\t/home/gopher/go/src/github.com/yunabe/lgo/core/core.go:250 +0x83\n",
      "created by github.com/yunabe/lgo/core.startExec\n",
      "\t/home/gopher/go/src/github.com/yunabe/lgo/core/core.go:247 +0xcb\n",
      "main routine failed\n"
     ]
    }
   ],
   "source": [
    "n = n.Next()\n",
    "fmt.Println(n.value) // error 出現，因為 n.next 尚未被給值"
   ]
  },
  {
   "cell_type": "code",
   "execution_count": 5,
   "metadata": {},
   "outputs": [],
   "source": [
    "// 修正：注意 Push() 中的 else statement\n",
    "type Node struct {\n",
    "    value int\n",
    "    next *Node\n",
    "}\n",
    "\n",
    "type List struct {\n",
    "    head *Node\n",
    "    tail *Node\n",
    "}\n",
    "\n",
    "func (l *List) First() *Node {\n",
    "    return l.head\n",
    "}\n",
    "\n",
    "func (l *List) Push(v int) {\n",
    "    node := &Node{value: v}\n",
    "    if l.head == nil { // 第一個節點\n",
    "        l.head = node\n",
    "    } else { // 之後的節點\n",
    "        // previous tail's next\n",
    "        l.tail.next = node\n",
    "    }\n",
    "    \n",
    "    l.tail = node\n",
    "}\n",
    "\n",
    "func (n *Node) Next() *Node {\n",
    "    return n.next\n",
    "}"
   ]
  },
  {
   "cell_type": "code",
   "execution_count": 10,
   "metadata": {},
   "outputs": [
    {
     "name": "stdout",
     "output_type": "stream",
     "text": [
      "1\n",
      "2\n"
     ]
    }
   ],
   "source": [
    "// main()\n",
    "l := &List{}\n",
    "l.Push(1)\n",
    "l.Push(2)\n",
    "l.Push(3)\n",
    "\n",
    "n := l.First()\n",
    "fmt.Println(n.value)\n",
    "\n",
    "n = n.Next()\n",
    "fmt.Println(n.value)"
   ]
  },
  {
   "cell_type": "code",
   "execution_count": 8,
   "metadata": {},
   "outputs": [
    {
     "name": "stdout",
     "output_type": "stream",
     "text": [
      "1\n",
      "2\n",
      "3\n"
     ]
    }
   ],
   "source": [
    "n := l.First()\n",
    "for {\n",
    "    fmt.Println(n.value)\n",
    "    n = n.Next()\n",
    "    if n == nil { //when there is no next\n",
    "        break\n",
    "    }\n",
    "}"
   ]
  },
  {
   "cell_type": "markdown",
   "metadata": {},
   "source": [
    "# 雙向鏈結\n",
    "\n",
    "[(空)| A | next] <--\\> [prev | B | next] <--\\> [prev | C | next] <--\\> [prev | D | (空)]\n",
    "\n",
    "節點 A 為 Head, 節點 D 為 Tail"
   ]
  },
  {
   "cell_type": "code",
   "execution_count": 11,
   "metadata": {},
   "outputs": [],
   "source": [
    "// 新增： a pointer of \"prev\" Node, and Last(), Prev() methods\n",
    "\n",
    "type Node struct {\n",
    "    value int\n",
    "    next *Node\n",
    "    prev *Node //*新增\n",
    "}\n",
    "\n",
    "type List struct {\n",
    "    head *Node\n",
    "    tail *Node\n",
    "}\n",
    "\n",
    "func (l *List) First() *Node {\n",
    "    return l.head\n",
    "}\n",
    "\n",
    "//*新增\n",
    "func (l *List) Last() *Node {\n",
    "    return l.tail\n",
    "}\n",
    "\n",
    "func (l *List) Push(v int) {\n",
    "    node := &Node{value: v}\n",
    "    if l.head == nil {\n",
    "        l.head = node\n",
    "    } else {\n",
    "        // previous tail's next\n",
    "        l.tail.next = node\n",
    "    }\n",
    "    \n",
    "    l.tail = node\n",
    "}\n",
    "\n",
    "func (n *Node) Next() *Node {\n",
    "    return n.next\n",
    "}\n",
    "\n",
    "//*新增\n",
    "func (n *Node) Prev() *Node {\n",
    "    return n.prev\n",
    "}"
   ]
  },
  {
   "cell_type": "code",
   "execution_count": 13,
   "metadata": {},
   "outputs": [
    {
     "name": "stdout",
     "output_type": "stream",
     "text": [
      "1\n",
      "2\n",
      "3\n",
      "3\n"
     ]
    }
   ],
   "source": [
    "l := &List{}\n",
    "l.Push(1)\n",
    "l.Push(2)\n",
    "l.Push(3)\n",
    "\n",
    "n := l.First()\n",
    "for {\n",
    "    fmt.Println(n.value)\n",
    "    n = n.Next()\n",
    "    if n == nil { //when there is no next\n",
    "        break\n",
    "    }\n",
    "}\n",
    "\n",
    "n = l.Last()\n",
    "for {\n",
    "    fmt.Println(n.value)\n",
    "    n = n.Prev() //always get nil here...\n",
    "    if n == nil { //when there is no next\n",
    "        break\n",
    "    }\n",
    "}"
   ]
  },
  {
   "cell_type": "code",
   "execution_count": 14,
   "metadata": {},
   "outputs": [],
   "source": [
    "// 修正\n",
    "\n",
    "type Node struct {\n",
    "    value int\n",
    "    next *Node\n",
    "    prev *Node\n",
    "}\n",
    "\n",
    "type List struct {\n",
    "    head *Node\n",
    "    tail *Node\n",
    "}\n",
    "\n",
    "func (l *List) First() *Node {\n",
    "    return l.head\n",
    "}\n",
    "\n",
    "func (l *List) Last() *Node {\n",
    "    return l.tail\n",
    "}\n",
    "\n",
    "func (l *List) Push(v int) {\n",
    "    node := &Node{value: v}\n",
    "    if l.head == nil { // 第一個節點\n",
    "        l.head = node\n",
    "    } else { // 之後的節點\n",
    "        // previous tail's next will be assigned to the new node\n",
    "        l.tail.next = node\n",
    "        // 修正: this node's previous node will be assigned to the CURRENT last one item\n",
    "        node.prev = l.tail\n",
    "    }\n",
    "    \n",
    "    l.tail = node\n",
    "}\n",
    "\n",
    "func (n *Node) Next() *Node {\n",
    "    return n.next\n",
    "}\n",
    "\n",
    "func (n *Node) Prev() *Node {\n",
    "    return n.prev\n",
    "}"
   ]
  },
  {
   "cell_type": "code",
   "execution_count": 15,
   "metadata": {},
   "outputs": [
    {
     "name": "stdout",
     "output_type": "stream",
     "text": [
      "1\n",
      "2\n",
      "3\n",
      "3\n",
      "2\n",
      "1\n"
     ]
    }
   ],
   "source": [
    "l := &List{}\n",
    "l.Push(1)\n",
    "l.Push(2)\n",
    "l.Push(3)\n",
    "\n",
    "n := l.First()\n",
    "for {\n",
    "    fmt.Println(n.value)\n",
    "    n = n.Next()\n",
    "    if n == nil { //when there is no next\n",
    "        break\n",
    "    }\n",
    "}\n",
    "\n",
    "n = l.Last()\n",
    "for {\n",
    "    fmt.Println(n.value)\n",
    "    n = n.Prev() //always get nil here...\n",
    "    if n == nil { //when there is no next\n",
    "        break\n",
    "    }\n",
    "}"
   ]
  },
  {
   "cell_type": "markdown",
   "metadata": {},
   "source": [
    "# [推薦]官方版的 list package\n",
    "\n",
    "Go 也提供 list package, 我們建議使用 standard library 中的 list package\n",
    "\n",
    "https://golang.org/pkg/container/list/"
   ]
  },
  {
   "cell_type": "code",
   "execution_count": null,
   "metadata": {},
   "outputs": [],
   "source": [
    "import (\n",
    "    \"container/list\"\n",
    ")"
   ]
  }
 ],
 "metadata": {
  "kernelspec": {
   "display_name": "Go (lgo)",
   "language": "go",
   "name": "lgo"
  },
  "language_info": {
   "file_extension": "",
   "mimetype": "",
   "name": "go",
   "version": ""
  }
 },
 "nbformat": 4,
 "nbformat_minor": 2
}
