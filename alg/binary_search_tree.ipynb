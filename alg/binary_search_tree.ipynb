{
 "cells": [
  {
   "cell_type": "code",
   "execution_count": 1,
   "metadata": {},
   "outputs": [],
   "source": [
    "import \"fmt\""
   ]
  },
  {
   "cell_type": "code",
   "execution_count": 15,
   "metadata": {},
   "outputs": [],
   "source": [
    "type Tree struct {\n",
    "    node *Node\n",
    "}\n",
    "\n",
    "type Node struct {\n",
    "    value int\n",
    "    left  *Node\n",
    "    right *Node\n",
    "}\n",
    "\n",
    "func (t *Tree) insert(value int) *Tree {\n",
    "    if t.node == nil {\n",
    "        t.node = &Node{value: value}\n",
    "    } else {\n",
    "        t.node.insert(value)\n",
    "    }\n",
    "    return t\n",
    "}\n",
    "\n",
    "func (n *Node) insert(value int) {\n",
    "    if value <= n.value {\n",
    "        if n.left == nil {\n",
    "            n.left = &Node{value: value}\n",
    "        } else {\n",
    "            n.left.insert(value)\n",
    "        }\n",
    "    } else {\n",
    "        if n.right == nil {\n",
    "            n.right = &Node{value: value}\n",
    "        } else {\n",
    "            n.right.insert(value)\n",
    "        }\n",
    "    }\n",
    "}\n",
    "\n",
    "func printNode(n *Node) {\n",
    "    if n == nil {\n",
    "        return\n",
    "    }\n",
    "    fmt.Println(n.value)\n",
    "    printNode(n.left)\n",
    "    printNode(n.right)\n",
    "}"
   ]
  },
  {
   "cell_type": "code",
   "execution_count": 16,
   "metadata": {},
   "outputs": [
    {
     "name": "stdout",
     "output_type": "stream",
     "text": [
      "10\n",
      "8\n",
      "0\n",
      "9\n",
      "20\n",
      "15\n",
      "25\n"
     ]
    }
   ],
   "source": [
    "{\n",
    "    t := &Tree{}\n",
    "    // chaining methods\n",
    "    t.insert(10).insert(8).insert(20).insert(9).insert(0).insert(15).insert(25)\n",
    "    \n",
    "//     t.insert(10)\n",
    "//     t.insert(8)\n",
    "//     t.insert(20)\n",
    "//     t.insert(9)\n",
    "//     t.insert(0)\n",
    "//     t.insert(15)\n",
    "//     t.insert(25)\n",
    "    printNode(t.node)\n",
    "}"
   ]
  },
  {
   "cell_type": "code",
   "execution_count": 23,
   "metadata": {},
   "outputs": [],
   "source": [
    "type Tree struct {\n",
    "    node *Node\n",
    "}\n",
    "\n",
    "type Node struct {\n",
    "    value int\n",
    "    left  *Node\n",
    "    right *Node\n",
    "}\n",
    "\n",
    "func (t *Tree) insert(value int) *Tree {\n",
    "    if t.node == nil {\n",
    "        t.node = &Node{value: value}\n",
    "    } else {\n",
    "        t.node.insert(value)\n",
    "    }\n",
    "    return t\n",
    "}\n",
    "\n",
    "func (n *Node) insert(value int) {\n",
    "    if value <= n.value {\n",
    "        if n.left == nil {\n",
    "            n.left = &Node{value: value}\n",
    "        } else {\n",
    "            n.left.insert(value)\n",
    "        }\n",
    "    } else {\n",
    "        if n.right == nil {\n",
    "            n.right = &Node{value: value}\n",
    "        } else {\n",
    "            n.right.insert(value)\n",
    "        }\n",
    "    }\n",
    "}\n",
    "\n",
    "func printNode(n *Node) {\n",
    "    if n == nil {\n",
    "        return\n",
    "    }\n",
    "    fmt.Println(n.value)\n",
    "    printNode(n.left)\n",
    "    printNode(n.right)\n",
    "}\n",
    "\n",
    "// 檢查值是否存在\n",
    "func (n *Node) exists(value int) bool {\n",
    "    if n == nil {\n",
    "        return false\n",
    "    }\n",
    "    \n",
    "    if n.value == value {\n",
    "        return true\n",
    "    }\n",
    "    \n",
    "    fmt.Println(n.value) //DEBUG\n",
    "    \n",
    "    // doing binary op\n",
    "    if value <= n.value {\n",
    "        return n.left.exists(value)\n",
    "    } else {\n",
    "        return n.right.exists(value)\n",
    "    }\n",
    "}"
   ]
  },
  {
   "cell_type": "code",
   "execution_count": 25,
   "metadata": {},
   "outputs": [
    {
     "name": "stdout",
     "output_type": "stream",
     "text": [
      "10\n",
      "20\n",
      "true\n",
      "10\n",
      "20\n",
      "25\n",
      "false\n"
     ]
    }
   ],
   "source": [
    "{\n",
    "    t := &Tree{}\n",
    "    // chaining methods\n",
    "    t.insert(10).insert(8).insert(20).insert(9).insert(0).insert(15).insert(25)\n",
    "    \n",
    "    fmt.Println(t.node.exists(15))\n",
    "    fmt.Println(t.node.exists(26))\n",
    "}"
   ]
  },
  {
   "cell_type": "code",
   "execution_count": null,
   "metadata": {},
   "outputs": [],
   "source": []
  }
 ],
 "metadata": {
  "kernelspec": {
   "display_name": "Go (lgo)",
   "language": "go",
   "name": "lgo"
  },
  "language_info": {
   "file_extension": "",
   "mimetype": "",
   "name": "go",
   "version": ""
  }
 },
 "nbformat": 4,
 "nbformat_minor": 2
}
