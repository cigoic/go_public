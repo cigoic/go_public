{
 "cells": [
  {
   "cell_type": "markdown",
   "metadata": {},
   "source": [
    "# What is Queue?\n",
    "\n",
    "與 Stack (First-In-Last-Out) 相反，Queue 為 First-In-First-Out, 先填入的值先取出。\n",
    "\n",
    "有兩大操作：\n",
    "\n",
    "* Enqueue()\n",
    "\n",
    "* Dequeue()\n"
   ]
  },
  {
   "cell_type": "code",
   "execution_count": 1,
   "metadata": {},
   "outputs": [],
   "source": [
    "import (\n",
    "    \"fmt\"\n",
    ")"
   ]
  },
  {
   "cell_type": "code",
   "execution_count": 2,
   "metadata": {},
   "outputs": [],
   "source": [
    "type Queue struct {\n",
    "    items []int\n",
    "}\n",
    "\n",
    "func (q *Queue) Enqueue(i int) {\n",
    "    \n",
    "}\n",
    "\n",
    "func (q *Queue) Dequeue() int {\n",
    "    return 0\n",
    "}"
   ]
  },
  {
   "cell_type": "code",
   "execution_count": 3,
   "metadata": {},
   "outputs": [
    {
     "name": "stdout",
     "output_type": "stream",
     "text": [
      "0\n",
      "0\n",
      "0\n",
      "0\n"
     ]
    }
   ],
   "source": [
    "{\n",
    "    q := Queue{}\n",
    "    q.Enqueue(1)\n",
    "    q.Enqueue(2)\n",
    "    q.Enqueue(3)\n",
    "    q.Enqueue(4)\n",
    "\n",
    "    fmt.Println(q.Dequeue())\n",
    "    fmt.Println(q.Dequeue())\n",
    "    fmt.Println(q.Dequeue())\n",
    "    fmt.Println(q.Dequeue())\n",
    "    \n",
    "}"
   ]
  },
  {
   "cell_type": "code",
   "execution_count": 5,
   "metadata": {},
   "outputs": [],
   "source": [
    "// 修正\n",
    "type Queue struct {\n",
    "    items []int\n",
    "}\n",
    "\n",
    "func (q *Queue) Enqueue(i int) {\n",
    "    q.items = append(q.items, i)\n",
    "}\n",
    "\n",
    "func (q *Queue) Dequeue() int {\n",
    "    item, items := q.items[0], q.items[1:]\n",
    "    q.items = items\n",
    "    return item\n",
    "}"
   ]
  },
  {
   "cell_type": "code",
   "execution_count": 6,
   "metadata": {},
   "outputs": [
    {
     "name": "stdout",
     "output_type": "stream",
     "text": [
      "1\n",
      "2\n",
      "3\n",
      "4\n"
     ]
    }
   ],
   "source": [
    "{\n",
    "    q := Queue{}\n",
    "    q.Enqueue(1)\n",
    "    q.Enqueue(2)\n",
    "    q.Enqueue(3)\n",
    "    q.Enqueue(4)\n",
    "\n",
    "    fmt.Println(q.Dequeue())\n",
    "    fmt.Println(q.Dequeue())\n",
    "    fmt.Println(q.Dequeue())\n",
    "    fmt.Println(q.Dequeue())\n",
    "    \n",
    "}"
   ]
  },
  {
   "cell_type": "code",
   "execution_count": 7,
   "metadata": {},
   "outputs": [
    {
     "name": "stdout",
     "output_type": "stream",
     "text": [
      "1\n",
      "2\n"
     ]
    },
    {
     "name": "stderr",
     "output_type": "stream",
     "text": [
      "panic: runtime error: slice bounds out of range\n",
      "\n",
      "goroutine 58 [running]:\n",
      "runtime/debug.Stack(0xc400000008, 0x7f37350883f8, 0xc42044edd0)\n",
      "\t/usr/local/go/src/runtime/debug/stack.go:24 +0xa9\n",
      "github.com/yunabe/lgo/core.(*resultCounter).recordResult(0xc42044edb8, 0x7f3734f9a100, 0x7f37353aa4b0)\n",
      "\t/home/gopher/go/src/github.com/yunabe/lgo/core/core.go:94 +0xce\n",
      "github.com/yunabe/lgo/core.(*resultCounter).recordResultInDefer(0xc42044edb8)\n",
      "\t/home/gopher/go/src/github.com/yunabe/lgo/core/core.go:99 +0x3b\n",
      "panic(0x7f3734f9a100, 0x7f37353aa4b0)\n",
      "\t/usr/local/go/src/runtime/panic.go:491 +0x294\n",
      "github.com/yunabe/lgo/sess7b2274696d65223a313532383532383331303830343635353430307d/exec5.(*Queue).Dequeue(0xc42034bf70, 0x1)\n",
      "\t/home/gopher/go/src/github.com/yunabe/lgo/sess7b2274696d65223a313532383532383331303830343635353430307d/exec5/src.go:14 +0x9d\n",
      "github.com/yunabe/lgo/sess7b2274696d65223a313532383532383331303830343635353430307d/exec7.lgo_init()\n",
      "\t/home/gopher/go/src/github.com/yunabe/lgo/sess7b2274696d65223a313532383532383331303830343635353430307d/exec7/src.go:20 +0x1bd\n",
      "github.com/yunabe/lgo/cmd/runner.loadShared.func3()\n",
      "\t/home/gopher/go/src/github.com/yunabe/lgo/cmd/runner/runner.go:62 +0x26\n",
      "github.com/yunabe/lgo/core.startExec.func1(0xc42044ed80, 0xc4200b44c0)\n",
      "\t/home/gopher/go/src/github.com/yunabe/lgo/core/core.go:250 +0x83\n",
      "created by github.com/yunabe/lgo/core.startExec\n",
      "\t/home/gopher/go/src/github.com/yunabe/lgo/core/core.go:247 +0xcb\n",
      "main routine failed\n"
     ]
    }
   ],
   "source": [
    "{\n",
    "    q := Queue{}\n",
    "    q.Enqueue(1)\n",
    "    q.Enqueue(2)\n",
    "\n",
    "    fmt.Println(q.Dequeue())\n",
    "    fmt.Println(q.Dequeue())\n",
    "    fmt.Println(q.Dequeue())\n",
    "    fmt.Println(q.Dequeue())\n",
    "    \n",
    "}"
   ]
  },
  {
   "cell_type": "code",
   "execution_count": 9,
   "metadata": {},
   "outputs": [],
   "source": [
    "// 修正 2\n",
    "type Queue struct {\n",
    "    items []int\n",
    "}\n",
    "\n",
    "func (q *Queue) Enqueue(i int) {\n",
    "    q.items = append(q.items, i)\n",
    "}\n",
    "\n",
    "func (q *Queue) Dequeue() int {\n",
    "    if len(q.items) == 0 {\n",
    "        return -1\n",
    "    }\n",
    "    item, items := q.items[0], q.items[1:]\n",
    "    q.items = items\n",
    "    return item\n",
    "}"
   ]
  },
  {
   "cell_type": "code",
   "execution_count": 10,
   "metadata": {},
   "outputs": [
    {
     "name": "stdout",
     "output_type": "stream",
     "text": [
      "1\n",
      "2\n",
      "-1\n",
      "-1\n"
     ]
    }
   ],
   "source": [
    "{\n",
    "    q := Queue{}\n",
    "    q.Enqueue(1)\n",
    "    q.Enqueue(2)\n",
    "\n",
    "    fmt.Println(q.Dequeue())\n",
    "    fmt.Println(q.Dequeue())\n",
    "    fmt.Println(q.Dequeue())\n",
    "    fmt.Println(q.Dequeue())\n",
    "    \n",
    "}"
   ]
  },
  {
   "cell_type": "markdown",
   "metadata": {},
   "source": [
    "# 使用 Channel 實現 Queue"
   ]
  },
  {
   "cell_type": "code",
   "execution_count": null,
   "metadata": {},
   "outputs": [],
   "source": [
    "// 參考 queue_chan.ipynb"
   ]
  }
 ],
 "metadata": {
  "kernelspec": {
   "display_name": "Go (lgo)",
   "language": "go",
   "name": "lgo"
  },
  "language_info": {
   "file_extension": "",
   "mimetype": "",
   "name": "go",
   "version": ""
  }
 },
 "nbformat": 4,
 "nbformat_minor": 2
}
