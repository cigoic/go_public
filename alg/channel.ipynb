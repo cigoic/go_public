{
 "cells": [
  {
   "cell_type": "code",
   "execution_count": 8,
   "metadata": {},
   "outputs": [],
   "source": [
    "import (\n",
    "    \"fmt\"\n",
    "    \"math/rand\"\n",
    "    \"time\"\n",
    ")"
   ]
  },
  {
   "cell_type": "code",
   "execution_count": 9,
   "metadata": {},
   "outputs": [],
   "source": [
    "func process2(ch chan int) {\n",
    "    n := rand.Intn(3000)\n",
    "    time.Sleep(time.Duration(n) * time.Millisecond)\n",
    "    ch <- n // sent to channel\n",
    "}"
   ]
  },
  {
   "cell_type": "code",
   "execution_count": 11,
   "metadata": {},
   "outputs": [
    {
     "name": "stdout",
     "output_type": "stream",
     "text": [
      "Waiting for process\n",
      "Process took 2950ms\n"
     ]
    }
   ],
   "source": [
    "{\n",
    "    ch := make(chan int)\n",
    "    go process2(ch)\n",
    "\n",
    "    fmt.Println(\"Waiting for process\")\n",
    "    n := <- ch\n",
    "    fmt.Printf(\"Process took %dms\\n\", n)\n",
    "}"
   ]
  },
  {
   "cell_type": "code",
   "execution_count": null,
   "metadata": {},
   "outputs": [],
   "source": []
  }
 ],
 "metadata": {
  "kernelspec": {
   "display_name": "Go (lgo)",
   "language": "go",
   "name": "lgo"
  },
  "language_info": {
   "file_extension": "",
   "mimetype": "",
   "name": "go",
   "version": ""
  }
 },
 "nbformat": 4,
 "nbformat_minor": 2
}
