{
 "cells": [
  {
   "cell_type": "code",
   "execution_count": 2,
   "metadata": {},
   "outputs": [],
   "source": [
    "import (\n",
    "    \"fmt\"\n",
    ")\n",
    "list_a := []int{1,2,3,4,5,6,7,8,9,10}\n",
    "list_data := []int{2,5,9,12,15,42,63,77,89,92,101}\n",
    "list_udata := []int{5,77,95,9,12,63,4,101,77,2,89}"
   ]
  },
  {
   "cell_type": "code",
   "execution_count": 14,
   "metadata": {},
   "outputs": [
    {
     "name": "stdout",
     "output_type": "stream",
     "text": [
      "Avg: 5.5\n"
     ]
    }
   ],
   "source": [
    "// 1. 求 list 中所有元素的平均數\n",
    "{\n",
    "    var sum float32\n",
    "    for _, val := range list_a {\n",
    "        sum += float32(val)\n",
    "    }\n",
    "    fmt.Println(\"Avg:\", sum / float32(len(list_a)))\n",
    "}"
   ]
  },
  {
   "cell_type": "code",
   "execution_count": 19,
   "metadata": {},
   "outputs": [
    {
     "name": "stdout",
     "output_type": "stream",
     "text": [
      "[[1 2 3] [4 5 6]]\n",
      "Sum: 21\n"
     ]
    }
   ],
   "source": [
    "// 2. 求 2-D list 中所有元素總和\n",
    "{\n",
    "    values := [][]int{}\n",
    "\n",
    "    row1 := []int{1, 2, 3}\n",
    "    row2 := []int{4, 5, 6}\n",
    "\n",
    "    // Append each row to the two-dimensional slice.\n",
    "    values = append(values, row1)\n",
    "    values = append(values, row2)\n",
    "    fmt.Println(values)\n",
    "    \n",
    "    var sum float32\n",
    "    for _, row := range values {\n",
    "        for _, val := range row {\n",
    "            sum += float32(val)\n",
    "        }\n",
    "    }\n",
    "    fmt.Println(\"Sum:\", sum)\n",
    "}"
   ]
  },
  {
   "cell_type": "code",
   "execution_count": 36,
   "metadata": {},
   "outputs": [
    {
     "name": "stdout",
     "output_type": "stream",
     "text": [
      "Assign new MAX = 77\n",
      "Assign new MAX = 95\n",
      "Assign new MAX = 101\n",
      "MAX = 101\n"
     ]
    }
   ],
   "source": [
    "// 3. 求 list 中最大元素\n",
    "{\n",
    "    max := list_udata[0]\n",
    "    for _, val := range list_udata {\n",
    "        if val > max {\n",
    "            max = val\n",
    "            fmt.Println(\"Assign new MAX =\", max)\n",
    "        }\n",
    "    }\n",
    "    fmt.Println(\"MAX =\", max)\n",
    "}"
   ]
  },
  {
   "cell_type": "code",
   "execution_count": 37,
   "metadata": {},
   "outputs": [
    {
     "name": "stdout",
     "output_type": "stream",
     "text": [
      "Found new min = 4\n",
      "Found new min = 2\n",
      "min = 2\n"
     ]
    }
   ],
   "source": [
    "// 4. 求 list 中最小元素\n",
    "{\n",
    "    min := list_udata[0]\n",
    "    for _, val := range list_udata {\n",
    "        if val < min {\n",
    "            min = val\n",
    "            fmt.Println(\"Found new min =\", min)\n",
    "        }\n",
    "    }\n",
    "    fmt.Println(\"min =\", min)\n",
    "}"
   ]
  },
  {
   "cell_type": "code",
   "execution_count": 63,
   "metadata": {},
   "outputs": [
    {
     "name": "stdout",
     "output_type": "stream",
     "text": [
      "Found new MAX = 5\n",
      "Found new MAX = 77\n",
      "Found new MAX = 95\n",
      "Found new MAX = 101\n",
      "2nd MAX = 95\n"
     ]
    }
   ],
   "source": [
    "// 5. 求 list 中第二大元素\n",
    "{\n",
    "    maxSoFar := list_udata[0]\n",
    "    max := 0\n",
    "    for _, val := range list_udata {\n",
    "        if val > max {\n",
    "            maxSoFar = max\n",
    "            max = val\n",
    "            fmt.Println(\"Found new MAX =\", max)\n",
    "        }\n",
    "    }\n",
    "    fmt.Println(\"2nd MAX =\", maxSoFar)\n",
    "}"
   ]
  },
  {
   "cell_type": "code",
   "execution_count": 65,
   "metadata": {},
   "outputs": [
    {
     "name": "stdout",
     "output_type": "stream",
     "text": [
      "[0 1 2 3 4]\n",
      "[0 1 2 4 3]\n",
      "[0 1 3 2 4]\n",
      "[0 1 3 4 2]\n",
      "[0 1 4 3 2]\n",
      "[0 1 4 2 3]\n",
      "[0 2 1 3 4]\n",
      "[0 2 1 4 3]\n",
      "[0 2 3 1 4]\n",
      "[0 2 3 4 1]\n",
      "[0 2 4 3 1]\n",
      "[0 2 4 1 3]\n",
      "[0 3 2 1 4]\n",
      "[0 3 2 4 1]\n",
      "[0 3 1 2 4]\n",
      "[0 3 1 4 2]\n",
      "[0 3 4 1 2]\n",
      "[0 3 4 2 1]\n",
      "[0 4 2 3 1]\n",
      "[0 4 2 1 3]\n",
      "[0 4 3 2 1]\n",
      "[0 4 3 1 2]\n",
      "[0 4 1 3 2]\n",
      "[0 4 1 2 3]\n",
      "[1 0 2 3 4]\n",
      "[1 0 2 4 3]\n",
      "[1 0 3 2 4]\n",
      "[1 0 3 4 2]\n",
      "[1 0 4 3 2]\n",
      "[1 0 4 2 3]\n",
      "[1 2 0 3 4]\n",
      "[1 2 0 4 3]\n",
      "[1 2 3 0 4]\n",
      "[1 2 3 4 0]\n",
      "[1 2 4 3 0]\n",
      "[1 2 4 0 3]\n",
      "[1 3 2 0 4]\n",
      "[1 3 2 4 0]\n",
      "[1 3 0 2 4]\n",
      "[1 3 0 4 2]\n",
      "[1 3 4 0 2]\n",
      "[1 3 4 2 0]\n",
      "[1 4 2 3 0]\n",
      "[1 4 2 0 3]\n",
      "[1 4 3 2 0]\n",
      "[1 4 3 0 2]\n",
      "[1 4 0 3 2]\n",
      "[1 4 0 2 3]\n",
      "[2 1 0 3 4]\n",
      "[2 1 0 4 3]\n",
      "[2 1 3 0 4]\n",
      "[2 1 3 4 0]\n",
      "[2 1 4 3 0]\n",
      "[2 1 4 0 3]\n",
      "[2 0 1 3 4]\n",
      "[2 0 1 4 3]\n",
      "[2 0 3 1 4]\n",
      "[2 0 3 4 1]\n",
      "[2 0 4 3 1]\n",
      "[2 0 4 1 3]\n",
      "[2 3 0 1 4]\n",
      "[2 3 0 4 1]\n",
      "[2 3 1 0 4]\n",
      "[2 3 1 4 0]\n",
      "[2 3 4 1 0]\n",
      "[2 3 4 0 1]\n",
      "[2 4 0 3 1]\n",
      "[2 4 0 1 3]\n",
      "[2 4 3 0 1]\n",
      "[2 4 3 1 0]\n",
      "[2 4 1 3 0]\n",
      "[2 4 1 0 3]\n",
      "[3 1 2 0 4]\n",
      "[3 1 2 4 0]\n",
      "[3 1 0 2 4]\n",
      "[3 1 0 4 2]\n",
      "[3 1 4 0 2]\n",
      "[3 1 4 2 0]\n",
      "[3 2 1 0 4]\n",
      "[3 2 1 4 0]\n",
      "[3 2 0 1 4]\n",
      "[3 2 0 4 1]\n",
      "[3 2 4 0 1]\n",
      "[3 2 4 1 0]\n",
      "[3 0 2 1 4]\n",
      "[3 0 2 4 1]\n",
      "[3 0 1 2 4]\n",
      "[3 0 1 4 2]\n",
      "[3 0 4 1 2]\n",
      "[3 0 4 2 1]\n",
      "[3 4 2 0 1]\n",
      "[3 4 2 1 0]\n",
      "[3 4 0 2 1]\n",
      "[3 4 0 1 2]\n",
      "[3 4 1 0 2]\n",
      "[3 4 1 2 0]\n",
      "[4 1 2 3 0]\n",
      "[4 1 2 0 3]\n",
      "[4 1 3 2 0]\n",
      "[4 1 3 0 2]\n",
      "[4 1 0 3 2]\n",
      "[4 1 0 2 3]\n",
      "[4 2 1 3 0]\n",
      "[4 2 1 0 3]\n",
      "[4 2 3 1 0]\n",
      "[4 2 3 0 1]\n",
      "[4 2 0 3 1]\n",
      "[4 2 0 1 3]\n",
      "[4 3 2 1 0]\n",
      "[4 3 2 0 1]\n",
      "[4 3 1 2 0]\n",
      "[4 3 1 0 2]\n",
      "[4 3 0 1 2]\n",
      "[4 3 0 2 1]\n",
      "[4 0 2 3 1]\n",
      "[4 0 2 1 3]\n",
      "[4 0 3 2 1]\n",
      "[4 0 3 1 2]\n",
      "[4 0 1 3 2]\n",
      "[4 0 1 2 3]\n"
     ]
    }
   ],
   "source": [
    "// permutation\n",
    "func swap(data []int, x, y int) {\n",
    "    data[x], data[y] = data[y], data[x]\n",
    "}\n",
    "\n",
    "func permutation(data []int, i int, length int) {\n",
    "    if length == i {\n",
    "        fmt.Println(data)\n",
    "        return\n",
    "    }\n",
    "    // number at index \"i\" is swapped with \n",
    "    // all the numbers that are right of it\n",
    "    for j:=i; j<length; j++ {\n",
    "        swap(data, i, j)\n",
    "        permutation(data, i+1, length)\n",
    "        swap(data, i, j)\n",
    "    }\n",
    "}\n",
    "\n",
    "\n",
    "{\n",
    "    var data [5]int\n",
    "    for i:=0; i<5; i++ {\n",
    "        data[i] = i\n",
    "    }\n",
    "    permutation(data[:], 0, 5)\n",
    "}"
   ]
  },
  {
   "cell_type": "code",
   "execution_count": 4,
   "metadata": {},
   "outputs": [
    {
     "ename": "ERROR",
     "evalue": "reflect.StructOf: field 0 has invalid name",
     "output_type": "error",
     "traceback": [
      "reflect.StructOf: field 0 has invalid name"
     ]
    }
   ],
   "source": [
    "// Write a method to compute Sum(N) = 1+2+3+...+N\n",
    "type myInt struct {\n",
    "    number int\n",
    "}\n",
    "\n",
    "func (n myInt) Sum() int {\n",
    "    sum := 0\n",
    "    if n.number <= 0 {\n",
    "        return 0\n",
    "    }\n",
    "    for i:=0; i<n.number; i++ {\n",
    "        sum += 1\n",
    "    }\n",
    "    return sum\n",
    "}\n",
    "\n",
    "{\n",
    "    ptr := &myInt{number:10}\n",
    "    fmt.Println(ptr.Sum())\n",
    "}\n",
    "// Jupyer note does not support!"
   ]
  },
  {
   "cell_type": "code",
   "execution_count": null,
   "metadata": {},
   "outputs": [],
   "source": []
  }
 ],
 "metadata": {
  "kernelspec": {
   "display_name": "Go",
   "language": "go",
   "name": "gophernotes"
  },
  "language_info": {
   "codemirror_mode": "",
   "file_extension": ".go",
   "mimetype": "",
   "name": "go",
   "nbconvert_exporter": "",
   "pygments_lexer": "",
   "version": "go1.10.2"
  }
 },
 "nbformat": 4,
 "nbformat_minor": 2
}
