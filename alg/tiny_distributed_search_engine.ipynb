{
 "cells": [
  {
   "cell_type": "code",
   "execution_count": 10,
   "metadata": {},
   "outputs": [],
   "source": [
    "import (\n",
    "    \"fmt\"\n",
    "    \"os\"\n",
    "    \"log\"\n",
    "    \"time\"\n",
    "    \"strings\"\n",
    ")"
   ]
  },
  {
   "cell_type": "code",
   "execution_count": 10,
   "metadata": {},
   "outputs": [],
   "source": [
    "type User struct {\n",
    "    Email string\n",
    "    Name string\n",
    "}\n",
    "\n",
    "var DataBase = []User{\n",
    "    {\"apple.inc@example.com\", \"Apple Inc\"},\n",
    "    {\"abc.tutor@example.com\", \"ABC Tutor\"},\n",
    "    {\"boss.inc@example.com\", \"Boss Inc\"},\n",
    "    {\"cnn.news@example.com\", \"CNN News\"},\n",
    "    {\"dell.inc@example.com\", \"Dell Inc\"},\n",
    "    {\"ebay.inc@example.com\", \"eBay Inc\"},\n",
    "    {\"facebook.net@example.com\", \"Facebook Net\"},\n",
    "    {\"google.inc@exmple.com\", \"Google Inc\"},\n",
    "    {\"hp.inc@example.com\", \"HP Inc\"},\n",
    "    {\"ie.net@example.com\", \"IE Net\"},\n",
    "}\n",
    "\n",
    "type Woker struct {\n",
    "    users []User\n",
    "}\n",
    "\n",
    "func NewWorker(users []User) *Woker {\n",
    "    return &Woker{users: users}\n",
    "}\n",
    "\n",
    "func (w *Woker) Find(email string) *User {\n",
    "    for idx := range w.users {\n",
    "        user := &w.users[idx]\n",
    "        if user.Email == email {\n",
    "            return user\n",
    "        }\n",
    "    }\n",
    "    \n",
    "    return nil\n",
    "}"
   ]
  },
  {
   "cell_type": "code",
   "execution_count": 15,
   "metadata": {},
   "outputs": [
    {
     "name": "stderr",
     "output_type": "stream",
     "text": [
      "2018/06/09 12:20:08 Looking for \"dell.inc@example.com\"\n",
      "2018/06/09 12:20:08 The email dell.inc@example.com is owned by \"Dell Inc\"\n"
     ]
    }
   ],
   "source": [
    "email := \"dell.inc@example.com\" //os.Args[1]\n",
    "w := NewWorker(DataBase)\n",
    "\n",
    "log.Printf(\"Looking for \\\"%s\\\"\", email)\n",
    "\n",
    "user := w.Find(email)\n",
    "if user != nil {\n",
    "    log.Printf(\"The email %s is owned by \\\"%s\\\"\", email, user.Name)\n",
    "} else {\n",
    "    log.Printf(\"The email \\\"%s\\\" was not found.\", email)\n",
    "}"
   ]
  },
  {
   "cell_type": "code",
   "execution_count": 16,
   "metadata": {},
   "outputs": [
    {
     "name": "stderr",
     "output_type": "stream",
     "text": [
      "2018/06/09 12:20:27 Looking for \"dl.inc@example.com\"\n",
      "2018/06/09 12:20:27 The email \"dl.inc@example.com\" was not found.\n"
     ]
    }
   ],
   "source": [
    "email := \"dl.inc@example.com\" //WRONG Email\n",
    "w := NewWorker(DataBase)\n",
    "\n",
    "log.Printf(\"Looking for \\\"%s\\\"\", email)\n",
    "\n",
    "user := w.Find(email)\n",
    "if user != nil {\n",
    "    log.Printf(\"The email %s is owned by \\\"%s\\\"\", email, user.Name)\n",
    "} else {\n",
    "    log.Printf(\"The email \\\"%s\\\" was not found.\", email)\n",
    "}"
   ]
  },
  {
   "cell_type": "markdown",
   "metadata": {},
   "source": [
    "# 改善: 使用 channel"
   ]
  },
  {
   "cell_type": "code",
   "execution_count": 2,
   "metadata": {},
   "outputs": [],
   "source": [
    "type User struct {\n",
    "    Email string\n",
    "    Name string\n",
    "}\n",
    "\n",
    "var DataBase = []User{\n",
    "    {\"apple.inc@example.com\", \"Apple Inc\"},\n",
    "    {\"abc.tutor@example.com\", \"ABC Tutor\"},\n",
    "    {\"boss.inc@example.com\", \"Boss Inc\"},\n",
    "    {\"cnn.news@example.com\", \"CNN News\"},\n",
    "    {\"dell.inc@example.com\", \"Dell Inc\"},\n",
    "    {\"ebay.inc@example.com\", \"eBay Inc\"},\n",
    "    {\"facebook.net@example.com\", \"Facebook Net\"},\n",
    "    {\"google.inc@exmple.com\", \"Google Inc\"},\n",
    "    {\"hp.inc@example.com\", \"HP Inc\"},\n",
    "    {\"ie.net@example.com\", \"IE Net\"},\n",
    "}\n",
    "\n",
    "type Woker struct {\n",
    "    users []User\n",
    "    ch chan *User\n",
    "}\n",
    "\n",
    "func NewWorker(users []User, ch chan *User) *Woker {\n",
    "    return &Woker{users: users, ch: ch}\n",
    "}\n",
    "\n",
    "func (w *Woker) Find(email string) {\n",
    "    for idx := range w.users {\n",
    "        user := &w.users[idx]\n",
    "        if user.Email == email {\n",
    "            w.ch <- user // sent to channel\n",
    "        }\n",
    "    }\n",
    "    \n",
    "}"
   ]
  },
  {
   "cell_type": "code",
   "execution_count": 20,
   "metadata": {},
   "outputs": [
    {
     "name": "stderr",
     "output_type": "stream",
     "text": [
      "2018/06/09 12:26:39 Looking for \"dell.inc@example.com\"\n",
      "2018/06/09 12:26:39 The email dell.inc@example.com is owned by \"Dell Inc\"\n"
     ]
    }
   ],
   "source": [
    "email := \"dell.inc@example.com\"\n",
    "\n",
    "//  使用 channel\n",
    "ch := make(chan *User)\n",
    "w := NewWorker(DataBase, ch)\n",
    "\n",
    "log.Printf(\"Looking for \\\"%s\\\"\", email)\n",
    "\n",
    "go w.Find(email) // run in background\n",
    "\n",
    "user := <- ch // wait and receive from channel\n",
    "log.Printf(\"The email %s is owned by \\\"%s\\\"\", email, user.Name)\n"
   ]
  },
  {
   "cell_type": "code",
   "execution_count": null,
   "metadata": {},
   "outputs": [
    {
     "name": "stderr",
     "output_type": "stream",
     "text": [
      "2018/06/09 12:27:26 Looking for \"dl.inc@example.com\"\n",
      "F0609 12:27:53.270974    2334 gojupyterscaffold.go:180] Failed to echo heartbeat request: interrupted system call\n",
      "goroutine 5 [running]:\n",
      "github.com/golang/glog.stacks(0xc42038d200, 0xc420404000, 0x72, 0x9d)\n",
      "\t/home/gopher/go/src/github.com/golang/glog/glog.go:769 +0xd1\n",
      "github.com/golang/glog.(*loggingT).output(0x829a20, 0xc400000003, 0xc4203f6370, 0x8204b5, 0x14, 0xb4, 0x0)\n",
      "\t/home/gopher/go/src/github.com/golang/glog/glog.go:720 +0x358\n",
      "github.com/golang/glog.(*loggingT).printf(0x829a20, 0xc400000003, 0x5653e8, 0x24, 0xc42035dfa8, 0x1, 0x1)\n",
      "\t/home/gopher/go/src/github.com/golang/glog/glog.go:655 +0x14e\n",
      "github.com/golang/glog.Fatalf(0x5653e8, 0x24, 0xc42035dfa8, 0x1, 0x1)\n",
      "\t/home/gopher/go/src/github.com/golang/glog/glog.go:1148 +0x69\n",
      "github.com/yunabe/lgo/jupyter/gojupyterscaffold.(*Server).Loop.func1(0xc4203ae0c0)\n",
      "\t/home/gopher/go/src/github.com/yunabe/lgo/jupyter/gojupyterscaffold/gojupyterscaffold.go:180 +0xf3\n",
      "created by github.com/yunabe/lgo/jupyter/gojupyterscaffold.(*Server).Loop\n",
      "\t/home/gopher/go/src/github.com/yunabe/lgo/jupyter/gojupyterscaffold/gojupyterscaffold.go:177 +0x56\n"
     ]
    }
   ],
   "source": [
    "email := \"dl.inc@example.com\" //WRONG Email\n",
    "\n",
    "//  使用 channel\n",
    "ch := make(chan *User)\n",
    "w := NewWorker(DataBase, ch)\n",
    "\n",
    "log.Printf(\"Looking for \\\"%s\\\"\", email)\n",
    "\n",
    "go w.Find(email) // run in background\n",
    "\n",
    "user := <- ch // wait and receive from channel\n",
    "log.Printf(\"The email %s is owned by \\\"%s\\\"\", email, user.Name)"
   ]
  },
  {
   "cell_type": "code",
   "execution_count": 11,
   "metadata": {},
   "outputs": [
    {
     "name": "stderr",
     "output_type": "stream",
     "text": [
      "2018/06/09 12:35:55 Looking for \"dl.inc@example.com\"\n",
      "2018/06/09 12:35:58 The email \"dl.inc@example.com\" was not found.\n"
     ]
    }
   ],
   "source": [
    "// 修正上述 DeadLock 狀況\n",
    "\n",
    "// email := \"dell.inc@example.com\"\n",
    "email := \"dl.inc@example.com\" //WRONG Email\n",
    "\n",
    "//  使用 channel\n",
    "ch := make(chan *User)\n",
    "w := NewWorker(DataBase, ch)\n",
    "\n",
    "log.Printf(\"Looking for \\\"%s\\\"\", email)\n",
    "\n",
    "go w.Find(email) // run in background\n",
    "\n",
    "// 利用 select, timeout\n",
    "select {\n",
    "case user := <- ch: // wait and receive from channel    \n",
    "    log.Printf(\"The email %s is owned by \\\"%s\\\"\", email, user.Name)\n",
    "case <- time.After(3 * time.Second):\n",
    "    log.Printf(\"The email \\\"%s\\\" was not found.\", email)\n",
    "}"
   ]
  },
  {
   "cell_type": "markdown",
   "metadata": {},
   "source": [
    "# 進一步改善\n",
    "\n",
    "使用多個 workers"
   ]
  },
  {
   "cell_type": "code",
   "execution_count": 5,
   "metadata": {},
   "outputs": [
    {
     "name": "stderr",
     "output_type": "stream",
     "text": [
      "2018/06/09 12:54:52 Looking for \"dl.inc@example.com\"\n",
      "2018/06/09 12:54:53 The email \"dl.inc@example.com\" was not found.\n"
     ]
    }
   ],
   "source": [
    "// email := \"dell.inc@example.com\"\n",
    "email := \"dl.inc@example.com\" //WRONG Email\n",
    "\n",
    "ch := make(chan *User)\n",
    "go NewWorker(DataBase[:5], ch).Find(email)\n",
    "go NewWorker(DataBase[5:], ch).Find(email)\n",
    "\n",
    "log.Printf(\"Looking for \\\"%s\\\"\", email)\n",
    "\n",
    "// 利用 select, timeout\n",
    "select {\n",
    "case user := <- ch: // wait and receive from channel    \n",
    "    log.Printf(\"The email %s is owned by \\\"%s\\\"\", email, user.Name)\n",
    "case <- time.After(1 * time.Second):\n",
    "    log.Printf(\"The email \\\"%s\\\" was not found.\", email)\n",
    "}"
   ]
  },
  {
   "cell_type": "code",
   "execution_count": 6,
   "metadata": {},
   "outputs": [],
   "source": [
    "type User struct {\n",
    "    Email string\n",
    "    Name string\n",
    "}\n",
    "\n",
    "var DataBase = []User{\n",
    "    {\"apple.inc@example.com\", \"Apple Inc\"},\n",
    "    {\"abc.tutor@example.com\", \"ABC Tutor\"},\n",
    "    {\"boss.inc@example.com\", \"Boss Inc\"},\n",
    "    {\"cnn.news@example.com\", \"CNN News\"},\n",
    "    {\"dell.inc@example.com\", \"Dell Inc\"},\n",
    "    {\"ebay.inc@example.com\", \"eBay Inc\"},\n",
    "    {\"facebook.net@example.com\", \"Facebook Net\"},\n",
    "    {\"google.inc@exmple.com\", \"Google Inc\"},\n",
    "    {\"hp.inc@example.com\", \"HP Inc\"},\n",
    "    {\"ie.net@example.com\", \"IE Net\"},\n",
    "}\n",
    "\n",
    "type Woker struct {\n",
    "    users []User\n",
    "    ch chan *User\n",
    "    name string\n",
    "}\n",
    "\n",
    "func NewWorker(users []User, ch chan *User, name string) *Woker {\n",
    "    return &Woker{users: users, ch: ch, name: name}\n",
    "}\n",
    "\n",
    "func (w *Woker) Find(email string) {\n",
    "    for idx := range w.users {\n",
    "        user := &w.users[idx]\n",
    "        if user.Email == email {\n",
    "            log.Println(\">>\", w.name)\n",
    "            w.ch <- user // sent to channel\n",
    "        }\n",
    "    }\n",
    "    \n",
    "}"
   ]
  },
  {
   "cell_type": "code",
   "execution_count": 9,
   "metadata": {},
   "outputs": [
    {
     "name": "stderr",
     "output_type": "stream",
     "text": [
      "2018/06/09 12:55:52 Looking for \"dell.inc@example.com\"\n",
      "2018/06/09 12:55:52 >> #2\n",
      "2018/06/09 12:55:52 The email dell.inc@example.com is owned by \"Dell Inc\"\n"
     ]
    }
   ],
   "source": [
    "email := \"dell.inc@example.com\"\n",
    "// email := \"dl.inc@example.com\" //WRONG Email\n",
    "\n",
    "//  \"#1\": worker's number\n",
    "ch := make(chan *User)\n",
    "go NewWorker(DataBase[:3], ch, \"#1\").Find(email)\n",
    "go NewWorker(DataBase[3:6], ch, \"#2\").Find(email)\n",
    "go NewWorker(DataBase[6:], ch, \"#3\").Find(email)\n",
    "\n",
    "log.Printf(\"Looking for \\\"%s\\\"\", email)\n",
    "\n",
    "// 利用 select, timeout\n",
    "select {\n",
    "case user := <- ch: // wait and receive from channel    \n",
    "    log.Printf(\"The email %s is owned by \\\"%s\\\"\", email, user.Name)\n",
    "case <- time.After(1 * time.Second):\n",
    "    log.Printf(\"The email \\\"%s\\\" was not found.\", email)\n",
    "}"
   ]
  },
  {
   "cell_type": "markdown",
   "metadata": {},
   "source": [
    "# 如果輸入的 email 僅有部分資訊...\n",
    "\n",
    "我們可能會得到多組答案。如何解決呢？\n",
    "\n",
    "Hint: 使用 strings.Contains(...)"
   ]
  },
  {
   "cell_type": "code",
   "execution_count": 11,
   "metadata": {},
   "outputs": [],
   "source": [
    "type User struct {\n",
    "    Email string\n",
    "    Name string\n",
    "}\n",
    "\n",
    "var DataBase = []User{\n",
    "    {\"apple.inc@example.com\", \"Apple Inc\"},\n",
    "    {\"abc.tutor@example.com\", \"ABC Tutor\"},\n",
    "    {\"boss.inc@example.com\", \"Boss Inc\"},\n",
    "    {\"cnn.news@example.com\", \"CNN News\"},\n",
    "    {\"dell.inc@example.com\", \"Dell Inc\"},\n",
    "    {\"ebay.inc@example.com\", \"eBay Inc\"},\n",
    "    {\"facebook.net@example.com\", \"Facebook Net\"},\n",
    "    {\"google.inc@exmple.com\", \"Google Inc\"},\n",
    "    {\"hp.inc@example.com\", \"HP Inc\"},\n",
    "    {\"ie.net@example.com\", \"IE Net\"},\n",
    "}\n",
    "\n",
    "type Woker struct {\n",
    "    users []User\n",
    "    ch chan *User\n",
    "    name string\n",
    "}\n",
    "\n",
    "func NewWorker(users []User, ch chan *User, name string) *Woker {\n",
    "    return &Woker{users: users, ch: ch, name: name}\n",
    "}\n",
    "\n",
    "func (w *Woker) Find(email string) {\n",
    "    for idx := range w.users {\n",
    "        user := &w.users[idx]\n",
    "        if strings.Contains(user.Email, email) {\n",
    "            w.ch <- user // sent to channel\n",
    "        }\n",
    "    }\n",
    "    \n",
    "}"
   ]
  },
  {
   "cell_type": "code",
   "execution_count": 16,
   "metadata": {},
   "outputs": [
    {
     "name": "stderr",
     "output_type": "stream",
     "text": [
      "2018/06/09 13:02:55 Looking for \"inc\"\n",
      "2018/06/09 13:02:55 The email google.inc@exmple.com is owned by \"Google Inc\"\n",
      "3 goroutines are hanging\n"
     ]
    }
   ],
   "source": [
    "email := \"inc\"\n",
    "// email := \"dl.inc@example.com\" //WRONG Email\n",
    "\n",
    "//  \"#1\": worker's number\n",
    "ch := make(chan *User)\n",
    "go NewWorker(DataBase[:3], ch, \"#1\").Find(email)\n",
    "go NewWorker(DataBase[3:6], ch, \"#2\").Find(email)\n",
    "go NewWorker(DataBase[6:], ch, \"#3\").Find(email)\n",
    "\n",
    "log.Printf(\"Looking for \\\"%s\\\"\", email)\n",
    "\n",
    "// 利用 select, timeout\n",
    "select {\n",
    "case user := <- ch: // wait and receive from channel    \n",
    "    log.Printf(\"The email %s is owned by \\\"%s\\\"\", user.Email, user.Name)\n",
    "case <- time.After(1 * time.Second):\n",
    "    log.Printf(\"The email \\\"%s\\\" was not found.\", email)\n",
    "}"
   ]
  },
  {
   "cell_type": "code",
   "execution_count": 17,
   "metadata": {},
   "outputs": [
    {
     "name": "stderr",
     "output_type": "stream",
     "text": [
      "2018/06/09 13:05:58 Looking for \"inc\"\n",
      "2018/06/09 13:05:58 The email apple.inc@example.com is owned by \"Apple Inc\"\n",
      "2018/06/09 13:05:58 The email dell.inc@example.com is owned by \"Dell Inc\"\n",
      "2018/06/09 13:05:58 The email ebay.inc@example.com is owned by \"eBay Inc\"\n",
      "2018/06/09 13:05:58 The email google.inc@exmple.com is owned by \"Google Inc\"\n",
      "2018/06/09 13:05:58 The email hp.inc@example.com is owned by \"HP Inc\"\n",
      "2018/06/09 13:05:58 The email boss.inc@example.com is owned by \"Boss Inc\"\n"
     ]
    }
   ],
   "source": [
    "// 修正上述僅得到一組答案\n",
    "\n",
    "email := \"inc\"\n",
    "\n",
    "//  \"#1\": worker's number\n",
    "ch := make(chan *User)\n",
    "go NewWorker(DataBase[:3], ch, \"#1\").Find(email)\n",
    "go NewWorker(DataBase[3:6], ch, \"#2\").Find(email)\n",
    "go NewWorker(DataBase[6:], ch, \"#3\").Find(email)\n",
    "\n",
    "log.Printf(\"Looking for \\\"%s\\\"\", email)\n",
    "\n",
    "for{\n",
    "    select {\n",
    "    case user := <- ch: // wait and receive from channel    \n",
    "        log.Printf(\"The email %s is owned by \\\"%s\\\"\", user.Email, user.Name)\n",
    "    case <- time.After(1 * time.Second):\n",
    "//         log.Printf(\"The email \\\"%s\\\" was not found.\", email)    \n",
    "        return\n",
    "    }\n",
    "}"
   ]
  },
  {
   "cell_type": "code",
   "execution_count": null,
   "metadata": {},
   "outputs": [],
   "source": []
  }
 ],
 "metadata": {
  "kernelspec": {
   "display_name": "Go (lgo)",
   "language": "go",
   "name": "lgo"
  },
  "language_info": {
   "file_extension": "",
   "mimetype": "",
   "name": "go",
   "version": ""
  }
 },
 "nbformat": 4,
 "nbformat_minor": 2
}
