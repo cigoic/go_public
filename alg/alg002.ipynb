{
 "cells": [
  {
   "cell_type": "code",
   "execution_count": 2,
   "metadata": {},
   "outputs": [],
   "source": [
    "import (\n",
    "    \"fmt\"\n",
    "    \"math\"\n",
    ")"
   ]
  },
  {
   "cell_type": "markdown",
   "metadata": {},
   "source": [
    "# Array Questions\n",
    "\n",
    "### Sum List\n",
    "Write a method that will return the sum of all the elements of the integer list, given list as an input argument.\n",
    "\n",
    "寫一個 method 回傳整數 list 中所有元素總和"
   ]
  },
  {
   "cell_type": "code",
   "execution_count": 5,
   "metadata": {},
   "outputs": [
    {
     "name": "stdout",
     "output_type": "stream",
     "text": [
      "150\n"
     ]
    }
   ],
   "source": [
    "func sumArray(data []int) int {\n",
    "    size := len(data)\n",
    "    sum := 0\n",
    "    \n",
    "    for idx := 0; idx < size; idx++ {\n",
    "        sum = sum + data[idx]\n",
    "    }\n",
    "    return sum\n",
    "}\n",
    "\n",
    "{\n",
    "    lst_num := []int{10,20,30,40,50}\n",
    "    fmt.Println(sumArray(lst_num))\n",
    "}"
   ]
  },
  {
   "cell_type": "markdown",
   "metadata": {},
   "source": [
    "### Sequential Search\n",
    "\n",
    "Write a method, which will search a list for some given value."
   ]
  },
  {
   "cell_type": "code",
   "execution_count": 13,
   "metadata": {},
   "outputs": [
    {
     "name": "stdout",
     "output_type": "stream",
     "text": [
      "false\n",
      "true\n"
     ]
    }
   ],
   "source": [
    "func findNum(data []int, num int) bool {\n",
    "    for i := 0; i < len(data); i++ {\n",
    "        if num == data[i] {\n",
    "            return true\n",
    "        }\n",
    "    }\n",
    "    return false\n",
    "}\n",
    "\n",
    "{\n",
    "    lst_num := []int{100,20,3,40,50}\n",
    "    fmt.Println(findNum(lst_num, 2))\n",
    "    fmt.Println(findNum(lst_num, 20))\n",
    "}"
   ]
  },
  {
   "cell_type": "markdown",
   "metadata": {},
   "source": [
    "上述範例中，帶入的數值 list 沒有排序，如果有排序，則可以使用 binary search\n",
    "\n",
    "### Binary Search\n",
    "Search a sorted list."
   ]
  },
  {
   "cell_type": "code",
   "execution_count": 12,
   "metadata": {},
   "outputs": [
    {
     "name": "stdout",
     "output_type": "stream",
     "text": [
      "false\n",
      "true\n"
     ]
    }
   ],
   "source": [
    "func binarySearch(data []int, num int) bool {\n",
    "    var mid int\n",
    "    low := 0\n",
    "    high := len(data) - 1\n",
    "    \n",
    "    for low <= high {\n",
    "        mid = low + (high - low)/2\n",
    "        \n",
    "        if data[mid] == num {\n",
    "            return true\n",
    "        } else {\n",
    "            if data[mid] < num {\n",
    "                low = mid + 1\n",
    "            } else {\n",
    "                high = mid - 1\n",
    "            }\n",
    "        }\n",
    "    }\n",
    "    return false\n",
    "}\n",
    "\n",
    "{\n",
    "    lst_num := []int{10,20,30,40,50}\n",
    "    fmt.Println(binarySearch(lst_num, 2))\n",
    "    fmt.Println(binarySearch(lst_num, 40))\n",
    "}"
   ]
  },
  {
   "cell_type": "markdown",
   "metadata": {},
   "source": [
    "### *Rotating a list by K positions.\n",
    "Given a list, you need to rotate its elements K number of times. For example, a list [10,20,30,40,50,60] rotate by 2 positions to [30,40,50,60,10,20]"
   ]
  },
  {
   "cell_type": "code",
   "execution_count": 23,
   "metadata": {},
   "outputs": [
    {
     "name": "stdout",
     "output_type": "stream",
     "text": [
      "[4 3 2 1 5 6 7 8 9 10]\n",
      "[4 3 2 1 10 9 8 7 6 5]\n",
      "[5 6 7 8 9 10 1 2 3 4]\n"
     ]
    }
   ],
   "source": [
    "func reversNum(data []int, start, end int) {\n",
    "    i := start\n",
    "    j := end\n",
    "    for  i < j {\n",
    "        data[i], data[j] = data[j], data[i]\n",
    "        i++\n",
    "        j--\n",
    "    }\n",
    "    fmt.Println(data)\n",
    "}\n",
    "\n",
    "func rotK(data []int, k int) {\n",
    "    size := len(data)\n",
    "    reversNum(data, 0, k-1)\n",
    "    reversNum(data, k, size-1)\n",
    "    reversNum(data, 0, size-1)\n",
    "}\n",
    "\n",
    "{\n",
    "    lst_num := []int{1,2,3,4,5,6,7,8,9,10}\n",
    "    rotK(lst_num, 4)\n",
    "}"
   ]
  },
  {
   "cell_type": "markdown",
   "metadata": {},
   "source": [
    "### *Find the largest sum contiguous subarray.\n",
    "Given a list of positive and negative integers, find a contiguous subarray whose sum (sum of elements) is maximum."
   ]
  },
  {
   "cell_type": "code",
   "execution_count": 5,
   "metadata": {},
   "outputs": [
    {
     "name": "stdout",
     "output_type": "stream",
     "text": [
      "Max sub array sum: 10\n"
     ]
    }
   ],
   "source": [
    "func maxSum(data []int) int {\n",
    "    size := len(data)\n",
    "    maxSoFar := 0\n",
    "    maxFinal := 0\n",
    "    \n",
    "    for i := 0; i < size; i++ {\n",
    "        maxFinal = maxFinal + data[i]\n",
    "        \n",
    "        if maxFinal < 0 {\n",
    "            maxFinal = 0\n",
    "        }\n",
    "        if maxSoFar < maxFinal {\n",
    "            maxSoFar = maxFinal\n",
    "        }\n",
    "    }\n",
    "    return maxSoFar\n",
    "}\n",
    "\n",
    "{\n",
    "    data := []int{1,-2,3,4,-4,6,-14,8,2}\n",
    "    fmt.Println(\"Max sub array sum:\", maxSum(data))\n",
    "}"
   ]
  },
  {
   "cell_type": "markdown",
   "metadata": {},
   "source": [
    "### *Concept of Stack\n",
    "\n",
    "a memory where values are stored and retrieved in LIFO manner.\n",
    "\n",
    "* push - add data to stack\n",
    "* pop - remove data from stack\n",
    "\n",
    "設計一個空的 stack, 分別填入 1,2,3,再依次刪除。\n",
    "\n",
    "#### System stack and Method Calls\n",
    "當 method 被呼叫時，執行會停住，讓控制器走到被呼叫的 method. 當被呼叫的 method 離開後，執行將接續原來停住的地方(下一個將被執行命令的位址，存在 stack 中)開始繼續執行。如下所示："
   ]
  },
  {
   "cell_type": "code",
   "execution_count": 7,
   "metadata": {},
   "outputs": [
    {
     "name": "stdout",
     "output_type": "stream",
     "text": [
      "main line1\n",
      "func1 line1\n",
      "func2 line 1\n",
      "func1 line2\n",
      "main line2\n"
     ]
    }
   ],
   "source": [
    "func f2(){\n",
    "    fmt.Println(\"func2 line 1\")\n",
    "}\n",
    "\n",
    "func f1(){\n",
    "    fmt.Println(\"func1 line1\")\n",
    "    f2()\n",
    "    fmt.Println(\"func1 line2\")\n",
    "}\n",
    "\n",
    "{\n",
    "    fmt.Println(\"main line1\")\n",
    "    f1()\n",
    "    fmt.Println(\"main line2\")\n",
    "}"
   ]
  },
  {
   "cell_type": "markdown",
   "metadata": {},
   "source": [
    "1. Methods are implemented using a stack.\n",
    "2. When a method is called the address of the next instruction is pushed into the stack.\n",
    "3. When a method is finished the address of the execution is taken out of the stack."
   ]
  },
  {
   "cell_type": "markdown",
   "metadata": {},
   "source": [
    "### Recursive Function\n",
    "\n",
    "* Speed is slower than using an iterative solution(loops)\n",
    "* W/O termination, it will run forever and consume all the stack memory"
   ]
  },
  {
   "cell_type": "code",
   "execution_count": 13,
   "metadata": {},
   "outputs": [
    {
     "name": "stdout",
     "output_type": "stream",
     "text": [
      "120\n"
     ]
    }
   ],
   "source": [
    "func factorial(i int) int {\n",
    "    if i <= 1 {  // termination condition\n",
    "        return 1\n",
    "    }\n",
    "    return i*factorial(i-1)\n",
    "}\n",
    "\n",
    "{\n",
    "    fmt.Println(factorial(5))\n",
    "}"
   ]
  },
  {
   "cell_type": "markdown",
   "metadata": {},
   "source": [
    "**\\*\\*\\*Tower of Hanoi**\n",
    "\n",
    "Given three rods and N number of disks, initially all the disks are added to first rod (the leftmost one) in decreasing size order. "
   ]
  },
  {
   "cell_type": "code",
   "execution_count": null,
   "metadata": {},
   "outputs": [],
   "source": []
  },
  {
   "cell_type": "markdown",
   "metadata": {},
   "source": [
    "#### Greatest common divisor (GCD)"
   ]
  },
  {
   "cell_type": "code",
   "execution_count": 19,
   "metadata": {},
   "outputs": [
    {
     "name": "stdout",
     "output_type": "stream",
     "text": [
      "6\n"
     ]
    }
   ],
   "source": [
    "func gcd(m, n int) int{\n",
    "    if m < n {\n",
    "        return gcd(n, m)\n",
    "    }A\n",
    "    \n",
    "    if m % n == 0 {\n",
    "        return n\n",
    "    }\n",
    "    return gcd(n, m%n)\n",
    "}\n",
    "{\n",
    "    fmt.Println(gcd(24,6))\n",
    "}"
   ]
  },
  {
   "cell_type": "markdown",
   "metadata": {},
   "source": [
    "#### Fibonacci number\n",
    "Given N find the Nth number in the Fibonacci series."
   ]
  },
  {
   "cell_type": "code",
   "execution_count": 26,
   "metadata": {},
   "outputs": [
    {
     "name": "stdout",
     "output_type": "stream",
     "text": [
      "3\n"
     ]
    }
   ],
   "source": [
    "func fib(n int) int {\n",
    "    if n <= 1{\n",
    "        return n\n",
    "    }\n",
    "    return fib(n-1) + fib(n-2)\n",
    "}\n",
    "{\n",
    "    fmt.Println(fib(4))\n",
    "}"
   ]
  },
  {
   "cell_type": "code",
   "execution_count": null,
   "metadata": {},
   "outputs": [],
   "source": []
  }
 ],
 "metadata": {
  "kernelspec": {
   "display_name": "Go",
   "language": "go",
   "name": "gophernotes"
  },
  "language_info": {
   "codemirror_mode": "",
   "file_extension": ".go",
   "mimetype": "",
   "name": "go",
   "nbconvert_exporter": "",
   "pygments_lexer": "",
   "version": "go1.10.2"
  }
 },
 "nbformat": 4,
 "nbformat_minor": 2
}
