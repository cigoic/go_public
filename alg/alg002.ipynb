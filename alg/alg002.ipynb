{
 "cells": [
  {
   "cell_type": "code",
   "execution_count": 2,
   "metadata": {},
   "outputs": [],
   "source": [
    "import (\n",
    "    \"fmt\"\n",
    "    \"math\"\n",
    ")"
   ]
  },
  {
   "cell_type": "markdown",
   "metadata": {},
   "source": [
    "# Array Questions\n",
    "\n",
    "### Sum List\n",
    "Write a method that will return the sum of all the elements of the integer list, given list as an input argument.\n",
    "\n",
    "寫一個 method 回傳整數 list 中所有元素總和"
   ]
  },
  {
   "cell_type": "code",
   "execution_count": 5,
   "metadata": {},
   "outputs": [
    {
     "name": "stdout",
     "output_type": "stream",
     "text": [
      "150\n"
     ]
    }
   ],
   "source": [
    "func sumArray(data []int) int {\n",
    "    size := len(data)\n",
    "    sum := 0\n",
    "    \n",
    "    for idx := 0; idx < size; idx++ {\n",
    "        sum = sum + data[idx]\n",
    "    }\n",
    "    return sum\n",
    "}\n",
    "\n",
    "{\n",
    "    lst_num := []int{10,20,30,40,50}\n",
    "    fmt.Println(sumArray(lst_num))\n",
    "}"
   ]
  },
  {
   "cell_type": "markdown",
   "metadata": {},
   "source": [
    "### Sequential Search\n",
    "\n",
    "Write a method, which will search a list for some given value."
   ]
  },
  {
   "cell_type": "code",
   "execution_count": 13,
   "metadata": {},
   "outputs": [
    {
     "name": "stdout",
     "output_type": "stream",
     "text": [
      "false\n",
      "true\n"
     ]
    }
   ],
   "source": [
    "func findNum(data []int, num int) bool {\n",
    "    for i := 0; i < len(data); i++ {\n",
    "        if num == data[i] {\n",
    "            return true\n",
    "        }\n",
    "    }\n",
    "    return false\n",
    "}\n",
    "\n",
    "{\n",
    "    lst_num := []int{100,20,3,40,50}\n",
    "    fmt.Println(findNum(lst_num, 2))\n",
    "    fmt.Println(findNum(lst_num, 20))\n",
    "}"
   ]
  },
  {
   "cell_type": "markdown",
   "metadata": {},
   "source": [
    "上述範例中，帶入的數值 list 沒有排序，如果有排序，則可以使用 binary search\n",
    "\n",
    "### Binary Search\n",
    "Search a sorted list."
   ]
  },
  {
   "cell_type": "code",
   "execution_count": 12,
   "metadata": {},
   "outputs": [
    {
     "name": "stdout",
     "output_type": "stream",
     "text": [
      "false\n",
      "true\n"
     ]
    }
   ],
   "source": [
    "func binarySearch(data []int, num int) bool {\n",
    "    var mid int\n",
    "    low := 0\n",
    "    high := len(data) - 1\n",
    "    \n",
    "    for low <= high {\n",
    "        mid = low + (high - low)/2\n",
    "        \n",
    "        if data[mid] == num {\n",
    "            return true\n",
    "        } else {\n",
    "            if data[mid] < num {\n",
    "                low = mid + 1\n",
    "            } else {\n",
    "                high = mid - 1\n",
    "            }\n",
    "        }\n",
    "    }\n",
    "    return false\n",
    "}\n",
    "\n",
    "{\n",
    "    lst_num := []int{10,20,30,40,50}\n",
    "    fmt.Println(binarySearch(lst_num, 2))\n",
    "    fmt.Println(binarySearch(lst_num, 40))\n",
    "}"
   ]
  },
  {
   "cell_type": "markdown",
   "metadata": {},
   "source": [
    "### *Rotating a list by K positions.\n",
    "Given a list, you need to rotate its elements K number of times. For example, a list [10,20,30,40,50,60] rotate by 2 positions to [30,40,50,60,10,20]"
   ]
  },
  {
   "cell_type": "code",
   "execution_count": 23,
   "metadata": {},
   "outputs": [
    {
     "name": "stdout",
     "output_type": "stream",
     "text": [
      "[4 3 2 1 5 6 7 8 9 10]\n",
      "[4 3 2 1 10 9 8 7 6 5]\n",
      "[5 6 7 8 9 10 1 2 3 4]\n"
     ]
    }
   ],
   "source": [
    "func reversNum(data []int, start, end int) {\n",
    "    i := start\n",
    "    j := end\n",
    "    for  i < j {\n",
    "        data[i], data[j] = data[j], data[i]\n",
    "        i++\n",
    "        j--\n",
    "    }\n",
    "    fmt.Println(data)\n",
    "}\n",
    "\n",
    "func rotK(data []int, k int) {\n",
    "    size := len(data)\n",
    "    reversNum(data, 0, k-1)\n",
    "    reversNum(data, k, size-1)\n",
    "    reversNum(data, 0, size-1)\n",
    "}\n",
    "\n",
    "{\n",
    "    lst_num := []int{1,2,3,4,5,6,7,8,9,10}\n",
    "    rotK(lst_num, 4)\n",
    "}"
   ]
  },
  {
   "cell_type": "markdown",
   "metadata": {},
   "source": [
    "### Find the largest sum contiguous subarray.\n",
    "Given a list of positive and negative integers, find a contiguous subarray whose sum (sum of elements) is maximum."
   ]
  },
  {
   "cell_type": "code",
   "execution_count": null,
   "metadata": {},
   "outputs": [],
   "source": []
  }
 ],
 "metadata": {
  "kernelspec": {
   "display_name": "Go (lgo)",
   "language": "go",
   "name": "lgo"
  },
  "language_info": {
   "file_extension": "",
   "mimetype": "",
   "name": "go",
   "version": ""
  }
 },
 "nbformat": 4,
 "nbformat_minor": 2
}
