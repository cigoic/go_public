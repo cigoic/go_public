{
 "cells": [
  {
   "cell_type": "code",
   "execution_count": 1,
   "metadata": {},
   "outputs": [],
   "source": [
    "import (\n",
    "    \"fmt\"\n",
    "    \"math\"\n",
    ")"
   ]
  },
  {
   "cell_type": "markdown",
   "metadata": {},
   "source": [
    "# Array Questions\n",
    "\n",
    "### Sum List\n",
    "Write a method that will return the sum of all the elements of the integer list, given list as an input argument.\n",
    "\n",
    "寫一個 method 回傳整數 list 中所有元素總和"
   ]
  },
  {
   "cell_type": "code",
   "execution_count": 5,
   "metadata": {},
   "outputs": [
    {
     "name": "stdout",
     "output_type": "stream",
     "text": [
      "150\n"
     ]
    }
   ],
   "source": [
    "func sumArray(data []int) int {\n",
    "    size := len(data)\n",
    "    sum := 0\n",
    "    \n",
    "    for idx := 0; idx < size; idx++ {\n",
    "        sum = sum + data[idx]\n",
    "    }\n",
    "    return sum\n",
    "}\n",
    "\n",
    "{\n",
    "    lst_num := []int{10,20,30,40,50}\n",
    "    fmt.Println(sumArray(lst_num))\n",
    "}"
   ]
  },
  {
   "cell_type": "markdown",
   "metadata": {},
   "source": [
    "### Sequential Search\n",
    "\n",
    "Write a method, which will search a list for some given value."
   ]
  },
  {
   "cell_type": "code",
   "execution_count": 13,
   "metadata": {},
   "outputs": [
    {
     "name": "stdout",
     "output_type": "stream",
     "text": [
      "false\n",
      "true\n"
     ]
    }
   ],
   "source": [
    "// [I]\n",
    "func findNum(data []int, num int) bool {\n",
    "    for i := 0; i < len(data); i++ {\n",
    "        if num == data[i] {\n",
    "            return true\n",
    "        }\n",
    "    }\n",
    "    return false\n",
    "}\n",
    "\n",
    "{\n",
    "    lst_num := []int{100,20,3,40,50}\n",
    "    fmt.Println(findNum(lst_num, 2))\n",
    "    fmt.Println(findNum(lst_num, 20))\n",
    "}"
   ]
  },
  {
   "cell_type": "code",
   "execution_count": 2,
   "metadata": {},
   "outputs": [
    {
     "name": "stdout",
     "output_type": "stream",
     "text": [
      "false\n",
      "true\n"
     ]
    }
   ],
   "source": [
    "// [II]\n",
    "func linearsearch(data []int, key int) bool {\n",
    "    for _, val := range data {\n",
    "        if val == key {\n",
    "            return true\n",
    "        }\n",
    "    }\n",
    "    return false\n",
    "}\n",
    "{\n",
    "    lst_num := []int{100,20,3,40,50}\n",
    "    fmt.Println(linearsearch(lst_num, 2))\n",
    "    fmt.Println(linearsearch(lst_num, 20))\n",
    "}"
   ]
  },
  {
   "cell_type": "markdown",
   "metadata": {},
   "source": [
    "上述範例中，帶入的數值 list 沒有排序，如果有排序，則可以使用 binary search\n",
    "\n",
    "### Binary Search\n",
    "Search a sorted list.\n",
    "搜尋已排序 list 中的元素，每次搜尋會減少一定數量的資料，有效達提升元素被搜尋到的機會。"
   ]
  },
  {
   "cell_type": "code",
   "execution_count": 12,
   "metadata": {},
   "outputs": [
    {
     "name": "stdout",
     "output_type": "stream",
     "text": [
      "false\n",
      "true\n"
     ]
    }
   ],
   "source": [
    "func binarySearch(data []int, num int) bool {\n",
    "    var mid int\n",
    "    low := 0\n",
    "    high := len(data) - 1\n",
    "    \n",
    "    for low <= high {\n",
    "        mid = low + (high - low)/2\n",
    "        \n",
    "        if data[mid] == num {\n",
    "            return true\n",
    "        } else {\n",
    "            if data[mid] < num {\n",
    "                low = mid + 1\n",
    "            } else {\n",
    "                high = mid - 1\n",
    "            }\n",
    "        }\n",
    "    }\n",
    "    return false\n",
    "}\n",
    "\n",
    "{\n",
    "    lst_num := []int{10,20,30,40,50}\n",
    "    fmt.Println(binarySearch(lst_num, 2))\n",
    "    fmt.Println(binarySearch(lst_num, 40))\n",
    "}"
   ]
  },
  {
   "cell_type": "markdown",
   "metadata": {},
   "source": [
    "### Interpolation Search\n",
    "\n",
    "改進版的 Binary Search: 假設目標是一排序過的 uniformly distributed array\n",
    "\n",
    "binary search 會從此 array 中間點的地方開始搜尋。\n",
    "interpolation search 則會從被搜尋數值所在開始搜尋。"
   ]
  },
  {
   "cell_type": "code",
   "execution_count": 7,
   "metadata": {},
   "outputs": [
    {
     "name": "stdout",
     "output_type": "stream",
     "text": [
      "1\n",
      "0\n"
     ]
    }
   ],
   "source": [
    "func interpolationSearch(data []int, key int) int {\n",
    "    min, max := data[0], data[len(data)-1]\n",
    "    low, high := 0, len(data)-1\n",
    "    \n",
    "    for {\n",
    "        if key < min {\n",
    "            return low\n",
    "        }\n",
    "        if key > max {\n",
    "            return high + 1\n",
    "        }\n",
    "        \n",
    "        //猜位置\n",
    "        var guess int\n",
    "        if high == low {\n",
    "            guess = high\n",
    "        } else {\n",
    "            size := high - low\n",
    "            offset := int(float64(size-1) * (float64(key-min) / float64(max-min)))\n",
    "            guess = low + offset\n",
    "        }\n",
    "        \n",
    "        // 找到了嗎？\n",
    "        if data[guess] == key {\n",
    "            // scan backwards for start of value range\n",
    "            for guess > 0 && data[guess-1] == key {\n",
    "                guess--\n",
    "            }\n",
    "            return guess\n",
    "        }\n",
    "        \n",
    "        // 猜的數字太高，改猜低一些\n",
    "        if data[guess] > key {\n",
    "            high = guess - 1\n",
    "            max = data[high]\n",
    "        } else {\n",
    "            low = guess + 1\n",
    "            min = data[low]\n",
    "        }\n",
    "    }\n",
    "}\n",
    "\n",
    "{\n",
    "    lst_num := []int{1,2,9,10,20,30,40,45,63,99,101}\n",
    "    fmt.Println(interpolationSearch(lst_num, 2))\n",
    "    fmt.Println(interpolationSearch(lst_num, -40))\n",
    "}"
   ]
  },
  {
   "cell_type": "markdown",
   "metadata": {},
   "source": [
    "### *Rotating a list by K positions.\n",
    "Given a list, you need to rotate its elements K number of times. For example, a list [10,20,30,40,50,60] rotate by 2 positions to [30,40,50,60,10,20]"
   ]
  },
  {
   "cell_type": "code",
   "execution_count": 23,
   "metadata": {},
   "outputs": [
    {
     "name": "stdout",
     "output_type": "stream",
     "text": [
      "[4 3 2 1 5 6 7 8 9 10]\n",
      "[4 3 2 1 10 9 8 7 6 5]\n",
      "[5 6 7 8 9 10 1 2 3 4]\n"
     ]
    }
   ],
   "source": [
    "func reversNum(data []int, start, end int) {\n",
    "    i := start\n",
    "    j := end\n",
    "    for  i < j {\n",
    "        data[i], data[j] = data[j], data[i]\n",
    "        i++\n",
    "        j--\n",
    "    }\n",
    "    fmt.Println(data)\n",
    "}\n",
    "\n",
    "func rotK(data []int, k int) {\n",
    "    size := len(data)\n",
    "    reversNum(data, 0, k-1)\n",
    "    reversNum(data, k, size-1)\n",
    "    reversNum(data, 0, size-1)\n",
    "}\n",
    "\n",
    "{\n",
    "    lst_num := []int{1,2,3,4,5,6,7,8,9,10}\n",
    "    rotK(lst_num, 4)\n",
    "}"
   ]
  },
  {
   "cell_type": "markdown",
   "metadata": {},
   "source": [
    "### *Find the largest sum contiguous subarray.\n",
    "Given a list of positive and negative integers, find a contiguous subarray whose sum (sum of elements) is maximum."
   ]
  },
  {
   "cell_type": "code",
   "execution_count": 5,
   "metadata": {},
   "outputs": [
    {
     "name": "stdout",
     "output_type": "stream",
     "text": [
      "Max sub array sum: 10\n"
     ]
    }
   ],
   "source": [
    "func maxSum(data []int) int {\n",
    "    size := len(data)\n",
    "    maxSoFar := 0\n",
    "    maxFinal := 0\n",
    "    \n",
    "    for i := 0; i < size; i++ {\n",
    "        maxFinal = maxFinal + data[i]\n",
    "        \n",
    "        if maxFinal < 0 {\n",
    "            maxFinal = 0\n",
    "        }\n",
    "        if maxSoFar < maxFinal {\n",
    "            maxSoFar = maxFinal\n",
    "        }\n",
    "    }\n",
    "    return maxSoFar\n",
    "}\n",
    "\n",
    "{\n",
    "    data := []int{1,-2,3,4,-4,6,-14,8,2}\n",
    "    fmt.Println(\"Max sub array sum:\", maxSum(data))\n",
    "}"
   ]
  },
  {
   "cell_type": "markdown",
   "metadata": {},
   "source": [
    "### *Concept of Stack\n",
    "\n",
    "a memory where values are stored and retrieved in LIFO manner.\n",
    "\n",
    "* push - add data to stack\n",
    "* pop - remove data from stack\n",
    "\n",
    "設計一個空的 stack, 分別填入 1,2,3,再依次刪除。\n",
    "\n",
    "#### System stack and Method Calls\n",
    "當 method 被呼叫時，執行會停住，讓控制器走到被呼叫的 method. 當被呼叫的 method 離開後，執行將接續原來停住的地方(下一個將被執行命令的位址，存在 stack 中)開始繼續執行。如下所示："
   ]
  },
  {
   "cell_type": "code",
   "execution_count": 7,
   "metadata": {},
   "outputs": [
    {
     "name": "stdout",
     "output_type": "stream",
     "text": [
      "main line1\n",
      "func1 line1\n",
      "func2 line 1\n",
      "func1 line2\n",
      "main line2\n"
     ]
    }
   ],
   "source": [
    "func f2(){\n",
    "    fmt.Println(\"func2 line 1\")\n",
    "}\n",
    "\n",
    "func f1(){\n",
    "    fmt.Println(\"func1 line1\")\n",
    "    f2()\n",
    "    fmt.Println(\"func1 line2\")\n",
    "}\n",
    "\n",
    "{\n",
    "    fmt.Println(\"main line1\")\n",
    "    f1()\n",
    "    fmt.Println(\"main line2\")\n",
    "}"
   ]
  },
  {
   "cell_type": "markdown",
   "metadata": {},
   "source": [
    "1. Methods are implemented using a stack.\n",
    "2. When a method is called the address of the next instruction is pushed into the stack.\n",
    "3. When a method is finished the address of the execution is taken out of the stack."
   ]
  },
  {
   "cell_type": "markdown",
   "metadata": {},
   "source": [
    "### Recursive Function\n",
    "\n",
    "* Speed is slower than using an iterative solution(loops)\n",
    "* W/O termination, it will run forever and consume all the stack memory"
   ]
  },
  {
   "cell_type": "code",
   "execution_count": 13,
   "metadata": {},
   "outputs": [
    {
     "name": "stdout",
     "output_type": "stream",
     "text": [
      "120\n"
     ]
    }
   ],
   "source": [
    "func factorial(i int) int {\n",
    "    if i <= 1 {  // termination condition\n",
    "        return 1\n",
    "    }\n",
    "    return i*factorial(i-1)\n",
    "}\n",
    "\n",
    "{\n",
    "    fmt.Println(factorial(5))\n",
    "}"
   ]
  },
  {
   "cell_type": "code",
   "execution_count": 2,
   "metadata": {},
   "outputs": [
    {
     "ename": "ERROR",
     "evalue": "reflect.Set: value of type *struct { Value int; Next *interface {} } is not assignable to type *interface {}",
     "output_type": "error",
     "traceback": [
      "reflect.Set: value of type *struct { Value int; Next *interface {} } is not assignable to type *interface {}"
     ]
    }
   ],
   "source": [
    "// Implementation of Stack\n",
    "// *Not work on Jupyter Notebook\n",
    "import (\n",
    "    \"fmt\"\n",
    ")\n",
    "\n",
    "type Node struct {\n",
    "    Value int\n",
    "    Next *Node\n",
    "}\n",
    "\n",
    "var size = 0\n",
    "var stack = new(Node)\n",
    "\n",
    "func Push(v int) bool {\n",
    "    if stack == nil {\n",
    "        stack = &Node{v, nil}\n",
    "        size = 1\n",
    "        return true\n",
    "    }\n",
    "    temp := &Node{v, nil}\n",
    "    temp.Next = stack\n",
    "    stack = temp\n",
    "    size++\n",
    "    return true\n",
    "}\n",
    "\n",
    "func Pop(t *Node) (int, bool){\n",
    "    if size == 0 {\n",
    "        return 0, false\n",
    "    }\n",
    "    if size == 1 {\n",
    "        size = 0\n",
    "        stack = nil\n",
    "        return t.Value, true\n",
    "    }\n",
    "    \n",
    "    stack = stack.Next\n",
    "    size--\n",
    "    return t.Value, true\n",
    "}\n",
    "\n",
    "func traverse(t *Node) {\n",
    "    if size == 0 {\n",
    "        fmt.Println(\"Empty Stack!\")\n",
    "        return\n",
    "    }\n",
    "    \n",
    "    for t != nil {\n",
    "        fmt.Println(\"%d -> \", t.Value)\n",
    "        t = t.Next\n",
    "    }\n",
    "    fmt.Println()\n",
    "}\n",
    "\n",
    "{\n",
    "    stack = nil\n",
    "    v, b := Pop(stack)\n",
    "    if b {\n",
    "        fmt.Println(v, \" \")\n",
    "    } else {\n",
    "        fmt.Println(\"Pop() failed!\")\n",
    "    }\n",
    "    \n",
    "    Push(100)\n",
    "    traverse(stack)\n",
    "    Push(200)\n",
    "    traverse(stack)\n",
    "    \n",
    "    for i := 0; i < 10; i++ {\n",
    "        Push(i)\n",
    "    }\n",
    "    \n",
    "    for i := 0; i < 15; i++ {\n",
    "        v, b := Pop(stack)\n",
    "        if b {\n",
    "            fmt.Println(v, \" \")\n",
    "        } else {\n",
    "            break\n",
    "        }\n",
    "    }\n",
    "    fmt.Println()\n",
    "    traverse(stack)\n",
    "}"
   ]
  },
  {
   "cell_type": "markdown",
   "metadata": {},
   "source": [
    "**\\*\\*\\*Tower of Hanoi**\n",
    "\n",
    "Given three rods and N number of disks, initially all the disks are added to first rod (the leftmost one) in decreasing size order. "
   ]
  },
  {
   "cell_type": "code",
   "execution_count": null,
   "metadata": {},
   "outputs": [],
   "source": []
  },
  {
   "cell_type": "markdown",
   "metadata": {},
   "source": [
    "#### Greatest common divisor (GCD)"
   ]
  },
  {
   "cell_type": "code",
   "execution_count": 19,
   "metadata": {},
   "outputs": [
    {
     "name": "stdout",
     "output_type": "stream",
     "text": [
      "6\n"
     ]
    }
   ],
   "source": [
    "func gcd(m, n int) int{\n",
    "    if m < n {\n",
    "        return gcd(n, m)\n",
    "    }A\n",
    "    \n",
    "    if m % n == 0 {\n",
    "        return n\n",
    "    }\n",
    "    return gcd(n, m%n)\n",
    "}\n",
    "{\n",
    "    fmt.Println(gcd(24,6))\n",
    "}"
   ]
  },
  {
   "cell_type": "markdown",
   "metadata": {},
   "source": [
    "#### Fibonacci number\n",
    "Given N find the Nth number in the Fibonacci series."
   ]
  },
  {
   "cell_type": "code",
   "execution_count": 26,
   "metadata": {},
   "outputs": [
    {
     "name": "stdout",
     "output_type": "stream",
     "text": [
      "3\n"
     ]
    }
   ],
   "source": [
    "func fib(n int) int {\n",
    "    if n <= 1{\n",
    "        return n\n",
    "    }\n",
    "    return fib(n-1) + fib(n-2)\n",
    "}\n",
    "{\n",
    "    fmt.Println(fib(4))\n",
    "}"
   ]
  },
  {
   "cell_type": "code",
   "execution_count": null,
   "metadata": {},
   "outputs": [],
   "source": []
  }
 ],
 "metadata": {
  "kernelspec": {
   "display_name": "Go",
   "language": "go",
   "name": "gophernotes"
  },
  "language_info": {
   "codemirror_mode": "",
   "file_extension": ".go",
   "mimetype": "",
   "name": "go",
   "nbconvert_exporter": "",
   "pygments_lexer": "",
   "version": "go1.10.2"
  }
 },
 "nbformat": 4,
 "nbformat_minor": 2
}
