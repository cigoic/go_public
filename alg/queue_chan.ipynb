{
 "cells": [
  {
   "cell_type": "markdown",
   "metadata": {},
   "source": [
    "# 使用 Channel 實現 Queue"
   ]
  },
  {
   "cell_type": "code",
   "execution_count": 1,
   "metadata": {},
   "outputs": [],
   "source": [
    "import \"fmt\""
   ]
  },
  {
   "cell_type": "code",
   "execution_count": 2,
   "metadata": {},
   "outputs": [],
   "source": [
    "type Queue struct {\n",
    "    items chan int\n",
    "}\n",
    "\n",
    "func (q *Queue) Enqueue(item int) {\n",
    "    //empty\n",
    "}\n",
    "\n",
    "func (q *Queue) Dequeue() int {\n",
    "    return 0\n",
    "}"
   ]
  },
  {
   "cell_type": "code",
   "execution_count": 3,
   "metadata": {},
   "outputs": [
    {
     "name": "stdout",
     "output_type": "stream",
     "text": [
      "0\n",
      "0\n",
      "0\n"
     ]
    }
   ],
   "source": [
    "{\n",
    "    q := Queue{\n",
    "        items: make(chan int, 16),\n",
    "    }\n",
    "    q.Enqueue(2)\n",
    "    q.Enqueue(8)\n",
    "    q.Enqueue(3)\n",
    "    \n",
    "    fmt.Println(q.Dequeue())\n",
    "    fmt.Println(q.Dequeue())\n",
    "    fmt.Println(q.Dequeue())\n",
    "}"
   ]
  },
  {
   "cell_type": "code",
   "execution_count": 4,
   "metadata": {},
   "outputs": [],
   "source": [
    "type Queue struct {\n",
    "    items chan int\n",
    "}\n",
    "\n",
    "func (q *Queue) Enqueue(item int) {\n",
    "    q.items <- item  // pushing item into q.items\n",
    "}\n",
    "\n",
    "func (q *Queue) Dequeue() int {\n",
    "    return <- q.items // reading from the channel\n",
    "}"
   ]
  },
  {
   "cell_type": "code",
   "execution_count": 5,
   "metadata": {},
   "outputs": [
    {
     "name": "stdout",
     "output_type": "stream",
     "text": [
      "2\n",
      "8\n",
      "3\n"
     ]
    }
   ],
   "source": [
    "{\n",
    "    q := Queue{\n",
    "        items: make(chan int, 16),\n",
    "    }\n",
    "    q.Enqueue(2)\n",
    "    q.Enqueue(8)\n",
    "    q.Enqueue(3)\n",
    "    \n",
    "    fmt.Println(q.Dequeue())\n",
    "    fmt.Println(q.Dequeue())\n",
    "    fmt.Println(q.Dequeue())\n",
    "}"
   ]
  },
  {
   "cell_type": "code",
   "execution_count": null,
   "metadata": {},
   "outputs": [],
   "source": [
    "{\n",
    "    q := Queue{\n",
    "        items: make(chan int, 16),\n",
    "    }\n",
    "    q.Enqueue(2)\n",
    "    q.Enqueue(8)\n",
    "    q.Enqueue(3)\n",
    "    \n",
    "    fmt.Println(q.Dequeue())\n",
    "    fmt.Println(q.Dequeue())\n",
    "    fmt.Println(q.Dequeue())\n",
    "    fmt.Println(q.Dequeue()) // resulting in deadlock!!!\n",
    "    fmt.Println(q.Dequeue())\n",
    "}"
   ]
  },
  {
   "cell_type": "code",
   "execution_count": null,
   "metadata": {},
   "outputs": [],
   "source": []
  }
 ],
 "metadata": {
  "kernelspec": {
   "display_name": "Go (lgo)",
   "language": "go",
   "name": "lgo"
  },
  "language_info": {
   "file_extension": "",
   "mimetype": "",
   "name": "go",
   "version": ""
  }
 },
 "nbformat": 4,
 "nbformat_minor": 2
}
